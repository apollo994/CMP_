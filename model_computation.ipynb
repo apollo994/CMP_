{
 "cells": [
  {
   "cell_type": "markdown",
   "metadata": {},
   "source": [
    "## Workflow images classification\n",
    "\n",
    "- loading of the dataset\n",
    "- preparation of the dataset\n",
    "- definition of the model\n",
    "- evaluation of the model\n",
    "- presentation of results"
   ]
  },
  {
   "cell_type": "markdown",
   "metadata": {},
   "source": [
    "## libraries"
   ]
  },
  {
   "cell_type": "code",
   "execution_count": 79,
   "metadata": {},
   "outputs": [],
   "source": [
    "import glob\n",
    "import os\n",
    "\n",
    "import pandas as pd\n",
    "import numpy as np\n",
    "\n",
    "import seaborn as sns\n",
    "import matplotlib.pyplot as plt\n",
    "\n",
    "import keras\n",
    "from keras.preprocessing.image import ImageDataGenerator\n",
    "from keras.models import Sequential\n",
    "from keras.layers import Conv2D, MaxPooling2D\n",
    "from keras.layers import Activation, Dropout, Flatten, Dense\n",
    "from keras import backend as K\n"
   ]
  },
  {
   "cell_type": "markdown",
   "metadata": {},
   "source": [
    "### Images From .tiff to dataset\n",
    "\n"
   ]
  },
  {
   "cell_type": "code",
   "execution_count": 2,
   "metadata": {},
   "outputs": [],
   "source": [
    "# create a data generator\n",
    "\n",
    "datagen = keras.preprocessing.image.ImageDataGenerator(featurewise_center=False, \n",
    "                                                       samplewise_center=False,\n",
    "                                                       featurewise_std_normalization=False,\n",
    "                                                       samplewise_std_normalization=False,\n",
    "                                                       zca_whitening=False,\n",
    "                                                       zca_epsilon=1e-06,\n",
    "                                                       rotation_range=0,\n",
    "                                                       width_shift_range=0.0,\n",
    "                                                       height_shift_range=0.0,\n",
    "                                                       brightness_range=None,\n",
    "                                                       shear_range=0.0,\n",
    "                                                       zoom_range=0.0,\n",
    "                                                       channel_shift_range=0.0,\n",
    "                                                       fill_mode='nearest',\n",
    "                                                       cval=0.0,\n",
    "                                                       horizontal_flip=False,\n",
    "                                                       vertical_flip=False,\n",
    "                                                       rescale=None,\n",
    "                                                       preprocessing_function=None,\n",
    "                                                       data_format='channels_last',\n",
    "                                                       validation_split=0.0,\n",
    "                                                       interpolation_order=1,\n",
    "                                                       dtype='float32')\n",
    "\n",
    "\n",
    "\n"
   ]
  },
  {
   "cell_type": "code",
   "execution_count": 47,
   "metadata": {},
   "outputs": [
    {
     "name": "stdout",
     "output_type": "stream",
     "text": [
      "Found 703 images belonging to 18 classes.\n",
      "Found 703 images belonging to 18 classes.\n"
     ]
    }
   ],
   "source": [
    "# load and iterate training dataset\n",
    "\n",
    "train = datagen.flow_from_directory('data/prova/', \n",
    "                                       class_mode='categorical',\n",
    "                                       batch_size=4)\n",
    "\n",
    "val = datagen.flow_from_directory('data/prova/',\n",
    "                                     class_mode='categorical',\n",
    "                                     batch_size=4)\n"
   ]
  },
  {
   "cell_type": "code",
   "execution_count": 48,
   "metadata": {},
   "outputs": [
    {
     "data": {
      "text/plain": [
       "(256, 256)"
      ]
     },
     "execution_count": 48,
     "metadata": {},
     "output_type": "execute_result"
    }
   ],
   "source": [
    "train_it.target_size"
   ]
  },
  {
   "cell_type": "code",
   "execution_count": 71,
   "metadata": {},
   "outputs": [],
   "source": [
    "model = Sequential()\n",
    "\n",
    "model.add(Conv2D(32, (3, 3), input_shape=(256, 256, 3)))\n",
    "model.add(Activation(\"relu\"))\n",
    "model.add(MaxPooling2D((2, 2)))\n",
    "model.add(Flatten())\n",
    "model.add(Dense(100))\n",
    "model.add(Activation(\"relu\"))\n",
    "model.add(Dense(18))\n",
    "model.add(Activation(\"softmax\"))"
   ]
  },
  {
   "cell_type": "code",
   "execution_count": 72,
   "metadata": {},
   "outputs": [],
   "source": [
    "model.compile(optimizer='rmsprop',\n",
    "              loss='categorical_crossentropy',\n",
    "              metrics=['accuracy'])"
   ]
  },
  {
   "cell_type": "code",
   "execution_count": 73,
   "metadata": {},
   "outputs": [
    {
     "name": "stdout",
     "output_type": "stream",
     "text": [
      "Epoch 1/2\n",
      "2/2 [==============================] - 6s 3s/step - loss: 46330.2590 - accuracy: 0.1250 - val_loss: 29734.1621 - val_accuracy: 0.0625\n",
      "Epoch 2/2\n",
      "2/2 [==============================] - 4s 2s/step - loss: 32219.2598 - accuracy: 0.1250 - val_loss: 27803.5137 - val_accuracy: 0.0000e+00\n"
     ]
    },
    {
     "data": {
      "text/plain": [
       "<keras.callbacks.callbacks.History at 0x144201990>"
      ]
     },
     "execution_count": 73,
     "metadata": {},
     "output_type": "execute_result"
    }
   ],
   "source": [
    "model.fit_generator(\n",
    "    train_it,\n",
    "    steps_per_epoch=2,\n",
    "    epochs=2,\n",
    "    validation_data=val_it,\n",
    "    validation_steps=1)"
   ]
  },
  {
   "cell_type": "code",
   "execution_count": 76,
   "metadata": {},
   "outputs": [
    {
     "ename": "NameError",
     "evalue": "name 'tf' is not defined",
     "output_type": "error",
     "traceback": [
      "\u001b[0;31m---------------------------------------------------------------------------\u001b[0m",
      "\u001b[0;31mNameError\u001b[0m                                 Traceback (most recent call last)",
      "\u001b[0;32m<ipython-input-76-0c8ab5fcc512>\u001b[0m in \u001b[0;36m<module>\u001b[0;34m\u001b[0m\n\u001b[0;32m----> 1\u001b[0;31m \u001b[0mtf\u001b[0m\u001b[0;34m.\u001b[0m\u001b[0mkeras\u001b[0m\u001b[0;34m.\u001b[0m\u001b[0mmetrics\u001b[0m\u001b[0;34m.\u001b[0m\u001b[0mPrecision\u001b[0m\u001b[0;34m(\u001b[0m\u001b[0;34m)\u001b[0m\u001b[0;34m\u001b[0m\u001b[0;34m\u001b[0m\u001b[0m\n\u001b[0m",
      "\u001b[0;31mNameError\u001b[0m: name 'tf' is not defined"
     ]
    }
   ],
   "source": []
  },
  {
   "cell_type": "code",
   "execution_count": null,
   "metadata": {},
   "outputs": [],
   "source": []
  }
 ],
 "metadata": {
  "kernelspec": {
   "display_name": "Python 3",
   "language": "python",
   "name": "python3"
  },
  "language_info": {
   "codemirror_mode": {
    "name": "ipython",
    "version": 3
   },
   "file_extension": ".py",
   "mimetype": "text/x-python",
   "name": "python",
   "nbconvert_exporter": "python",
   "pygments_lexer": "ipython3",
   "version": "3.7.7"
  }
 },
 "nbformat": 4,
 "nbformat_minor": 4
}
