{
 "cells": [
  {
   "cell_type": "markdown",
   "metadata": {},
   "source": [
    "# Tissue classifier\n",
    "\n",
    "In this notebook I'll develop a model to classify the tissue of a subset of images from CMP."
   ]
  },
  {
   "cell_type": "markdown",
   "metadata": {},
   "source": [
    "## libraries"
   ]
  },
  {
   "cell_type": "code",
   "execution_count": 1,
   "metadata": {},
   "outputs": [
    {
     "name": "stderr",
     "output_type": "stream",
     "text": [
      "Using TensorFlow backend.\n"
     ]
    }
   ],
   "source": [
    "from CMP_functions.preprocessing import *\n",
    "\n",
    "import glob\n",
    "import os\n",
    "import random \n",
    "\n",
    "import pandas as pd\n",
    "import numpy as np\n",
    "\n",
    "import seaborn as sns\n",
    "import matplotlib.pyplot as plt\n",
    "\n",
    "import keras\n",
    "from keras.preprocessing.image import ImageDataGenerator\n",
    "from keras.models import Sequential\n",
    "from keras.layers import Conv2D, MaxPooling2D\n",
    "from keras.layers import Activation, Dropout, Flatten, Dense\n",
    "from keras import backend as K"
   ]
  },
  {
   "cell_type": "markdown",
   "metadata": {},
   "source": [
    "## Data"
   ]
  },
  {
   "cell_type": "code",
   "execution_count": 2,
   "metadata": {},
   "outputs": [],
   "source": [
    "PATH_info = '../data/images_info_table.csv'\n",
    "PATH_img = '../data/images_jpeg/'\n",
    "PATH_folders = '../classification_set/'"
   ]
  },
  {
   "cell_type": "markdown",
   "metadata": {},
   "source": [
    "### Image selection \n",
    "\n",
    "- select only tissue with more than 20 images\n",
    "- split in train and validation (80-20)\n",
    "- create folder with link to the images"
   ]
  },
  {
   "cell_type": "code",
   "execution_count": 62,
   "metadata": {},
   "outputs": [
    {
     "name": "stdout",
     "output_type": "stream",
     "text": [
      "Soft Tissue not considered\n",
      "Cervix not considered\n",
      "Bladder not considered\n",
      "Thyroid not considered\n",
      "Prostate not considered\n",
      "Liver not considered\n",
      "Endometrium not considered\n",
      "Testis not considered\n",
      "Vulva not considered\n",
      "Biliary Tract not considered\n",
      "Adrenal Gland not considered\n",
      "Uterus not considered\n",
      "Placenta not considered\n"
     ]
    }
   ],
   "source": [
    "#load im info\n",
    "info_df = pd.read_csv(PATH_info)\n",
    "\n",
    "#get tissue with more than 20 images\n",
    "class_count, class_list = get_classes(info_df, 'tissue', 20)\n",
    "\n",
    "#subset im info to have only 20+ tissue images\n",
    "info_df_20 = info_df[info_df.tissue.isin(class_list)]\n",
    "\n",
    "#here i split the dataset n train and validatio\n",
    "split = 0.8\n",
    "all_im = list(info_df_20.im_id)\n",
    "\n",
    "train_size = round(len(all_im)*split)\n",
    "validation_size = len(all_im) - train_size\n",
    "\n",
    "train_im = random.sample(all_im, train_size)\n",
    "validation_im = [im for im in all_im if im not in train_im]\n",
    "\n",
    "info_df_train = info_df_20[info_df_20.im_id.isin(train_im)]\n",
    "info_df_valid = info_df_20[info_df_20.im_id.isin(validation_im)]\n",
    "\n",
    "#dictionary to be use while linking\n",
    "name_to_class_train = get_img_dict(info_df_train, class_list,'tissue')\n",
    "name_to_class_valid = get_img_dict(info_df_valid, class_list,'tissue')"
   ]
  },
  {
   "cell_type": "code",
   "execution_count": 64,
   "metadata": {},
   "outputs": [],
   "source": [
    "#folders to creates subdir\n",
    "os.mkdir(PATH_folders+'train')\n",
    "os.mkdir(PATH_folders+'validation')"
   ]
  },
  {
   "cell_type": "code",
   "execution_count": 33,
   "metadata": {},
   "outputs": [],
   "source": [
    "def create_class_folders2(class_list, data_dir):\n",
    "\n",
    "    for cl in class_list:\n",
    "        try:\n",
    "            os.mkdir(data_dir+'/'+cl)\n",
    "        except OSError:\n",
    "            print (f'Sub-directory {cl} already exists')\n",
    "        else:\n",
    "            print (f'Successfully created the sub-directory {cl}')"
   ]
  },
  {
   "cell_type": "code",
   "execution_count": 88,
   "metadata": {},
   "outputs": [],
   "source": [
    "# create_class_folders2(class_list, PATH_folders+'train/')\n",
    "# create_class_folders2(class_list, PATH_folders+'validation/')"
   ]
  },
  {
   "cell_type": "code",
   "execution_count": 87,
   "metadata": {},
   "outputs": [],
   "source": [
    "# link_images(PATH_img, name_to_class_train, PATH_folders+'train/')\n",
    "# link_images(PATH_img, name_to_class_valid, PATH_folders+'validation/')"
   ]
  },
  {
   "cell_type": "markdown",
   "metadata": {},
   "source": [
    "### Images from file to data generator\n",
    "\n"
   ]
  },
  {
   "cell_type": "code",
   "execution_count": 4,
   "metadata": {},
   "outputs": [],
   "source": [
    "# create a data generator\n",
    "\n",
    "datagen = keras.preprocessing.image.ImageDataGenerator(featurewise_center=False, \n",
    "                                                       samplewise_center=False,\n",
    "                                                       featurewise_std_normalization=False,\n",
    "                                                       samplewise_std_normalization=False,\n",
    "                                                       zca_whitening=False,\n",
    "                                                       zca_epsilon=1e-06,\n",
    "                                                       rotation_range=0,\n",
    "                                                       width_shift_range=0.0,\n",
    "                                                       height_shift_range=0.0,\n",
    "                                                       brightness_range=None,\n",
    "                                                       shear_range=0.0,\n",
    "                                                       zoom_range=0.0,\n",
    "                                                       channel_shift_range=0.0,\n",
    "                                                       fill_mode='nearest',\n",
    "                                                       cval=0.0,\n",
    "                                                       horizontal_flip=False,\n",
    "                                                       vertical_flip=False,\n",
    "                                                       rescale=None,\n",
    "                                                       preprocessing_function=None,\n",
    "                                                       data_format='channels_last',\n",
    "                                                       validation_split=0.0,\n",
    "                                                       interpolation_order=1,\n",
    "                                                       dtype='float32')\n",
    "\n",
    "\n",
    "\n"
   ]
  },
  {
   "cell_type": "code",
   "execution_count": 3,
   "metadata": {},
   "outputs": [
    {
     "ename": "NameError",
     "evalue": "name 'datagen' is not defined",
     "output_type": "error",
     "traceback": [
      "\u001b[0;31m---------------------------------------------------------------------------\u001b[0m",
      "\u001b[0;31mNameError\u001b[0m                                 Traceback (most recent call last)",
      "\u001b[0;32m<ipython-input-3-f91dfdf0daf6>\u001b[0m in \u001b[0;36m<module>\u001b[0;34m\u001b[0m\n\u001b[1;32m      1\u001b[0m \u001b[0;31m# load and iterate training dataset\u001b[0m\u001b[0;34m\u001b[0m\u001b[0;34m\u001b[0m\u001b[0;34m\u001b[0m\u001b[0m\n\u001b[1;32m      2\u001b[0m \u001b[0;34m\u001b[0m\u001b[0m\n\u001b[0;32m----> 3\u001b[0;31m train = datagen.flow_from_directory('../classification_set/train/', \n\u001b[0m\u001b[1;32m      4\u001b[0m                                        \u001b[0mclass_mode\u001b[0m\u001b[0;34m=\u001b[0m\u001b[0;34m'binary'\u001b[0m\u001b[0;34m,\u001b[0m\u001b[0;34m\u001b[0m\u001b[0;34m\u001b[0m\u001b[0m\n\u001b[1;32m      5\u001b[0m                                        batch_size=32)\n",
      "\u001b[0;31mNameError\u001b[0m: name 'datagen' is not defined"
     ]
    }
   ],
   "source": [
    "# load and iterate training dataset\n",
    "\n",
    "train = datagen.flow_from_directory('../classification_set/train/', \n",
    "                                       class_mode='categorical',\n",
    "                                       batch_size=32)\n",
    "\n",
    "val = datagen.flow_from_directory('../classification_set/validation/',\n",
    "                                     class_mode='categorical',\n",
    "                                     batch_size=32)\n"
   ]
  },
  {
   "cell_type": "code",
   "execution_count": 70,
   "metadata": {},
   "outputs": [
    {
     "data": {
      "text/plain": [
       "(256, 256)"
      ]
     },
     "execution_count": 70,
     "metadata": {},
     "output_type": "execute_result"
    }
   ],
   "source": [
    "train.target_size"
   ]
  },
  {
   "cell_type": "markdown",
   "metadata": {},
   "source": [
    "### Definition of the network"
   ]
  },
  {
   "cell_type": "code",
   "execution_count": 73,
   "metadata": {},
   "outputs": [],
   "source": [
    "model = Sequential()\n",
    "\n",
    "model.add(Conv2D(32, (3, 3), input_shape=(256, 256, 3)))\n",
    "model.add(Activation(\"relu\"))\n",
    "model.add(MaxPooling2D((2, 2)))\n",
    "model.add(Flatten())\n",
    "model.add(Dense(100))\n",
    "model.add(Activation(\"relu\"))\n",
    "model.add(Dense(14))\n",
    "model.add(Activation(\"softmax\"))\n",
    "\n",
    "model.compile(optimizer='rmsprop',\n",
    "              loss='categorical_crossentropy',\n",
    "              metrics=['accuracy'])"
   ]
  },
  {
   "cell_type": "markdown",
   "metadata": {},
   "source": [
    "### Training and validation of the network"
   ]
  },
  {
   "cell_type": "code",
   "execution_count": 74,
   "metadata": {},
   "outputs": [
    {
     "name": "stdout",
     "output_type": "stream",
     "text": [
      "Epoch 1/5\n",
      "22/22 [==============================] - 111s 5s/step - loss: 16857.5753 - accuracy: 0.1050 - val_loss: 987.8125 - val_accuracy: 0.1854\n",
      "Epoch 2/5\n",
      "22/22 [==============================] - 94s 4s/step - loss: 521.9822 - accuracy: 0.2055 - val_loss: 84.9674 - val_accuracy: 0.2177\n",
      "Epoch 3/5\n",
      "22/22 [==============================] - 93s 4s/step - loss: 15.5449 - accuracy: 0.7216 - val_loss: 27.0479 - val_accuracy: 0.0608\n",
      "Epoch 4/5\n",
      "22/22 [==============================] - 129s 6s/step - loss: 0.7413 - accuracy: 0.9388 - val_loss: 37.5198 - val_accuracy: 0.1701\n",
      "Epoch 5/5\n",
      "22/22 [==============================] - 93s 4s/step - loss: 0.1230 - accuracy: 0.9895 - val_loss: 80.3220 - val_accuracy: 0.2129\n"
     ]
    }
   ],
   "source": [
    "history = model.fit_generator(\n",
    "    train,\n",
    "    steps_per_epoch=22,\n",
    "    epochs=5,\n",
    "    validation_data=val,\n",
    "    validation_steps=22)"
   ]
  },
  {
   "cell_type": "markdown",
   "metadata": {},
   "source": [
    "### Result of the training step"
   ]
  },
  {
   "cell_type": "code",
   "execution_count": 84,
   "metadata": {},
   "outputs": [
    {
     "data": {
      "image/png": "[encoded data removed]",
      "text/plain": [
       "<Figure size 432x288 with 2 Axes>"
      ]
     },
     "metadata": {
      "needs_background": "light"
     },
     "output_type": "display_data"
    }
   ],
   "source": [
    "plt.subplot(211)\n",
    "plt.title('Loss')\n",
    "plt.plot(history.history['loss'], label='train')\n",
    "plt.plot(history.history['val_loss'], label='test')\n",
    "plt.legend()\n",
    "\n",
    "plt.subplot(212)\n",
    "plt.title('Accuracy')\n",
    "plt.plot(history.history['accuracy'], label='train')\n",
    "plt.plot(history.history['val_accuracy'], label='test')\n",
    "plt.legend()\n",
    "\n",
    "plt.show()"
   ]
  },
  {
   "cell_type": "markdown",
   "metadata": {
    "scrolled": false
   },
   "source": [
    "## Same dataset, batch size and architecture, different n of epoch and  steps"
   ]
  },
  {
   "cell_type": "code",
   "execution_count": 89,
   "metadata": {},
   "outputs": [
    {
     "name": "stdout",
     "output_type": "stream",
     "text": [
      "Epoch 1/15\n",
      "3/3 [==============================] - 16s 5s/step - loss: 0.0065 - accuracy: 1.0000 - val_loss: 23.9948 - val_accuracy: 0.1979\n",
      "Epoch 2/15\n",
      "3/3 [==============================] - 12s 4s/step - loss: 0.0060 - accuracy: 1.0000 - val_loss: 25.0105 - val_accuracy: 0.3134\n",
      "Epoch 3/15\n",
      "3/3 [==============================] - 13s 4s/step - loss: 0.0039 - accuracy: 1.0000 - val_loss: 41.1856 - val_accuracy: 0.2396\n",
      "Epoch 4/15\n",
      "3/3 [==============================] - 13s 4s/step - loss: 0.0162 - accuracy: 1.0000 - val_loss: 25.7280 - val_accuracy: 0.2687\n",
      "Epoch 5/15\n",
      "3/3 [==============================] - 11s 4s/step - loss: 0.0545 - accuracy: 0.9896 - val_loss: 50.0575 - val_accuracy: 0.1642\n",
      "Epoch 6/15\n",
      "3/3 [==============================] - 14s 5s/step - loss: 0.0023 - accuracy: 1.0000 - val_loss: 24.5767 - val_accuracy: 0.1771\n",
      "Epoch 7/15\n",
      "3/3 [==============================] - 17s 6s/step - loss: 7.0842 - accuracy: 0.8021 - val_loss: 214.9998 - val_accuracy: 0.1940\n",
      "Epoch 8/15\n",
      "3/3 [==============================] - 16s 5s/step - loss: 39.1005 - accuracy: 0.5729 - val_loss: 26.1318 - val_accuracy: 0.2083\n",
      "Epoch 9/15\n",
      "3/3 [==============================] - 15s 5s/step - loss: 1.4927 - accuracy: 0.8958 - val_loss: 17.0300 - val_accuracy: 0.1194\n",
      "Epoch 10/15\n",
      "3/3 [==============================] - 10s 3s/step - loss: 0.4083 - accuracy: 0.9615 - val_loss: 67.9842 - val_accuracy: 0.2537\n",
      "Epoch 11/15\n",
      "3/3 [==============================] - 13s 4s/step - loss: 0.7307 - accuracy: 0.9062 - val_loss: 17.2285 - val_accuracy: 0.2188\n",
      "Epoch 12/15\n",
      "3/3 [==============================] - 13s 4s/step - loss: 0.1881 - accuracy: 0.9896 - val_loss: 13.6962 - val_accuracy: 0.2687\n",
      "Epoch 13/15\n",
      "3/3 [==============================] - 14s 5s/step - loss: 0.0843 - accuracy: 1.0000 - val_loss: 15.1227 - val_accuracy: 0.2396\n",
      "Epoch 14/15\n",
      "3/3 [==============================] - 15s 5s/step - loss: 0.1791 - accuracy: 0.9896 - val_loss: 11.5053 - val_accuracy: 0.2388\n",
      "Epoch 15/15\n",
      "3/3 [==============================] - 12s 4s/step - loss: 1.9796 - accuracy: 0.9792 - val_loss: 3.6576 - val_accuracy: 0.2537\n"
     ]
    }
   ],
   "source": [
    "history = model.fit_generator(\n",
    "    train,\n",
    "    steps_per_epoch=3,\n",
    "    epochs=15,\n",
    "    validation_data=val,\n",
    "    validation_steps=3)"
   ]
  },
  {
   "cell_type": "code",
   "execution_count": 90,
   "metadata": {},
   "outputs": [
    {
     "data": {
      "image/png": "[encoded data removed]",
      "text/plain": [
       "<Figure size 432x288 with 2 Axes>"
      ]
     },
     "metadata": {
      "needs_background": "light"
     },
     "output_type": "display_data"
    }
   ],
   "source": [
    "plt.subplot(211)\n",
    "plt.title('Loss')\n",
    "plt.plot(history.history['loss'], label='train')\n",
    "plt.plot(history.history['val_loss'], label='test')\n",
    "plt.legend()\n",
    "\n",
    "plt.subplot(212)\n",
    "plt.title('Accuracy')\n",
    "plt.plot(history.history['accuracy'], label='train')\n",
    "plt.plot(history.history['val_accuracy'], label='test')\n",
    "plt.legend()\n",
    "\n",
    "plt.show()"
   ]
  },
  {
   "cell_type": "code",
   "execution_count": null,
   "metadata": {},
   "outputs": [],
   "source": []
  }
 ],
 "metadata": {
  "kernelspec": {
   "display_name": "Python 3",
   "language": "python",
   "name": "python3"
  },
  "language_info": {
   "codemirror_mode": {
    "name": "ipython",
    "version": 3
   },
   "file_extension": ".py",
   "mimetype": "text/x-python",
   "name": "python",
   "nbconvert_exporter": "python",
   "pygments_lexer": "ipython3",
   "version": "3.7.7"
  }
 },
 "nbformat": 4,
 "nbformat_minor": 4
}
