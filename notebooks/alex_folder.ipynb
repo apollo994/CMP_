{
 "cells": [
  {
   "cell_type": "code",
   "execution_count": 10,
   "metadata": {},
   "outputs": [],
   "source": [
    "import glob\n",
    "import pandas as pd\n",
    "import os\n",
    "from shutil import copyfile"
   ]
  },
  {
   "cell_type": "code",
   "execution_count": 11,
   "metadata": {},
   "outputs": [],
   "source": [
    "path_images = '../data/images_jpeg/'\n",
    "path_info = '../data/pipeline_tables/tissue_norm/'"
   ]
  },
  {
   "cell_type": "code",
   "execution_count": 12,
   "metadata": {},
   "outputs": [],
   "source": [
    "images = glob.glob(f'{path_images}/*.jpg')"
   ]
  },
  {
   "cell_type": "code",
   "execution_count": 13,
   "metadata": {},
   "outputs": [],
   "source": [
    "names = {i.split('/')[-1].strip('.jpg'):i for i in images}"
   ]
  },
  {
   "cell_type": "code",
   "execution_count": 14,
   "metadata": {},
   "outputs": [],
   "source": [
    "infos = glob.glob(f'{path_info}/*.csv')"
   ]
  },
  {
   "cell_type": "code",
   "execution_count": 15,
   "metadata": {},
   "outputs": [],
   "source": [
    "os.mkdir('selected_tissues')"
   ]
  },
  {
   "cell_type": "code",
   "execution_count": 16,
   "metadata": {},
   "outputs": [
    {
     "name": "stdout",
     "output_type": "stream",
     "text": [
      "Kidney\n",
      "Breast\n",
      "Lung\n",
      "Bone\n",
      "Pancreas\n",
      "Skin\n",
      "Ovary\n",
      "Central_Nervous_System\n",
      "Head_and_Neck\n",
      "Haematopoietic_and_Lymphoid\n",
      "Stomach\n",
      "Esophagus\n",
      "Large_Intestine\n",
      "Peripheral_Nervous_System\n"
     ]
    }
   ],
   "source": [
    "for info in infos:    \n",
    "    df = pd.read_csv(info)    \n",
    "    column = set(df.ft)    \n",
    "    for i in column:\n",
    "        if 'Not' not in i:\n",
    "            tissue = i\n",
    "            print (tissue)\n",
    "    positive_images = list(df[df.ft==tissue].im_id)\n",
    "    \n",
    "    os.mkdir(f'selected_tissues/{tissue}')\n",
    "    os.mkdir(f'selected_tissues/{tissue}/top_{tissue}')\n",
    "    os.mkdir(f'selected_tissues/{tissue}/low_quality_{tissue}')\n",
    "    \n",
    "    for i in positive_images:\n",
    "        copyfile(names[i], f'selected_tissues/{tissue}/{i}.jpg')\n",
    "        "
   ]
  },
  {
   "cell_type": "code",
   "execution_count": null,
   "metadata": {},
   "outputs": [],
   "source": []
  }
 ],
 "metadata": {
  "kernelspec": {
   "display_name": "Python 3",
   "language": "python",
   "name": "python3"
  },
  "language_info": {
   "codemirror_mode": {
    "name": "ipython",
    "version": 3
   },
   "file_extension": ".py",
   "mimetype": "text/x-python",
   "name": "python",
   "nbconvert_exporter": "python",
   "pygments_lexer": "ipython3",
   "version": "3.7.7"
  }
 },
 "nbformat": 4,
 "nbformat_minor": 4
}
