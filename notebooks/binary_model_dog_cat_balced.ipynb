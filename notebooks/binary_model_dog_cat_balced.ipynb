{
 "cells": [
  {
   "cell_type": "markdown",
   "metadata": {},
   "source": [
    "## Image classification following Keras example"
   ]
  },
  {
   "cell_type": "markdown",
   "metadata": {},
   "source": [
    "Ideas come from [here](https://blog.keras.io/building-powerful-image-classification-models-using-very-little-data.html)"
   ]
  },
  {
   "cell_type": "markdown",
   "metadata": {},
   "source": [
    "## Path and names"
   ]
  },
  {
   "cell_type": "code",
   "execution_count": 1,
   "metadata": {},
   "outputs": [],
   "source": [
    "train_PATH = '../data/dog_cat/dog_cat_original/train/'\n",
    "valid_PATH = '../data/dog_cat/dog_cat_original/test/'\n",
    "name = 'dog_vs_cat_balaced'"
   ]
  },
  {
   "cell_type": "markdown",
   "metadata": {},
   "source": [
    "## Libraries"
   ]
  },
  {
   "cell_type": "code",
   "execution_count": 2,
   "metadata": {},
   "outputs": [
    {
     "name": "stderr",
     "output_type": "stream",
     "text": [
      "Using TensorFlow backend.\n"
     ]
    }
   ],
   "source": [
    "from keras.preprocessing.image import ImageDataGenerator\n",
    "from keras.models import Sequential\n",
    "from keras.layers import Conv2D, MaxPooling2D\n",
    "from keras.layers import Activation, Dropout, Flatten, Dense\n",
    "\n",
    "import matplotlib.pyplot as plt\n",
    "\n",
    "import pickle\n",
    "\n",
    "import numpy as np\n",
    "\n",
    "from sklearn.metrics import recall_score\n",
    "from sklearn.metrics import precision_score\n",
    "from sklearn.metrics import roc_auc_score\n",
    "from sklearn.metrics import roc_curve\n",
    "from sklearn.metrics import precision_recall_curve, f1_score, auc"
   ]
  },
  {
   "cell_type": "markdown",
   "metadata": {},
   "source": [
    "## Convolution and pooling layers"
   ]
  },
  {
   "cell_type": "code",
   "execution_count": 3,
   "metadata": {},
   "outputs": [],
   "source": [
    "model = Sequential()\n",
    "model.add(Conv2D(32, (3, 3), input_shape=(150, 150, 3)))\n",
    "model.add(Activation('relu'))\n",
    "model.add(MaxPooling2D(pool_size=(2, 2)))\n",
    "\n",
    "model.add(Conv2D(32, (3, 3)))\n",
    "model.add(Activation('relu'))\n",
    "model.add(MaxPooling2D(pool_size=(2, 2)))\n",
    "\n",
    "model.add(Conv2D(64, (3, 3)))\n",
    "model.add(Activation('relu'))\n",
    "model.add(MaxPooling2D(pool_size=(2, 2)))"
   ]
  },
  {
   "cell_type": "markdown",
   "metadata": {},
   "source": [
    "## Fully connected layer"
   ]
  },
  {
   "cell_type": "code",
   "execution_count": 4,
   "metadata": {},
   "outputs": [],
   "source": [
    "model.add(Flatten())  # this converts our 3D feature maps to 1D feature vectors\n",
    "model.add(Dense(64))\n",
    "model.add(Activation('relu'))\n",
    "model.add(Dropout(0.5))\n",
    "model.add(Dense(1))\n",
    "model.add(Activation('sigmoid'))"
   ]
  },
  {
   "cell_type": "markdown",
   "metadata": {},
   "source": [
    "## Compile the model"
   ]
  },
  {
   "cell_type": "code",
   "execution_count": 5,
   "metadata": {},
   "outputs": [],
   "source": [
    "model.compile(loss='binary_crossentropy',\n",
    "              optimizer='rmsprop',\n",
    "              metrics=['accuracy'])"
   ]
  },
  {
   "cell_type": "markdown",
   "metadata": {},
   "source": [
    "## Load dataset"
   ]
  },
  {
   "cell_type": "code",
   "execution_count": 6,
   "metadata": {},
   "outputs": [],
   "source": [
    "batch_size = 16"
   ]
  },
  {
   "cell_type": "code",
   "execution_count": 7,
   "metadata": {},
   "outputs": [],
   "source": [
    "# training with augmentation \n",
    "train_datagen = ImageDataGenerator(\n",
    "        rescale=1./255,\n",
    "        shear_range=0.2,\n",
    "        zoom_range=0.2,\n",
    "        horizontal_flip=True)\n",
    "\n",
    "# test only rescale\n",
    "validation_datagen = ImageDataGenerator(rescale=1./255)"
   ]
  },
  {
   "cell_type": "code",
   "execution_count": 8,
   "metadata": {},
   "outputs": [
    {
     "name": "stdout",
     "output_type": "stream",
     "text": [
      "Found 2000 images belonging to 2 classes.\n",
      "Found 802 images belonging to 2 classes.\n"
     ]
    }
   ],
   "source": [
    "train_generator = train_datagen.flow_from_directory(\n",
    "        train_PATH,  \n",
    "        target_size=(150, 150),  \n",
    "        batch_size=batch_size,\n",
    "        class_mode='binary')  \n",
    "\n",
    "# validation set is not shuffled\n",
    "validation_generator = validation_datagen.flow_from_directory(\n",
    "        valid_PATH,\n",
    "        target_size=(150, 150),\n",
    "        batch_size=batch_size,\n",
    "        class_mode='binary',\n",
    "        shuffle=False)"
   ]
  },
  {
   "cell_type": "code",
   "execution_count": 9,
   "metadata": {},
   "outputs": [],
   "source": [
    "train_size = len(train_generator.filenames)\n",
    "validation_size = len(validation_generator.filenames)"
   ]
  },
  {
   "cell_type": "markdown",
   "metadata": {},
   "source": [
    "## Fitting the model"
   ]
  },
  {
   "cell_type": "code",
   "execution_count": 10,
   "metadata": {},
   "outputs": [
    {
     "name": "stdout",
     "output_type": "stream",
     "text": [
      "Epoch 1/50\n",
      "125/125 [==============================] - 147s 1s/step - loss: 0.7325 - accuracy: 0.5125 - val_loss: 0.4836 - val_accuracy: 0.4988\n",
      "Epoch 2/50\n",
      "125/125 [==============================] - 137s 1s/step - loss: 0.6803 - accuracy: 0.5845 - val_loss: 0.7422 - val_accuracy: 0.6247\n",
      "Epoch 3/50\n",
      "125/125 [==============================] - 136s 1s/step - loss: 0.6405 - accuracy: 0.6250 - val_loss: 0.6179 - val_accuracy: 0.7023\n",
      "Epoch 4/50\n",
      "125/125 [==============================] - 137s 1s/step - loss: 0.6265 - accuracy: 0.6550 - val_loss: 0.7136 - val_accuracy: 0.7023\n",
      "Epoch 5/50\n",
      "125/125 [==============================] - 137s 1s/step - loss: 0.6064 - accuracy: 0.6855 - val_loss: 0.6040 - val_accuracy: 0.7010\n",
      "Epoch 6/50\n",
      "125/125 [==============================] - 138s 1s/step - loss: 0.5884 - accuracy: 0.6920 - val_loss: 1.0508 - val_accuracy: 0.7341\n",
      "Epoch 7/50\n",
      "125/125 [==============================] - 137s 1s/step - loss: 0.5596 - accuracy: 0.7215 - val_loss: 0.4502 - val_accuracy: 0.6756\n",
      "Epoch 8/50\n",
      "125/125 [==============================] - 138s 1s/step - loss: 0.5516 - accuracy: 0.7270 - val_loss: 0.4506 - val_accuracy: 0.7265\n",
      "Epoch 9/50\n",
      "125/125 [==============================] - 140s 1s/step - loss: 0.5452 - accuracy: 0.7350 - val_loss: 0.7087 - val_accuracy: 0.7252\n",
      "Epoch 10/50\n",
      "125/125 [==============================] - 138s 1s/step - loss: 0.5338 - accuracy: 0.7430 - val_loss: 0.8630 - val_accuracy: 0.7481\n",
      "Epoch 11/50\n",
      "125/125 [==============================] - 134s 1s/step - loss: 0.5003 - accuracy: 0.7635 - val_loss: 0.5878 - val_accuracy: 0.7761\n",
      "Epoch 12/50\n",
      "125/125 [==============================] - 133s 1s/step - loss: 0.4912 - accuracy: 0.7705 - val_loss: 0.6833 - val_accuracy: 0.7481\n",
      "Epoch 13/50\n",
      "125/125 [==============================] - 93s 744ms/step - loss: 0.5010 - accuracy: 0.7650 - val_loss: 0.6497 - val_accuracy: 0.7634\n",
      "Epoch 14/50\n",
      "125/125 [==============================] - 72s 576ms/step - loss: 0.4779 - accuracy: 0.7895 - val_loss: 0.5218 - val_accuracy: 0.7761\n",
      "Epoch 15/50\n",
      "125/125 [==============================] - 71s 568ms/step - loss: 0.4647 - accuracy: 0.7855 - val_loss: 0.1507 - val_accuracy: 0.6832\n",
      "Epoch 16/50\n",
      "125/125 [==============================] - 72s 573ms/step - loss: 0.4628 - accuracy: 0.7835 - val_loss: 0.4969 - val_accuracy: 0.7761\n",
      "Epoch 17/50\n",
      "125/125 [==============================] - 71s 569ms/step - loss: 0.4588 - accuracy: 0.7940 - val_loss: 0.4071 - val_accuracy: 0.7697\n",
      "Epoch 18/50\n",
      "125/125 [==============================] - 75s 602ms/step - loss: 0.4521 - accuracy: 0.7980 - val_loss: 0.7544 - val_accuracy: 0.7799\n",
      "Epoch 19/50\n",
      "125/125 [==============================] - 75s 602ms/step - loss: 0.4349 - accuracy: 0.8015 - val_loss: 0.2260 - val_accuracy: 0.7799\n",
      "Epoch 20/50\n",
      "125/125 [==============================] - 73s 587ms/step - loss: 0.4132 - accuracy: 0.8215 - val_loss: 0.3717 - val_accuracy: 0.7799\n",
      "Epoch 21/50\n",
      "125/125 [==============================] - 76s 607ms/step - loss: 0.4415 - accuracy: 0.8050 - val_loss: 0.3426 - val_accuracy: 0.7812\n",
      "Epoch 22/50\n",
      "125/125 [==============================] - 77s 616ms/step - loss: 0.4372 - accuracy: 0.8080 - val_loss: 0.2763 - val_accuracy: 0.7837\n",
      "Epoch 23/50\n",
      "125/125 [==============================] - 74s 594ms/step - loss: 0.4253 - accuracy: 0.8045 - val_loss: 0.2368 - val_accuracy: 0.7646\n",
      "Epoch 24/50\n",
      "125/125 [==============================] - 73s 585ms/step - loss: 0.4267 - accuracy: 0.8255 - val_loss: 0.2271 - val_accuracy: 0.7939\n",
      "Epoch 25/50\n",
      "125/125 [==============================] - 73s 585ms/step - loss: 0.4079 - accuracy: 0.8220 - val_loss: 0.5920 - val_accuracy: 0.7684\n",
      "Epoch 26/50\n",
      "125/125 [==============================] - 78s 621ms/step - loss: 0.4176 - accuracy: 0.8250 - val_loss: 0.4391 - val_accuracy: 0.7952\n",
      "Epoch 27/50\n",
      "125/125 [==============================] - 73s 585ms/step - loss: 0.4128 - accuracy: 0.8320 - val_loss: 0.8925 - val_accuracy: 0.7532\n",
      "Epoch 28/50\n",
      "125/125 [==============================] - 72s 576ms/step - loss: 0.4250 - accuracy: 0.8190 - val_loss: 0.1183 - val_accuracy: 0.7837\n",
      "Epoch 29/50\n",
      "125/125 [==============================] - 72s 579ms/step - loss: 0.3890 - accuracy: 0.8340 - val_loss: 1.1222 - val_accuracy: 0.7964\n",
      "Epoch 30/50\n",
      "125/125 [==============================] - 72s 574ms/step - loss: 0.4010 - accuracy: 0.8270 - val_loss: 2.1540 - val_accuracy: 0.7913\n",
      "Epoch 31/50\n",
      "125/125 [==============================] - 72s 579ms/step - loss: 0.4069 - accuracy: 0.8320 - val_loss: 0.4032 - val_accuracy: 0.8104\n",
      "Epoch 32/50\n",
      "125/125 [==============================] - 76s 612ms/step - loss: 0.3941 - accuracy: 0.8315 - val_loss: 0.7338 - val_accuracy: 0.8028\n",
      "Epoch 33/50\n",
      "125/125 [==============================] - 74s 595ms/step - loss: 0.3676 - accuracy: 0.8415 - val_loss: 0.0977 - val_accuracy: 0.7964\n",
      "Epoch 34/50\n",
      "125/125 [==============================] - 73s 583ms/step - loss: 0.3775 - accuracy: 0.8375 - val_loss: 0.5689 - val_accuracy: 0.7875\n",
      "Epoch 35/50\n",
      "125/125 [==============================] - 72s 574ms/step - loss: 0.4037 - accuracy: 0.8390 - val_loss: 0.9403 - val_accuracy: 0.7774\n",
      "Epoch 36/50\n",
      "125/125 [==============================] - 73s 583ms/step - loss: 0.4089 - accuracy: 0.8435 - val_loss: 0.2884 - val_accuracy: 0.7850\n",
      "Epoch 37/50\n",
      "125/125 [==============================] - 72s 575ms/step - loss: 0.3657 - accuracy: 0.8435 - val_loss: 0.7894 - val_accuracy: 0.8079\n",
      "Epoch 38/50\n",
      "125/125 [==============================] - 73s 587ms/step - loss: 0.3813 - accuracy: 0.8460 - val_loss: 1.2368 - val_accuracy: 0.7710\n",
      "Epoch 39/50\n",
      "125/125 [==============================] - 73s 586ms/step - loss: 0.3884 - accuracy: 0.8390 - val_loss: 0.1756 - val_accuracy: 0.8130\n",
      "Epoch 40/50\n",
      "125/125 [==============================] - 72s 578ms/step - loss: 0.3726 - accuracy: 0.8405 - val_loss: 0.9000 - val_accuracy: 0.8053\n",
      "Epoch 41/50\n",
      "125/125 [==============================] - 72s 580ms/step - loss: 0.3776 - accuracy: 0.8450 - val_loss: 0.9895 - val_accuracy: 0.8130\n",
      "Epoch 42/50\n",
      "125/125 [==============================] - 73s 587ms/step - loss: 0.3881 - accuracy: 0.8415 - val_loss: 0.3645 - val_accuracy: 0.7875\n",
      "Epoch 43/50\n",
      "125/125 [==============================] - 72s 577ms/step - loss: 0.3657 - accuracy: 0.8395 - val_loss: 0.8212 - val_accuracy: 0.8104\n",
      "Epoch 44/50\n",
      "125/125 [==============================] - 72s 578ms/step - loss: 0.3972 - accuracy: 0.8455 - val_loss: 0.3279 - val_accuracy: 0.7621\n",
      "Epoch 45/50\n",
      "125/125 [==============================] - 72s 580ms/step - loss: 0.3677 - accuracy: 0.8455 - val_loss: 1.2242 - val_accuracy: 0.7952\n",
      "Epoch 46/50\n",
      "125/125 [==============================] - 73s 581ms/step - loss: 0.3444 - accuracy: 0.8630 - val_loss: 0.7547 - val_accuracy: 0.8003\n",
      "Epoch 47/50\n",
      "125/125 [==============================] - 73s 583ms/step - loss: 0.3831 - accuracy: 0.8530 - val_loss: 1.1161 - val_accuracy: 0.8181\n",
      "Epoch 48/50\n",
      "125/125 [==============================] - 72s 578ms/step - loss: 0.3670 - accuracy: 0.8495 - val_loss: 0.6837 - val_accuracy: 0.8104\n",
      "Epoch 49/50\n",
      "125/125 [==============================] - 72s 579ms/step - loss: 0.3825 - accuracy: 0.8410 - val_loss: 0.3855 - val_accuracy: 0.8117\n",
      "Epoch 50/50\n",
      "125/125 [==============================] - 73s 584ms/step - loss: 0.3650 - accuracy: 0.8515 - val_loss: 1.2966 - val_accuracy: 0.8193\n"
     ]
    },
    {
     "data": {
      "text/plain": [
       "<keras.callbacks.callbacks.History at 0x1404962d0>"
      ]
     },
     "execution_count": 10,
     "metadata": {},
     "output_type": "execute_result"
    }
   ],
   "source": [
    "model.fit_generator(\n",
    "        train_generator,\n",
    "        steps_per_epoch= train_size // batch_size,\n",
    "        epochs=50,\n",
    "        validation_data=validation_generator,\n",
    "        validation_steps= validation_size // batch_size)"
   ]
  },
  {
   "cell_type": "code",
   "execution_count": 11,
   "metadata": {},
   "outputs": [
    {
     "name": "stdout",
     "output_type": "stream",
     "text": [
      "Model: \"sequential_1\"\n",
      "_________________________________________________________________\n",
      "Layer (type)                 Output Shape              Param #   \n",
      "=================================================================\n",
      "conv2d_1 (Conv2D)            (None, 148, 148, 32)      896       \n",
      "_________________________________________________________________\n",
      "activation_1 (Activation)    (None, 148, 148, 32)      0         \n",
      "_________________________________________________________________\n",
      "max_pooling2d_1 (MaxPooling2 (None, 74, 74, 32)        0         \n",
      "_________________________________________________________________\n",
      "conv2d_2 (Conv2D)            (None, 72, 72, 32)        9248      \n",
      "_________________________________________________________________\n",
      "activation_2 (Activation)    (None, 72, 72, 32)        0         \n",
      "_________________________________________________________________\n",
      "max_pooling2d_2 (MaxPooling2 (None, 36, 36, 32)        0         \n",
      "_________________________________________________________________\n",
      "conv2d_3 (Conv2D)            (None, 34, 34, 64)        18496     \n",
      "_________________________________________________________________\n",
      "activation_3 (Activation)    (None, 34, 34, 64)        0         \n",
      "_________________________________________________________________\n",
      "max_pooling2d_3 (MaxPooling2 (None, 17, 17, 64)        0         \n",
      "_________________________________________________________________\n",
      "flatten_1 (Flatten)          (None, 18496)             0         \n",
      "_________________________________________________________________\n",
      "dense_1 (Dense)              (None, 64)                1183808   \n",
      "_________________________________________________________________\n",
      "activation_4 (Activation)    (None, 64)                0         \n",
      "_________________________________________________________________\n",
      "dropout_1 (Dropout)          (None, 64)                0         \n",
      "_________________________________________________________________\n",
      "dense_2 (Dense)              (None, 1)                 65        \n",
      "_________________________________________________________________\n",
      "activation_5 (Activation)    (None, 1)                 0         \n",
      "=================================================================\n",
      "Total params: 1,212,513\n",
      "Trainable params: 1,212,513\n",
      "Non-trainable params: 0\n",
      "_________________________________________________________________\n"
     ]
    }
   ],
   "source": [
    "model.summary()"
   ]
  },
  {
   "cell_type": "markdown",
   "metadata": {},
   "source": [
    "## Save the model"
   ]
  },
  {
   "cell_type": "code",
   "execution_count": 12,
   "metadata": {
    "scrolled": false
   },
   "outputs": [],
   "source": [
    "#model arch and weigths \n",
    "model.save(f'{name}_model.h5') \n",
    "\n",
    "#history dictionary\n",
    "with open(f'{name}_history.dict', 'wb') as file_pi:\n",
    "        pickle.dump(model.history.history, file_pi)"
   ]
  },
  {
   "cell_type": "markdown",
   "metadata": {},
   "source": [
    "## Training evaluation"
   ]
  },
  {
   "cell_type": "code",
   "execution_count": 13,
   "metadata": {},
   "outputs": [
    {
     "data": {
      "image/png": "[encoded data removed]",
      "text/plain": [
       "<Figure size 1080x360 with 2 Axes>"
      ]
     },
     "metadata": {
      "needs_background": "light"
     },
     "output_type": "display_data"
    }
   ],
   "source": [
    "fig, (ax1,ax2) = plt.subplots(ncols=2, figsize=(15,5), constrained_layout=True,)\n",
    "\n",
    "_ = fig.suptitle(f'{name} trainig result')\n",
    "\n",
    "_ = ax1.set_title('Loss')\n",
    "_ = ax1.plot(model.history.history['loss'], label='train')\n",
    "_ = ax1.plot(model.history.history['val_loss'], label='test')\n",
    "_ = ax1.legend()\n",
    "\n",
    "_ = ax2.set_title('Accuracy')\n",
    "_ = ax2.plot(model.history.history['accuracy'], label='train')\n",
    "_ = ax2.plot(model.history.history['val_accuracy'], label='test')\n",
    "_ = ax2.legend()\n",
    "\n",
    "plt.savefig(f'{name}_trainig_result.png')"
   ]
  },
  {
   "cell_type": "markdown",
   "metadata": {},
   "source": [
    "## Predictions and metrics"
   ]
  },
  {
   "cell_type": "code",
   "execution_count": 14,
   "metadata": {},
   "outputs": [],
   "source": [
    "def convert_to_binary(y):\n",
    "    pred_class = []\n",
    "    pred_prob = []\n",
    "    \n",
    "    for i in range(len(y)):\n",
    "        pred_prob.append(y[i][0])\n",
    "                   \n",
    "        if y[i][0]>=0.5:\n",
    "            pred_class.append(1)\n",
    "        else:\n",
    "            pred_class.append(0)\n",
    "            \n",
    "    return np.asarray(pred_class), np.asarray(pred_prob)"
   ]
  },
  {
   "cell_type": "code",
   "execution_count": 15,
   "metadata": {},
   "outputs": [],
   "source": [
    "#real\n",
    "y_real = validation_generator.classes\n",
    "\n",
    "#predicted\n",
    "test_pred_prob = model.predict(validation_generator)\n",
    "y_pred_class, y_pred_prob = convert_to_binary(test_pred_prob)"
   ]
  },
  {
   "cell_type": "code",
   "execution_count": 16,
   "metadata": {},
   "outputs": [
    {
     "data": {
      "text/plain": [
       "array([0, 0, 0, 0, 0, 0, 0, 0, 0, 0, 0, 0, 0, 0, 0, 0, 0, 0, 0, 0, 0, 0,\n",
       "       0, 0, 0, 0, 0, 0, 0, 0, 0, 0, 0, 0, 0, 0, 0, 0, 0, 0, 0, 0, 0, 0,\n",
       "       0, 0, 0, 0, 0, 0, 0, 0, 0, 0, 0, 0, 0, 0, 0, 0, 0, 0, 0, 0, 0, 0,\n",
       "       0, 0, 0, 0, 0, 0, 0, 0, 0, 0, 0, 0, 0, 0, 0, 0, 0, 0, 0, 0, 0, 0,\n",
       "       0, 0, 0, 0, 0, 0, 0, 0, 0, 0, 0, 0, 0, 0, 0, 0, 0, 0, 0, 0, 0, 0,\n",
       "       0, 0, 0, 0, 0, 0, 0, 0, 0, 0, 0, 0, 0, 0, 0, 0, 0, 0, 0, 0, 0, 0,\n",
       "       0, 0, 0, 0, 0, 0, 0, 0, 0, 0, 0, 0, 0, 0, 0, 0, 0, 0, 0, 0, 0, 0,\n",
       "       0, 0, 0, 0, 0, 0, 0, 0, 0, 0, 0, 0, 0, 0, 0, 0, 0, 0, 0, 0, 0, 0,\n",
       "       0, 0, 0, 0, 0, 0, 0, 0, 0, 0, 0, 0, 0, 0, 0, 0, 0, 0, 0, 0, 0, 0,\n",
       "       0, 0, 0, 0, 0, 0, 0, 0, 0, 0, 0, 0, 0, 0, 0, 0, 0, 0, 0, 0, 0, 0,\n",
       "       0, 0, 0, 0, 0, 0, 0, 0, 0, 0, 0, 0, 0, 0, 0, 0, 0, 0, 0, 0, 0, 0,\n",
       "       0, 0, 0, 0, 0, 0, 0, 0, 0, 0, 0, 0, 0, 0, 0, 0, 0, 0, 0, 0, 0, 0,\n",
       "       0, 0, 0, 0, 0, 0, 0, 0, 0, 0, 0, 0, 0, 0, 0, 0, 0, 0, 0, 0, 0, 0,\n",
       "       0, 0, 0, 0, 0, 0, 0, 0, 0, 0, 0, 0, 0, 0, 0, 0, 0, 0, 0, 0, 0, 0,\n",
       "       0, 0, 0, 0, 0, 0, 0, 0, 0, 0, 0, 0, 0, 0, 0, 0, 0, 0, 0, 0, 0, 0,\n",
       "       0, 0, 0, 0, 0, 0, 0, 0, 0, 0, 0, 0, 0, 0, 0, 0, 0, 0, 0, 0, 0, 0,\n",
       "       0, 0, 0, 0, 0, 0, 0, 0, 0, 0, 0, 0, 0, 0, 0, 0, 0, 0, 0, 0, 0, 0,\n",
       "       0, 0, 0, 0, 0, 0, 0, 0, 0, 0, 0, 0, 0, 0, 0, 0, 0, 0, 0, 0, 0, 0,\n",
       "       0, 0, 0, 0, 0, 1, 1, 1, 1, 1, 1, 1, 1, 1, 1, 1, 1, 1, 1, 1, 1, 1,\n",
       "       1, 1, 1, 1, 1, 1, 1, 1, 1, 1, 1, 1, 1, 1, 1, 1, 1, 1, 1, 1, 1, 1,\n",
       "       1, 1, 1, 1, 1, 1, 1, 1, 1, 1, 1, 1, 1, 1, 1, 1, 1, 1, 1, 1, 1, 1,\n",
       "       1, 1, 1, 1, 1, 1, 1, 1, 1, 1, 1, 1, 1, 1, 1, 1, 1, 1, 1, 1, 1, 1,\n",
       "       1, 1, 1, 1, 1, 1, 1, 1, 1, 1, 1, 1, 1, 1, 1, 1, 1, 1, 1, 1, 1, 1,\n",
       "       1, 1, 1, 1, 1, 1, 1, 1, 1, 1, 1, 1, 1, 1, 1, 1, 1, 1, 1, 1, 1, 1,\n",
       "       1, 1, 1, 1, 1, 1, 1, 1, 1, 1, 1, 1, 1, 1, 1, 1, 1, 1, 1, 1, 1, 1,\n",
       "       1, 1, 1, 1, 1, 1, 1, 1, 1, 1, 1, 1, 1, 1, 1, 1, 1, 1, 1, 1, 1, 1,\n",
       "       1, 1, 1, 1, 1, 1, 1, 1, 1, 1, 1, 1, 1, 1, 1, 1, 1, 1, 1, 1, 1, 1,\n",
       "       1, 1, 1, 1, 1, 1, 1, 1, 1, 1, 1, 1, 1, 1, 1, 1, 1, 1, 1, 1, 1, 1,\n",
       "       1, 1, 1, 1, 1, 1, 1, 1, 1, 1, 1, 1, 1, 1, 1, 1, 1, 1, 1, 1, 1, 1,\n",
       "       1, 1, 1, 1, 1, 1, 1, 1, 1, 1, 1, 1, 1, 1, 1, 1, 1, 1, 1, 1, 1, 1,\n",
       "       1, 1, 1, 1, 1, 1, 1, 1, 1, 1, 1, 1, 1, 1, 1, 1, 1, 1, 1, 1, 1, 1,\n",
       "       1, 1, 1, 1, 1, 1, 1, 1, 1, 1, 1, 1, 1, 1, 1, 1, 1, 1, 1, 1, 1, 1,\n",
       "       1, 1, 1, 1, 1, 1, 1, 1, 1, 1, 1, 1, 1, 1, 1, 1, 1, 1, 1, 1, 1, 1,\n",
       "       1, 1, 1, 1, 1, 1, 1, 1, 1, 1, 1, 1, 1, 1, 1, 1, 1, 1, 1, 1, 1, 1,\n",
       "       1, 1, 1, 1, 1, 1, 1, 1, 1, 1, 1, 1, 1, 1, 1, 1, 1, 1, 1, 1, 1, 1,\n",
       "       1, 1, 1, 1, 1, 1, 1, 1, 1, 1, 1, 1, 1, 1, 1, 1, 1, 1, 1, 1, 1, 1,\n",
       "       1, 1, 1, 1, 1, 1, 1, 1, 1, 1], dtype=int32)"
      ]
     },
     "execution_count": 16,
     "metadata": {},
     "output_type": "execute_result"
    }
   ],
   "source": [
    "y_real"
   ]
  },
  {
   "cell_type": "code",
   "execution_count": 17,
   "metadata": {},
   "outputs": [
    {
     "data": {
      "text/plain": [
       "array([0, 0, 0, 0, 0, 0, 0, 0, 0, 1, 0, 0, 1, 1, 0, 0, 0, 1, 0, 0, 1, 0,\n",
       "       0, 1, 0, 0, 0, 0, 0, 0, 0, 0, 0, 0, 1, 0, 0, 1, 0, 0, 0, 0, 0, 0,\n",
       "       0, 0, 1, 0, 0, 0, 0, 1, 0, 1, 0, 1, 0, 0, 1, 0, 1, 0, 0, 0, 1, 0,\n",
       "       0, 0, 1, 0, 0, 0, 1, 1, 0, 0, 0, 0, 0, 1, 0, 1, 0, 0, 0, 0, 0, 0,\n",
       "       0, 0, 0, 0, 0, 1, 1, 0, 0, 1, 0, 1, 0, 0, 0, 1, 0, 0, 0, 0, 0, 0,\n",
       "       0, 0, 1, 0, 0, 0, 0, 1, 0, 1, 0, 1, 0, 0, 0, 1, 0, 0, 0, 0, 0, 0,\n",
       "       0, 0, 1, 0, 0, 1, 0, 1, 0, 0, 0, 0, 0, 1, 0, 0, 0, 0, 0, 0, 0, 0,\n",
       "       0, 0, 1, 1, 0, 0, 0, 1, 0, 0, 0, 0, 0, 1, 1, 0, 0, 0, 0, 0, 0, 0,\n",
       "       0, 0, 0, 0, 0, 0, 0, 0, 0, 0, 0, 0, 0, 0, 0, 0, 1, 0, 0, 0, 1, 0,\n",
       "       0, 0, 0, 0, 0, 0, 0, 1, 0, 0, 1, 0, 0, 0, 0, 0, 0, 1, 0, 0, 0, 0,\n",
       "       0, 0, 0, 1, 1, 0, 0, 0, 0, 0, 0, 0, 0, 0, 0, 1, 0, 0, 1, 0, 0, 1,\n",
       "       1, 1, 0, 0, 1, 0, 0, 1, 0, 0, 0, 0, 0, 0, 0, 0, 0, 0, 0, 0, 1, 1,\n",
       "       0, 0, 0, 0, 1, 0, 0, 0, 0, 0, 0, 0, 0, 0, 0, 0, 0, 1, 0, 0, 1, 0,\n",
       "       0, 0, 1, 1, 0, 0, 0, 0, 0, 0, 0, 1, 0, 0, 0, 0, 0, 1, 1, 0, 1, 1,\n",
       "       0, 0, 0, 0, 0, 0, 1, 0, 0, 0, 0, 0, 0, 1, 1, 1, 0, 0, 0, 0, 0, 0,\n",
       "       0, 1, 0, 0, 0, 1, 1, 1, 0, 0, 0, 0, 1, 0, 0, 0, 0, 0, 1, 1, 1, 0,\n",
       "       0, 0, 0, 0, 0, 0, 0, 0, 0, 0, 0, 0, 0, 0, 0, 1, 1, 0, 0, 1, 1, 0,\n",
       "       0, 0, 0, 0, 0, 0, 0, 0, 0, 0, 0, 0, 0, 1, 1, 1, 0, 0, 0, 0, 0, 0,\n",
       "       0, 0, 0, 0, 0, 1, 1, 1, 1, 1, 1, 0, 1, 1, 1, 1, 0, 1, 1, 0, 1, 1,\n",
       "       1, 0, 1, 1, 1, 1, 1, 0, 1, 1, 1, 1, 1, 1, 1, 1, 1, 1, 1, 1, 1, 1,\n",
       "       1, 0, 0, 1, 1, 1, 1, 1, 1, 1, 1, 0, 1, 1, 1, 0, 1, 1, 1, 1, 1, 1,\n",
       "       1, 1, 1, 1, 0, 1, 1, 1, 1, 1, 1, 1, 1, 1, 1, 1, 0, 1, 1, 1, 1, 0,\n",
       "       1, 1, 0, 1, 1, 1, 1, 0, 1, 1, 1, 1, 1, 1, 0, 1, 1, 1, 1, 1, 1, 1,\n",
       "       1, 0, 1, 1, 1, 1, 1, 1, 1, 1, 0, 0, 1, 1, 1, 1, 1, 1, 0, 1, 1, 1,\n",
       "       1, 1, 1, 1, 1, 1, 1, 1, 1, 1, 1, 1, 1, 1, 1, 1, 0, 1, 1, 0, 1, 1,\n",
       "       1, 1, 1, 1, 1, 1, 1, 1, 1, 1, 1, 1, 1, 1, 1, 1, 1, 1, 1, 0, 1, 1,\n",
       "       1, 1, 1, 1, 1, 1, 1, 1, 1, 1, 1, 0, 1, 1, 1, 1, 1, 1, 0, 1, 1, 0,\n",
       "       1, 1, 0, 1, 1, 1, 1, 1, 1, 1, 1, 1, 1, 1, 1, 1, 1, 1, 1, 1, 1, 0,\n",
       "       1, 1, 1, 0, 0, 1, 0, 1, 1, 1, 0, 1, 1, 0, 1, 1, 1, 1, 1, 1, 1, 1,\n",
       "       1, 1, 1, 0, 1, 1, 0, 1, 0, 1, 1, 1, 1, 0, 1, 1, 1, 1, 1, 1, 1, 1,\n",
       "       1, 1, 1, 1, 1, 1, 1, 1, 1, 1, 1, 1, 1, 1, 1, 1, 1, 1, 1, 0, 1, 1,\n",
       "       1, 1, 1, 1, 1, 1, 0, 1, 1, 1, 1, 0, 0, 1, 0, 0, 1, 1, 1, 1, 0, 1,\n",
       "       1, 1, 1, 1, 1, 1, 1, 1, 1, 1, 0, 1, 0, 0, 0, 1, 1, 1, 1, 1, 0, 1,\n",
       "       1, 0, 1, 1, 1, 1, 1, 1, 0, 1, 1, 1, 0, 1, 0, 1, 0, 1, 1, 1, 1, 0,\n",
       "       1, 1, 1, 1, 1, 1, 1, 1, 1, 1, 1, 1, 1, 1, 1, 0, 0, 1, 1, 1, 1, 1,\n",
       "       0, 0, 1, 1, 1, 1, 1, 1, 0, 1, 1, 1, 1, 1, 1, 1, 1, 1, 1, 1, 1, 1,\n",
       "       1, 1, 1, 1, 1, 0, 0, 1, 1, 1])"
      ]
     },
     "execution_count": 17,
     "metadata": {},
     "output_type": "execute_result"
    }
   ],
   "source": [
    "y_pred_class"
   ]
  },
  {
   "cell_type": "code",
   "execution_count": 18,
   "metadata": {},
   "outputs": [],
   "source": [
    "precision = precision_score(y_real, y_pred_class)\n",
    "recall = recall_score(y_real, y_pred_class)\n",
    "\n",
    "fpr_th, tpr_th, _ = roc_curve(y_real, y_pred_prob)\n",
    "AUC_ROC = auc(fpr_th, tpr_th)\n",
    "\n",
    "precision_th, recall_th, _ = precision_recall_curve(y_real, y_pred_prob)\n",
    "PR_AUC = auc(recall_th, precision_th)"
   ]
  },
  {
   "cell_type": "code",
   "execution_count": 19,
   "metadata": {},
   "outputs": [
    {
     "name": "stdout",
     "output_type": "stream",
     "text": [
      "Precision = 0.8018867924528302\n",
      "Recall = 0.8478802992518704\n",
      "Area under ROC curve = 0.8687135030254787\n",
      "Area under precision-Recall curve = 0.857981171513511\n"
     ]
    }
   ],
   "source": [
    "print ('Precision =',precision)\n",
    "print ('Recall =',recall)\n",
    "print ('Area under ROC curve =',AUC_ROC)\n",
    "print ('Area under precision-Recall curve =',PR_AUC)"
   ]
  },
  {
   "cell_type": "code",
   "execution_count": 20,
   "metadata": {},
   "outputs": [
    {
     "data": {
      "image/png": "[encoded data removed]",
      "text/plain": [
       "<Figure size 1080x360 with 2 Axes>"
      ]
     },
     "metadata": {
      "needs_background": "light"
     },
     "output_type": "display_data"
    }
   ],
   "source": [
    "fig, (ax1,ax2) = plt.subplots(ncols=2, figsize=(15,5), constrained_layout=True,)\n",
    "\n",
    "_ = fig.suptitle(f'{name} predicions result')\n",
    "\n",
    "_ = ax1.set_title('ROC curve')\n",
    "_ = ax1.plot(fpr_th, tpr_th)\n",
    "_ = ax1.set_xlabel('False Positive Rate')\n",
    "_ = ax1.set_ylabel('True Positive Rate')\n",
    "\n",
    "\n",
    "_ = ax2.set_title('Precision-recall')\n",
    "_ = ax2.plot(recall_th, precision_th)\n",
    "_ = ax2.set_xlabel('Recall')\n",
    "_ = ax2.set_ylabel('Precision')\n",
    "\n",
    "\n",
    "plt.savefig(f'{name}_predictions_result.png')"
   ]
  },
  {
   "cell_type": "code",
   "execution_count": null,
   "metadata": {},
   "outputs": [],
   "source": []
  }
 ],
 "metadata": {
  "kernelspec": {
   "display_name": "Python 3",
   "language": "python",
   "name": "python3"
  },
  "language_info": {
   "codemirror_mode": {
    "name": "ipython",
    "version": 3
   },
   "file_extension": ".py",
   "mimetype": "text/x-python",
   "name": "python",
   "nbconvert_exporter": "python",
   "pygments_lexer": "ipython3",
   "version": "3.7.7"
  }
 },
 "nbformat": 4,
 "nbformat_minor": 4
}
