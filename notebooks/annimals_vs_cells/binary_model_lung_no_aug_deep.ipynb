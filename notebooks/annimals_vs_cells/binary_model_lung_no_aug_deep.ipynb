{
 "cells": [
  {
   "cell_type": "markdown",
   "metadata": {},
   "source": [
    "## Image classification following Keras example"
   ]
  },
  {
   "cell_type": "markdown",
   "metadata": {},
   "source": [
    "Ideas come from [here](https://blog.keras.io/building-powerful-image-classification-models-using-very-little-data.html)"
   ]
  },
  {
   "cell_type": "markdown",
   "metadata": {},
   "source": [
    "## Path and names"
   ]
  },
  {
   "cell_type": "code",
   "execution_count": 1,
   "metadata": {},
   "outputs": [],
   "source": [
    "train_PATH = '../classification_set/train/'\n",
    "valid_PATH = '../classification_set/validation/'\n",
    "name = 'lung_no_aug_deep'"
   ]
  },
  {
   "cell_type": "markdown",
   "metadata": {},
   "source": [
    "## Libraries"
   ]
  },
  {
   "cell_type": "code",
   "execution_count": 2,
   "metadata": {},
   "outputs": [
    {
     "name": "stderr",
     "output_type": "stream",
     "text": [
      "Using TensorFlow backend.\n"
     ]
    }
   ],
   "source": [
    "from keras.preprocessing.image import ImageDataGenerator\n",
    "from keras.models import Sequential\n",
    "from keras.layers import Conv2D, MaxPooling2D\n",
    "from keras.layers import Activation, Dropout, Flatten, Dense\n",
    "\n",
    "import matplotlib.pyplot as plt\n",
    "\n",
    "import pickle\n",
    "\n",
    "import numpy as np\n",
    "\n",
    "from sklearn.metrics import recall_score\n",
    "from sklearn.metrics import precision_score\n",
    "from sklearn.metrics import roc_auc_score\n",
    "from sklearn.metrics import roc_curve\n",
    "from sklearn.metrics import precision_recall_curve, f1_score, auc"
   ]
  },
  {
   "cell_type": "markdown",
   "metadata": {},
   "source": [
    "## Convolution and pooling layers"
   ]
  },
  {
   "cell_type": "code",
   "execution_count": 3,
   "metadata": {},
   "outputs": [],
   "source": [
    "model = Sequential()\n",
    "model.add(Conv2D(32, (3, 3), input_shape=(150, 150, 3)))\n",
    "model.add(Activation('relu'))\n",
    "model.add(MaxPooling2D(pool_size=(2, 2)))\n",
    "\n",
    "model.add(Conv2D(32, (3, 3)))\n",
    "model.add(Activation('relu'))\n",
    "model.add(MaxPooling2D(pool_size=(2, 2)))\n",
    "\n",
    "model.add(Conv2D(64, (3, 3)))\n",
    "model.add(Activation('relu'))\n",
    "model.add(MaxPooling2D(pool_size=(2, 2)))"
   ]
  },
  {
   "cell_type": "markdown",
   "metadata": {},
   "source": [
    "## Fully connected layer"
   ]
  },
  {
   "cell_type": "code",
   "execution_count": 4,
   "metadata": {},
   "outputs": [],
   "source": [
    "model.add(Flatten())  # this converts our 3D feature maps to 1D feature vectors\n",
    "model.add(Dense(64))\n",
    "model.add(Activation('relu'))\n",
    "model.add(Dropout(0.5))\n",
    "model.add(Dense(1))\n",
    "model.add(Activation('sigmoid'))"
   ]
  },
  {
   "cell_type": "markdown",
   "metadata": {},
   "source": [
    "## Compile the model"
   ]
  },
  {
   "cell_type": "code",
   "execution_count": 5,
   "metadata": {},
   "outputs": [],
   "source": [
    "model.compile(loss='binary_crossentropy',\n",
    "              optimizer='rmsprop',\n",
    "              metrics=['accuracy'])"
   ]
  },
  {
   "cell_type": "markdown",
   "metadata": {},
   "source": [
    "## Load dataset"
   ]
  },
  {
   "cell_type": "code",
   "execution_count": 6,
   "metadata": {},
   "outputs": [],
   "source": [
    "batch_size = 16"
   ]
  },
  {
   "cell_type": "code",
   "execution_count": 7,
   "metadata": {},
   "outputs": [],
   "source": [
    "# training with augmentation \n",
    "# train_datagen = ImageDataGenerator(\n",
    "#         rescale=1./255,\n",
    "#         shear_range=0.2,\n",
    "#         zoom_range=0.2,\n",
    "#         horizontal_flip=True)\n",
    "train_datagen = ImageDataGenerator(rescale=1./255)\n",
    "\n",
    "\n",
    "# test only rescale\n",
    "validation_datagen = ImageDataGenerator(rescale=1./255)"
   ]
  },
  {
   "cell_type": "code",
   "execution_count": 8,
   "metadata": {},
   "outputs": [
    {
     "name": "stdout",
     "output_type": "stream",
     "text": [
      "Found 589 images belonging to 2 classes.\n",
      "Found 147 images belonging to 2 classes.\n"
     ]
    }
   ],
   "source": [
    "train_generator = train_datagen.flow_from_directory(\n",
    "        train_PATH,  \n",
    "        target_size=(150, 150),  \n",
    "        batch_size=batch_size,\n",
    "        class_mode='binary')  \n",
    "\n",
    "# validation set is not shuffled\n",
    "validation_generator = validation_datagen.flow_from_directory(\n",
    "        valid_PATH,\n",
    "        target_size=(150, 150),\n",
    "        batch_size=batch_size,\n",
    "        class_mode='binary',\n",
    "        shuffle=False)"
   ]
  },
  {
   "cell_type": "code",
   "execution_count": 9,
   "metadata": {},
   "outputs": [],
   "source": [
    "train_size = len(train_generator.filenames)\n",
    "validation_size = len(validation_generator.filenames)"
   ]
  },
  {
   "cell_type": "markdown",
   "metadata": {},
   "source": [
    "## Fitting the model"
   ]
  },
  {
   "cell_type": "code",
   "execution_count": 10,
   "metadata": {
    "scrolled": false
   },
   "outputs": [
    {
     "name": "stdout",
     "output_type": "stream",
     "text": [
      "Epoch 1/200\n",
      "36/36 [==============================] - 106s 3s/step - loss: 0.7290 - accuracy: 0.7714 - val_loss: 0.2256 - val_accuracy: 0.7917\n",
      "Epoch 2/200\n",
      "36/36 [==============================] - 108s 3s/step - loss: 0.5670 - accuracy: 0.7976 - val_loss: 0.2207 - val_accuracy: 0.7710\n",
      "Epoch 3/200\n",
      "36/36 [==============================] - 14488s 402s/step - loss: 0.5325 - accuracy: 0.7923 - val_loss: 0.3958 - val_accuracy: 0.7710\n",
      "Epoch 4/200\n",
      "36/36 [==============================] - 14479s 402s/step - loss: 0.5433 - accuracy: 0.7941 - val_loss: 0.1912 - val_accuracy: 0.7710\n",
      "Epoch 5/200\n",
      "36/36 [==============================] - 595s 17s/step - loss: 0.5146 - accuracy: 0.7871 - val_loss: 0.1872 - val_accuracy: 0.7710\n",
      "Epoch 6/200\n",
      "36/36 [==============================] - 98s 3s/step - loss: 0.5000 - accuracy: 0.8237 - val_loss: 0.1775 - val_accuracy: 0.7710\n",
      "Epoch 7/200\n",
      "36/36 [==============================] - 90s 3s/step - loss: 0.5241 - accuracy: 0.7836 - val_loss: 0.2071 - val_accuracy: 0.7710\n",
      "Epoch 8/200\n",
      "36/36 [==============================] - 90s 2s/step - loss: 0.5225 - accuracy: 0.7871 - val_loss: 1.2938 - val_accuracy: 0.7710\n",
      "Epoch 9/200\n",
      "36/36 [==============================] - 88s 2s/step - loss: 0.4789 - accuracy: 0.8045 - val_loss: 1.4064 - val_accuracy: 0.8779\n",
      "Epoch 10/200\n",
      "36/36 [==============================] - 85s 2s/step - loss: 0.4677 - accuracy: 0.8010 - val_loss: 0.1655 - val_accuracy: 0.9008\n",
      "Epoch 11/200\n",
      "36/36 [==============================] - 93s 3s/step - loss: 0.4446 - accuracy: 0.8003 - val_loss: 0.1090 - val_accuracy: 0.7917\n",
      "Epoch 12/200\n",
      "36/36 [==============================] - 105s 3s/step - loss: 0.3671 - accuracy: 0.8333 - val_loss: 0.0710 - val_accuracy: 0.7863\n",
      "Epoch 13/200\n",
      "36/36 [==============================] - 92s 3s/step - loss: 0.3882 - accuracy: 0.8342 - val_loss: 0.2568 - val_accuracy: 0.8168\n",
      "Epoch 14/200\n",
      "36/36 [==============================] - 90s 3s/step - loss: 0.3290 - accuracy: 0.8360 - val_loss: 0.0554 - val_accuracy: 0.7939\n",
      "Epoch 15/200\n",
      "36/36 [==============================] - 91s 3s/step - loss: 0.2941 - accuracy: 0.8403 - val_loss: 0.2607 - val_accuracy: 0.8092\n",
      "Epoch 16/200\n",
      "36/36 [==============================] - 89s 2s/step - loss: 0.2447 - accuracy: 0.8632 - val_loss: 0.0916 - val_accuracy: 0.7939\n",
      "Epoch 17/200\n",
      "36/36 [==============================] - 91s 3s/step - loss: 0.2314 - accuracy: 0.8656 - val_loss: 0.1545 - val_accuracy: 0.7939\n",
      "Epoch 18/200\n",
      "36/36 [==============================] - 93s 3s/step - loss: 0.1840 - accuracy: 0.9162 - val_loss: 2.9129 - val_accuracy: 0.8244\n",
      "Epoch 19/200\n",
      "36/36 [==============================] - 88s 2s/step - loss: 0.1907 - accuracy: 0.9250 - val_loss: 3.4907 - val_accuracy: 0.7939\n",
      "Epoch 20/200\n",
      "36/36 [==============================] - 87s 2s/step - loss: 0.1716 - accuracy: 0.9323 - val_loss: 0.0034 - val_accuracy: 0.8931\n",
      "Epoch 21/200\n",
      "36/36 [==============================] - 94s 3s/step - loss: 0.1203 - accuracy: 0.9494 - val_loss: 0.0552 - val_accuracy: 0.8194\n",
      "Epoch 22/200\n",
      "36/36 [==============================] - 106s 3s/step - loss: 0.1236 - accuracy: 0.9456 - val_loss: 0.0300 - val_accuracy: 0.7786\n",
      "Epoch 23/200\n",
      "36/36 [==============================] - 92s 3s/step - loss: 0.1117 - accuracy: 0.9514 - val_loss: 0.1005 - val_accuracy: 0.7786\n",
      "Epoch 24/200\n",
      "36/36 [==============================] - 90s 2s/step - loss: 0.0998 - accuracy: 0.9544 - val_loss: 0.1089 - val_accuracy: 0.7863\n",
      "Epoch 25/200\n",
      "36/36 [==============================] - 91s 3s/step - loss: 0.0704 - accuracy: 0.9756 - val_loss: 0.0242 - val_accuracy: 0.7939\n",
      "Epoch 26/200\n",
      "36/36 [==============================] - 90s 3s/step - loss: 0.0601 - accuracy: 0.9774 - val_loss: 0.0235 - val_accuracy: 0.8015\n",
      "Epoch 27/200\n",
      "36/36 [==============================] - 98s 3s/step - loss: 0.0499 - accuracy: 0.9895 - val_loss: 0.5689 - val_accuracy: 0.7863\n",
      "Epoch 28/200\n",
      "36/36 [==============================] - 90s 2s/step - loss: 0.0847 - accuracy: 0.9754 - val_loss: 4.5627 - val_accuracy: 0.8168\n",
      "Epoch 29/200\n",
      "36/36 [==============================] - 88s 2s/step - loss: 0.0538 - accuracy: 0.9792 - val_loss: 13.4026 - val_accuracy: 0.8702\n",
      "Epoch 30/200\n",
      "36/36 [==============================] - 87s 2s/step - loss: 0.0518 - accuracy: 0.9825 - val_loss: 0.0056 - val_accuracy: 0.7863\n",
      "Epoch 31/200\n",
      "36/36 [==============================] - 92s 3s/step - loss: 0.0790 - accuracy: 0.9651 - val_loss: 0.2816 - val_accuracy: 0.7986\n",
      "Epoch 32/200\n",
      "36/36 [==============================] - 103s 3s/step - loss: 0.0425 - accuracy: 0.9860 - val_loss: 0.0191 - val_accuracy: 0.7786\n",
      "Epoch 33/200\n",
      "36/36 [==============================] - 96s 3s/step - loss: 0.0213 - accuracy: 0.9913 - val_loss: 0.0876 - val_accuracy: 0.7863\n",
      "Epoch 34/200\n",
      "36/36 [==============================] - 93s 3s/step - loss: 0.0429 - accuracy: 0.9825 - val_loss: 0.1850 - val_accuracy: 0.7786\n",
      "Epoch 35/200\n",
      "36/36 [==============================] - 91s 3s/step - loss: 0.0252 - accuracy: 0.9878 - val_loss: 0.1436 - val_accuracy: 0.7710\n",
      "Epoch 36/200\n",
      "36/36 [==============================] - 91s 3s/step - loss: 0.0337 - accuracy: 0.9878 - val_loss: 0.0133 - val_accuracy: 0.7786\n",
      "Epoch 37/200\n",
      "36/36 [==============================] - 94s 3s/step - loss: 0.0281 - accuracy: 0.9930 - val_loss: 1.1004 - val_accuracy: 0.7786\n",
      "Epoch 38/200\n",
      "36/36 [==============================] - 91s 3s/step - loss: 0.0564 - accuracy: 0.9808 - val_loss: 6.1023 - val_accuracy: 0.7786\n",
      "Epoch 39/200\n",
      "36/36 [==============================] - 94s 3s/step - loss: 0.0114 - accuracy: 0.9948 - val_loss: 29.7390 - val_accuracy: 0.8779\n",
      "Epoch 40/200\n",
      "36/36 [==============================] - 92s 3s/step - loss: 0.0338 - accuracy: 0.9842 - val_loss: 5.2894e-05 - val_accuracy: 0.8626\n",
      "Epoch 41/200\n",
      "36/36 [==============================] - 91s 3s/step - loss: 0.0235 - accuracy: 0.9913 - val_loss: 0.6315 - val_accuracy: 0.7778\n",
      "Epoch 42/200\n",
      "36/36 [==============================] - 103s 3s/step - loss: 0.0307 - accuracy: 0.9878 - val_loss: 0.0043 - val_accuracy: 0.7863\n",
      "Epoch 43/200\n",
      "36/36 [==============================] - 97s 3s/step - loss: 0.0142 - accuracy: 0.9930 - val_loss: 0.2597 - val_accuracy: 0.7786\n",
      "Epoch 44/200\n",
      "36/36 [==============================] - 92s 3s/step - loss: 0.0378 - accuracy: 0.9843 - val_loss: 0.2047 - val_accuracy: 0.7863\n",
      "Epoch 45/200\n",
      "36/36 [==============================] - 90s 2s/step - loss: 0.0326 - accuracy: 0.9878 - val_loss: 0.0010 - val_accuracy: 0.8015\n",
      "Epoch 46/200\n",
      "36/36 [==============================] - 91s 3s/step - loss: 0.0383 - accuracy: 0.9860 - val_loss: 2.3279e-04 - val_accuracy: 0.7710\n",
      "Epoch 47/200\n",
      "36/36 [==============================] - 90s 3s/step - loss: 0.0242 - accuracy: 0.9948 - val_loss: 1.5339 - val_accuracy: 0.7634\n",
      "Epoch 48/200\n",
      "36/36 [==============================] - 90s 2s/step - loss: 0.0244 - accuracy: 0.9948 - val_loss: 5.1473 - val_accuracy: 0.8015\n",
      "Epoch 49/200\n",
      "36/36 [==============================] - 83s 2s/step - loss: 0.0430 - accuracy: 0.9860 - val_loss: 15.7286 - val_accuracy: 0.8397\n",
      "Epoch 50/200\n",
      "36/36 [==============================] - 63s 2s/step - loss: 0.0345 - accuracy: 0.9895 - val_loss: 0.0070 - val_accuracy: 0.8168\n",
      "Epoch 51/200\n",
      "36/36 [==============================] - 72s 2s/step - loss: 0.0091 - accuracy: 0.9983 - val_loss: 0.2448 - val_accuracy: 0.7847\n",
      "Epoch 52/200\n",
      "36/36 [==============================] - 81s 2s/step - loss: 0.0317 - accuracy: 0.9913 - val_loss: 1.3376e-04 - val_accuracy: 0.7786\n",
      "Epoch 53/200\n",
      "36/36 [==============================] - 73s 2s/step - loss: 0.0458 - accuracy: 0.9842 - val_loss: 0.3761 - val_accuracy: 0.7634\n",
      "Epoch 54/200\n",
      "36/36 [==============================] - 74s 2s/step - loss: 0.0270 - accuracy: 0.9930 - val_loss: 0.2100 - val_accuracy: 0.7786\n",
      "Epoch 55/200\n",
      "36/36 [==============================] - 77s 2s/step - loss: 0.0022 - accuracy: 1.0000 - val_loss: 0.0081 - val_accuracy: 0.7710\n",
      "Epoch 56/200\n",
      "36/36 [==============================] - 65s 2s/step - loss: 0.0233 - accuracy: 0.9913 - val_loss: 0.1594 - val_accuracy: 0.7557\n",
      "Epoch 57/200\n",
      "36/36 [==============================] - 67s 2s/step - loss: 0.0051 - accuracy: 0.9983 - val_loss: 2.2402 - val_accuracy: 0.7634\n",
      "Epoch 58/200\n"
     ]
    },
    {
     "name": "stdout",
     "output_type": "stream",
     "text": [
      "36/36 [==============================] - 73s 2s/step - loss: 0.0288 - accuracy: 0.9895 - val_loss: 10.9678 - val_accuracy: 0.7863\n",
      "Epoch 59/200\n",
      "36/36 [==============================] - 85s 2s/step - loss: 0.0237 - accuracy: 0.9913 - val_loss: 16.1138 - val_accuracy: 0.8702\n",
      "Epoch 60/200\n",
      "36/36 [==============================] - 76s 2s/step - loss: 0.0424 - accuracy: 0.9895 - val_loss: 2.0097e-05 - val_accuracy: 0.8702\n",
      "Epoch 61/200\n",
      "36/36 [==============================] - 79s 2s/step - loss: 0.0131 - accuracy: 0.9948 - val_loss: 0.4093 - val_accuracy: 0.7847\n",
      "Epoch 62/200\n",
      "36/36 [==============================] - 93s 3s/step - loss: 0.0147 - accuracy: 0.9930 - val_loss: 0.0014 - val_accuracy: 0.7786\n",
      "Epoch 63/200\n",
      "36/36 [==============================] - 72s 2s/step - loss: 0.0180 - accuracy: 0.9913 - val_loss: 0.2740 - val_accuracy: 0.7557\n",
      "Epoch 64/200\n",
      "36/36 [==============================] - 65s 2s/step - loss: 0.0316 - accuracy: 0.9913 - val_loss: 0.3176 - val_accuracy: 0.7557\n",
      "Epoch 65/200\n",
      "36/36 [==============================] - 63s 2s/step - loss: 0.0096 - accuracy: 0.9948 - val_loss: 0.0826 - val_accuracy: 0.7557\n",
      "Epoch 66/200\n",
      "36/36 [==============================] - 61s 2s/step - loss: 0.0035 - accuracy: 0.9983 - val_loss: 2.8459e-05 - val_accuracy: 0.7710\n",
      "Epoch 67/200\n",
      "36/36 [==============================] - 68s 2s/step - loss: 0.0365 - accuracy: 0.9895 - val_loss: 1.1033 - val_accuracy: 0.7863\n",
      "Epoch 68/200\n",
      "36/36 [==============================] - 79s 2s/step - loss: 0.0168 - accuracy: 0.9965 - val_loss: 13.6129 - val_accuracy: 0.7863\n",
      "Epoch 69/200\n",
      "36/36 [==============================] - 70s 2s/step - loss: 0.0037 - accuracy: 0.9982 - val_loss: 27.7184 - val_accuracy: 0.8244\n",
      "Epoch 70/200\n",
      "36/36 [==============================] - 68s 2s/step - loss: 0.0368 - accuracy: 0.9878 - val_loss: 1.8278e-05 - val_accuracy: 0.8779\n",
      "Epoch 71/200\n",
      "36/36 [==============================] - 66s 2s/step - loss: 0.0068 - accuracy: 0.9965 - val_loss: 0.6426 - val_accuracy: 0.7639\n",
      "Epoch 72/200\n",
      "36/36 [==============================] - 88s 2s/step - loss: 0.0107 - accuracy: 0.9983 - val_loss: 0.0085 - val_accuracy: 0.7786\n",
      "Epoch 73/200\n",
      "36/36 [==============================] - 74s 2s/step - loss: 0.0098 - accuracy: 0.9948 - val_loss: 0.4366 - val_accuracy: 0.7557\n",
      "Epoch 74/200\n",
      "36/36 [==============================] - 68s 2s/step - loss: 0.0124 - accuracy: 0.9965 - val_loss: 0.2773 - val_accuracy: 0.7710\n",
      "Epoch 75/200\n",
      "36/36 [==============================] - 66s 2s/step - loss: 0.0115 - accuracy: 0.9965 - val_loss: 0.3564 - val_accuracy: 0.7634\n",
      "Epoch 76/200\n",
      "36/36 [==============================] - 68s 2s/step - loss: 0.0128 - accuracy: 0.9965 - val_loss: 0.0018 - val_accuracy: 0.7786\n",
      "Epoch 77/200\n",
      "36/36 [==============================] - 64s 2s/step - loss: 0.0060 - accuracy: 0.9983 - val_loss: 1.9803 - val_accuracy: 0.7634\n",
      "Epoch 78/200\n",
      "36/36 [==============================] - 64s 2s/step - loss: 0.0172 - accuracy: 0.9930 - val_loss: 10.4193 - val_accuracy: 0.7786\n",
      "Epoch 79/200\n",
      "36/36 [==============================] - 67s 2s/step - loss: 0.0128 - accuracy: 0.9965 - val_loss: 33.2297 - val_accuracy: 0.8702\n",
      "Epoch 80/200\n",
      "36/36 [==============================] - 70s 2s/step - loss: 0.0150 - accuracy: 0.9930 - val_loss: 0.0084 - val_accuracy: 0.8702\n",
      "Epoch 81/200\n",
      "36/36 [==============================] - 68s 2s/step - loss: 0.0234 - accuracy: 0.9983 - val_loss: 0.5630 - val_accuracy: 0.7778\n",
      "Epoch 82/200\n",
      "36/36 [==============================] - 72s 2s/step - loss: 0.0351 - accuracy: 0.9913 - val_loss: 1.5900e-04 - val_accuracy: 0.7710\n",
      "Epoch 83/200\n",
      "36/36 [==============================] - 77s 2s/step - loss: 0.0168 - accuracy: 0.9965 - val_loss: 0.4106 - val_accuracy: 0.7710\n",
      "Epoch 84/200\n",
      "36/36 [==============================] - 63s 2s/step - loss: 0.0387 - accuracy: 0.9895 - val_loss: 0.5420 - val_accuracy: 0.7786\n",
      "Epoch 85/200\n",
      "36/36 [==============================] - 66s 2s/step - loss: 0.0326 - accuracy: 0.9913 - val_loss: 0.2470 - val_accuracy: 0.7557\n",
      "Epoch 86/200\n",
      "36/36 [==============================] - 64s 2s/step - loss: 0.0250 - accuracy: 0.9878 - val_loss: 0.0690 - val_accuracy: 0.7863\n",
      "Epoch 87/200\n",
      "36/36 [==============================] - 64s 2s/step - loss: 0.0316 - accuracy: 0.9965 - val_loss: 2.1261 - val_accuracy: 0.7634\n",
      "Epoch 88/200\n",
      "36/36 [==============================] - 62s 2s/step - loss: 0.0380 - accuracy: 0.9913 - val_loss: 13.1456 - val_accuracy: 0.7939\n",
      "Epoch 89/200\n",
      "36/36 [==============================] - 67s 2s/step - loss: 0.0089 - accuracy: 0.9965 - val_loss: 28.1873 - val_accuracy: 0.8626\n",
      "Epoch 90/200\n",
      "36/36 [==============================] - 69s 2s/step - loss: 0.0163 - accuracy: 0.9912 - val_loss: 2.0850e-06 - val_accuracy: 0.8550\n",
      "Epoch 91/200\n",
      "36/36 [==============================] - 66s 2s/step - loss: 0.0184 - accuracy: 0.9983 - val_loss: 0.6982 - val_accuracy: 0.7708\n",
      "Epoch 92/200\n",
      "36/36 [==============================] - 82s 2s/step - loss: 0.0021 - accuracy: 0.9983 - val_loss: 1.5313e-05 - val_accuracy: 0.7634\n",
      "Epoch 93/200\n",
      "36/36 [==============================] - 66s 2s/step - loss: 0.0269 - accuracy: 0.9930 - val_loss: 0.0775 - val_accuracy: 0.7786\n",
      "Epoch 94/200\n",
      "36/36 [==============================] - 66s 2s/step - loss: 0.0126 - accuracy: 0.9965 - val_loss: 0.4877 - val_accuracy: 0.7710\n",
      "Epoch 95/200\n",
      "36/36 [==============================] - 68s 2s/step - loss: 0.0163 - accuracy: 0.9983 - val_loss: 0.2165 - val_accuracy: 0.7557\n",
      "Epoch 96/200\n",
      "36/36 [==============================] - 63s 2s/step - loss: 0.0021 - accuracy: 1.0000 - val_loss: 1.2782e-05 - val_accuracy: 0.7634\n",
      "Epoch 97/200\n",
      "36/36 [==============================] - 72s 2s/step - loss: 0.0251 - accuracy: 0.9948 - val_loss: 2.2191 - val_accuracy: 0.7786\n",
      "Epoch 98/200\n",
      "36/36 [==============================] - 68s 2s/step - loss: 0.0599 - accuracy: 0.9895 - val_loss: 8.7388 - val_accuracy: 0.7939\n",
      "Epoch 99/200\n",
      "36/36 [==============================] - 68s 2s/step - loss: 0.0094 - accuracy: 0.9965 - val_loss: 20.1473 - val_accuracy: 0.7481\n",
      "Epoch 100/200\n",
      "36/36 [==============================] - 71s 2s/step - loss: 0.0104 - accuracy: 0.9948 - val_loss: 0.6381 - val_accuracy: 0.8550\n",
      "Epoch 101/200\n",
      "36/36 [==============================] - 74s 2s/step - loss: 0.0416 - accuracy: 0.9930 - val_loss: 1.0267 - val_accuracy: 0.7708\n",
      "Epoch 102/200\n",
      "36/36 [==============================] - 85s 2s/step - loss: 0.0513 - accuracy: 0.9895 - val_loss: 0.0054 - val_accuracy: 0.7710\n",
      "Epoch 103/200\n",
      "36/36 [==============================] - 69s 2s/step - loss: 9.9325e-04 - accuracy: 1.0000 - val_loss: 0.4029 - val_accuracy: 0.7481\n",
      "Epoch 104/200\n",
      "36/36 [==============================] - 70s 2s/step - loss: 0.0154 - accuracy: 0.9930 - val_loss: 0.0789 - val_accuracy: 0.7939\n",
      "Epoch 105/200\n",
      "36/36 [==============================] - 65s 2s/step - loss: 0.0157 - accuracy: 0.9913 - val_loss: 0.3362 - val_accuracy: 0.7710\n",
      "Epoch 106/200\n",
      "36/36 [==============================] - 64s 2s/step - loss: 0.0038 - accuracy: 0.9983 - val_loss: 0.0380 - val_accuracy: 0.7634\n",
      "Epoch 107/200\n",
      "36/36 [==============================] - 69s 2s/step - loss: 0.0447 - accuracy: 0.9878 - val_loss: 2.5368 - val_accuracy: 0.7405\n",
      "Epoch 108/200\n",
      "36/36 [==============================] - 67s 2s/step - loss: 0.0119 - accuracy: 0.9947 - val_loss: 11.4724 - val_accuracy: 0.7634\n",
      "Epoch 109/200\n",
      "36/36 [==============================] - 68s 2s/step - loss: 0.0029 - accuracy: 1.0000 - val_loss: 38.2432 - val_accuracy: 0.8473\n",
      "Epoch 110/200\n",
      "36/36 [==============================] - 65s 2s/step - loss: 0.0129 - accuracy: 0.9965 - val_loss: 2.3446e-06 - val_accuracy: 0.8702\n",
      "Epoch 111/200\n",
      "36/36 [==============================] - 73s 2s/step - loss: 0.0348 - accuracy: 0.9948 - val_loss: 1.5666 - val_accuracy: 0.7708\n",
      "Epoch 112/200\n",
      "36/36 [==============================] - 76s 2s/step - loss: 0.0345 - accuracy: 0.9913 - val_loss: 0.0024 - val_accuracy: 0.7634\n",
      "Epoch 113/200\n",
      "36/36 [==============================] - 73s 2s/step - loss: 0.0017 - accuracy: 0.9983 - val_loss: 0.0529 - val_accuracy: 0.7710\n",
      "Epoch 114/200\n",
      "36/36 [==============================] - 71s 2s/step - loss: 0.0314 - accuracy: 0.9930 - val_loss: 0.6512 - val_accuracy: 0.8015\n",
      "Epoch 115/200\n"
     ]
    },
    {
     "name": "stdout",
     "output_type": "stream",
     "text": [
      "36/36 [==============================] - 68s 2s/step - loss: 0.0036 - accuracy: 0.9983 - val_loss: 0.0018 - val_accuracy: 0.7939\n",
      "Epoch 116/200\n",
      "36/36 [==============================] - 65s 2s/step - loss: 0.0106 - accuracy: 0.9948 - val_loss: 0.0014 - val_accuracy: 0.7634\n",
      "Epoch 117/200\n",
      "36/36 [==============================] - 64s 2s/step - loss: 0.0353 - accuracy: 0.9895 - val_loss: 2.1631 - val_accuracy: 0.7939\n",
      "Epoch 118/200\n",
      "36/36 [==============================] - 63s 2s/step - loss: 4.8169e-04 - accuracy: 1.0000 - val_loss: 12.9782 - val_accuracy: 0.7710\n",
      "Epoch 119/200\n",
      "36/36 [==============================] - 81s 2s/step - loss: 0.0070 - accuracy: 0.9965 - val_loss: 41.6745 - val_accuracy: 0.8473\n",
      "Epoch 120/200\n",
      "36/36 [==============================] - 68s 2s/step - loss: 0.0224 - accuracy: 0.9948 - val_loss: 4.0180e-10 - val_accuracy: 0.8779\n",
      "Epoch 121/200\n",
      "36/36 [==============================] - 170s 5s/step - loss: 0.0342 - accuracy: 0.9895 - val_loss: 0.4326 - val_accuracy: 0.7847\n",
      "Epoch 122/200\n",
      "36/36 [==============================] - 190s 5s/step - loss: 0.0258 - accuracy: 0.9947 - val_loss: 2.9974e-04 - val_accuracy: 0.7710\n",
      "Epoch 123/200\n",
      "36/36 [==============================] - 153s 4s/step - loss: 0.0037 - accuracy: 0.9983 - val_loss: 0.4791 - val_accuracy: 0.7481\n",
      "Epoch 124/200\n",
      "36/36 [==============================] - 154s 4s/step - loss: 0.0658 - accuracy: 0.9878 - val_loss: 0.0106 - val_accuracy: 0.7634\n",
      "Epoch 125/200\n",
      "36/36 [==============================] - 167s 5s/step - loss: 0.0018 - accuracy: 0.9982 - val_loss: 0.1252 - val_accuracy: 0.7557\n",
      "Epoch 126/200\n",
      "36/36 [==============================] - 166s 5s/step - loss: 0.0381 - accuracy: 0.9930 - val_loss: 0.1780 - val_accuracy: 0.7405\n",
      "Epoch 127/200\n",
      "36/36 [==============================] - 175s 5s/step - loss: 0.0014 - accuracy: 1.0000 - val_loss: 2.2384 - val_accuracy: 0.7557\n",
      "Epoch 128/200\n",
      "36/36 [==============================] - 157s 4s/step - loss: 0.0121 - accuracy: 0.9947 - val_loss: 13.5304 - val_accuracy: 0.7710\n",
      "Epoch 129/200\n",
      "36/36 [==============================] - 87s 2s/step - loss: 0.0216 - accuracy: 0.9965 - val_loss: 27.3814 - val_accuracy: 0.8550\n",
      "Epoch 130/200\n",
      "36/36 [==============================] - 63s 2s/step - loss: 0.0056 - accuracy: 0.9965 - val_loss: 3.1971e-07 - val_accuracy: 0.8779\n",
      "Epoch 131/200\n",
      "36/36 [==============================] - 68s 2s/step - loss: 0.0060 - accuracy: 0.9982 - val_loss: 0.7797 - val_accuracy: 0.7986\n",
      "Epoch 132/200\n",
      "36/36 [==============================] - 74s 2s/step - loss: 0.0251 - accuracy: 0.9965 - val_loss: 7.6894e-05 - val_accuracy: 0.7557\n",
      "Epoch 133/200\n",
      "36/36 [==============================] - 67s 2s/step - loss: 0.0115 - accuracy: 0.9948 - val_loss: 0.4066 - val_accuracy: 0.7710\n",
      "Epoch 134/200\n",
      "36/36 [==============================] - 65s 2s/step - loss: 0.0114 - accuracy: 0.9965 - val_loss: 0.0824 - val_accuracy: 0.7710\n",
      "Epoch 135/200\n",
      "36/36 [==============================] - 65s 2s/step - loss: 0.0185 - accuracy: 0.9930 - val_loss: 8.8671e-04 - val_accuracy: 0.7634\n",
      "Epoch 136/200\n",
      "36/36 [==============================] - 71s 2s/step - loss: 0.0017 - accuracy: 1.0000 - val_loss: 0.0011 - val_accuracy: 0.7557\n",
      "Epoch 137/200\n",
      "36/36 [==============================] - 64s 2s/step - loss: 9.3753e-05 - accuracy: 1.0000 - val_loss: 2.7436 - val_accuracy: 0.7481\n",
      "Epoch 138/200\n",
      "36/36 [==============================] - 67s 2s/step - loss: 0.0142 - accuracy: 0.9983 - val_loss: 12.8745 - val_accuracy: 0.7557\n",
      "Epoch 139/200\n",
      "36/36 [==============================] - 68s 2s/step - loss: 0.0075 - accuracy: 0.9965 - val_loss: 43.3523 - val_accuracy: 0.8092\n",
      "Epoch 140/200\n",
      "36/36 [==============================] - 70s 2s/step - loss: 0.0041 - accuracy: 0.9983 - val_loss: 6.2449e-09 - val_accuracy: 0.8244\n",
      "Epoch 141/200\n",
      "36/36 [==============================] - 64s 2s/step - loss: 0.0072 - accuracy: 0.9965 - val_loss: 1.5985 - val_accuracy: 0.7639\n",
      "Epoch 142/200\n",
      "36/36 [==============================] - 73s 2s/step - loss: 0.0147 - accuracy: 0.9913 - val_loss: 0.0436 - val_accuracy: 0.8015\n",
      "Epoch 143/200\n",
      "36/36 [==============================] - 82s 2s/step - loss: 0.0163 - accuracy: 0.9930 - val_loss: 0.2677 - val_accuracy: 0.7176\n",
      "Epoch 144/200\n",
      "36/36 [==============================] - 80s 2s/step - loss: 0.0024 - accuracy: 0.9983 - val_loss: 0.0330 - val_accuracy: 0.7863\n",
      "Epoch 145/200\n",
      "36/36 [==============================] - 75s 2s/step - loss: 0.0221 - accuracy: 0.9913 - val_loss: 0.6438 - val_accuracy: 0.7405\n",
      "Epoch 146/200\n",
      "36/36 [==============================] - 73s 2s/step - loss: 0.0018 - accuracy: 0.9983 - val_loss: 0.0028 - val_accuracy: 0.7634\n",
      "Epoch 147/200\n",
      "36/36 [==============================] - 73s 2s/step - loss: 0.0089 - accuracy: 0.9948 - val_loss: 3.1064 - val_accuracy: 0.7328\n",
      "Epoch 148/200\n",
      "36/36 [==============================] - 70s 2s/step - loss: 0.0055 - accuracy: 0.9965 - val_loss: 15.4728 - val_accuracy: 0.7405\n",
      "Epoch 149/200\n",
      "36/36 [==============================] - 70s 2s/step - loss: 0.0022 - accuracy: 0.9983 - val_loss: 49.0049 - val_accuracy: 0.8092\n",
      "Epoch 150/200\n",
      "36/36 [==============================] - 75s 2s/step - loss: 3.9644e-04 - accuracy: 1.0000 - val_loss: 4.4801e-13 - val_accuracy: 0.8321\n",
      "Epoch 151/200\n",
      "36/36 [==============================] - 75s 2s/step - loss: 5.7557e-04 - accuracy: 1.0000 - val_loss: 0.8520 - val_accuracy: 0.7431\n",
      "Epoch 152/200\n",
      "36/36 [==============================] - 79s 2s/step - loss: 0.0387 - accuracy: 0.9930 - val_loss: 7.7001e-04 - val_accuracy: 0.7481\n",
      "Epoch 153/200\n",
      "36/36 [==============================] - 75s 2s/step - loss: 1.4739e-04 - accuracy: 1.0000 - val_loss: 0.4007 - val_accuracy: 0.7328\n",
      "Epoch 154/200\n",
      "36/36 [==============================] - 73s 2s/step - loss: 8.3984e-04 - accuracy: 1.0000 - val_loss: 0.9100 - val_accuracy: 0.7176\n",
      "Epoch 155/200\n",
      "36/36 [==============================] - 68s 2s/step - loss: 0.0238 - accuracy: 0.9965 - val_loss: 0.4027 - val_accuracy: 0.7481\n",
      "Epoch 156/200\n",
      "36/36 [==============================] - 69s 2s/step - loss: 0.0070 - accuracy: 0.9983 - val_loss: 6.9834e-05 - val_accuracy: 0.7634\n",
      "Epoch 157/200\n",
      "36/36 [==============================] - 68s 2s/step - loss: 0.0079 - accuracy: 0.9965 - val_loss: 2.5059 - val_accuracy: 0.7557\n",
      "Epoch 158/200\n",
      "36/36 [==============================] - 69s 2s/step - loss: 0.0019 - accuracy: 1.0000 - val_loss: 32.7708 - val_accuracy: 0.7786\n",
      "Epoch 159/200\n",
      "36/36 [==============================] - 71s 2s/step - loss: 0.0243 - accuracy: 0.9982 - val_loss: 59.4487 - val_accuracy: 0.8550\n",
      "Epoch 160/200\n",
      "36/36 [==============================] - 70s 2s/step - loss: 0.0032 - accuracy: 0.9983 - val_loss: 3.6476e-09 - val_accuracy: 0.8550\n",
      "Epoch 161/200\n",
      "36/36 [==============================] - 73s 2s/step - loss: 0.0046 - accuracy: 0.9983 - val_loss: 0.9293 - val_accuracy: 0.7708\n",
      "Epoch 162/200\n",
      "36/36 [==============================] - 79s 2s/step - loss: 0.0130 - accuracy: 0.9965 - val_loss: 1.1058e-05 - val_accuracy: 0.7557\n",
      "Epoch 163/200\n",
      "36/36 [==============================] - 70s 2s/step - loss: 0.0101 - accuracy: 0.9983 - val_loss: 0.4464 - val_accuracy: 0.7481\n",
      "Epoch 164/200\n",
      "36/36 [==============================] - 69s 2s/step - loss: 0.0085 - accuracy: 0.9965 - val_loss: 0.7199 - val_accuracy: 0.7405\n",
      "Epoch 165/200\n",
      "36/36 [==============================] - 68s 2s/step - loss: 9.5822e-04 - accuracy: 1.0000 - val_loss: 0.4170 - val_accuracy: 0.7634\n",
      "Epoch 166/200\n",
      "36/36 [==============================] - 67s 2s/step - loss: 0.0589 - accuracy: 0.9965 - val_loss: 6.6541e-05 - val_accuracy: 0.7863\n",
      "Epoch 167/200\n",
      "36/36 [==============================] - 65s 2s/step - loss: 0.0145 - accuracy: 0.9965 - val_loss: 2.4091 - val_accuracy: 0.7786\n",
      "Epoch 168/200\n",
      "36/36 [==============================] - 68s 2s/step - loss: 0.0051 - accuracy: 0.9982 - val_loss: 17.1771 - val_accuracy: 0.7939\n",
      "Epoch 169/200\n",
      "36/36 [==============================] - 89s 2s/step - loss: 0.0023 - accuracy: 0.9983 - val_loss: 64.5702 - val_accuracy: 0.8321\n",
      "Epoch 170/200\n",
      "36/36 [==============================] - 75s 2s/step - loss: 1.6480e-04 - accuracy: 1.0000 - val_loss: 4.6106e-16 - val_accuracy: 0.8397\n",
      "Epoch 171/200\n"
     ]
    },
    {
     "name": "stdout",
     "output_type": "stream",
     "text": [
      "36/36 [==============================] - 73s 2s/step - loss: 0.0022 - accuracy: 1.0000 - val_loss: 1.8645 - val_accuracy: 0.7569\n",
      "Epoch 172/200\n",
      "36/36 [==============================] - 81s 2s/step - loss: 0.0161 - accuracy: 0.9948 - val_loss: 0.0343 - val_accuracy: 0.7786\n",
      "Epoch 173/200\n",
      "36/36 [==============================] - 64s 2s/step - loss: 0.0015 - accuracy: 1.0000 - val_loss: 0.5299 - val_accuracy: 0.7557\n",
      "Epoch 174/200\n",
      "36/36 [==============================] - 64s 2s/step - loss: 1.7114e-04 - accuracy: 1.0000 - val_loss: 0.8621 - val_accuracy: 0.7481\n",
      "Epoch 175/200\n",
      "36/36 [==============================] - 76s 2s/step - loss: 0.0036 - accuracy: 0.9982 - val_loss: 0.0163 - val_accuracy: 0.7786\n",
      "Epoch 176/200\n",
      "36/36 [==============================] - 78s 2s/step - loss: 0.0123 - accuracy: 0.9948 - val_loss: 0.0216 - val_accuracy: 0.7710\n",
      "Epoch 177/200\n",
      "36/36 [==============================] - 76s 2s/step - loss: 0.0164 - accuracy: 0.9983 - val_loss: 2.7343 - val_accuracy: 0.7786\n",
      "Epoch 178/200\n",
      "36/36 [==============================] - 62s 2s/step - loss: 0.0096 - accuracy: 0.9982 - val_loss: 20.8154 - val_accuracy: 0.7786\n",
      "Epoch 179/200\n",
      "36/36 [==============================] - 70s 2s/step - loss: 4.8117e-04 - accuracy: 1.0000 - val_loss: 59.0939 - val_accuracy: 0.8397\n",
      "Epoch 180/200\n",
      "36/36 [==============================] - 66s 2s/step - loss: 2.2229e-04 - accuracy: 1.0000 - val_loss: 7.3897e-12 - val_accuracy: 0.9008\n",
      "Epoch 181/200\n",
      "36/36 [==============================] - 65s 2s/step - loss: 0.0022 - accuracy: 0.9983 - val_loss: 3.1529 - val_accuracy: 0.7361\n",
      "Epoch 182/200\n",
      "36/36 [==============================] - 84s 2s/step - loss: 7.7596e-04 - accuracy: 1.0000 - val_loss: 1.9697e-04 - val_accuracy: 0.7481\n",
      "Epoch 183/200\n",
      "36/36 [==============================] - 77s 2s/step - loss: 0.0130 - accuracy: 0.9948 - val_loss: 0.5795 - val_accuracy: 0.7328\n",
      "Epoch 184/200\n",
      "36/36 [==============================] - 69s 2s/step - loss: 7.5620e-04 - accuracy: 1.0000 - val_loss: 1.1651 - val_accuracy: 0.7252\n",
      "Epoch 185/200\n",
      "36/36 [==============================] - 66s 2s/step - loss: 0.0062 - accuracy: 0.9983 - val_loss: 0.9536 - val_accuracy: 0.7481\n",
      "Epoch 186/200\n",
      "36/36 [==============================] - 65s 2s/step - loss: 0.0026 - accuracy: 0.9983 - val_loss: 5.4751e-05 - val_accuracy: 0.7710\n",
      "Epoch 187/200\n",
      "36/36 [==============================] - 73s 2s/step - loss: 0.0207 - accuracy: 0.9983 - val_loss: 2.2672 - val_accuracy: 0.7634\n",
      "Epoch 188/200\n",
      "36/36 [==============================] - 74s 2s/step - loss: 9.1224e-04 - accuracy: 1.0000 - val_loss: 29.5735 - val_accuracy: 0.7557\n",
      "Epoch 189/200\n",
      "36/36 [==============================] - 78s 2s/step - loss: 0.0030 - accuracy: 0.9983 - val_loss: 69.2210 - val_accuracy: 0.8168\n",
      "Epoch 190/200\n",
      "36/36 [==============================] - 97s 3s/step - loss: 4.2035e-04 - accuracy: 1.0000 - val_loss: 8.0124e-13 - val_accuracy: 0.8702\n",
      "Epoch 191/200\n",
      "36/36 [==============================] - 79s 2s/step - loss: 0.0087 - accuracy: 0.9983 - val_loss: 0.4381 - val_accuracy: 0.7431\n",
      "Epoch 192/200\n",
      "36/36 [==============================] - 81s 2s/step - loss: 0.0028 - accuracy: 0.9983 - val_loss: 6.4771e-06 - val_accuracy: 0.7481\n",
      "Epoch 193/200\n",
      "36/36 [==============================] - 65s 2s/step - loss: 1.5866e-04 - accuracy: 1.0000 - val_loss: 0.4304 - val_accuracy: 0.7557\n",
      "Epoch 194/200\n",
      "36/36 [==============================] - 65s 2s/step - loss: 7.1611e-05 - accuracy: 1.0000 - val_loss: 0.2315 - val_accuracy: 0.7557\n",
      "Epoch 195/200\n",
      "36/36 [==============================] - 64s 2s/step - loss: 0.0220 - accuracy: 0.9983 - val_loss: 0.2184 - val_accuracy: 0.7481\n",
      "Epoch 196/200\n",
      "36/36 [==============================] - 65s 2s/step - loss: 0.0030 - accuracy: 0.9982 - val_loss: 0.0478 - val_accuracy: 0.7481\n",
      "Epoch 197/200\n",
      "36/36 [==============================] - 71s 2s/step - loss: 3.0210e-04 - accuracy: 1.0000 - val_loss: 3.4189 - val_accuracy: 0.7557\n",
      "Epoch 198/200\n",
      "36/36 [==============================] - 78s 2s/step - loss: 0.0038 - accuracy: 0.9983 - val_loss: 20.6230 - val_accuracy: 0.7557\n",
      "Epoch 199/200\n",
      "36/36 [==============================] - 81s 2s/step - loss: 1.1787e-04 - accuracy: 1.0000 - val_loss: 69.1614 - val_accuracy: 0.8092\n",
      "Epoch 200/200\n",
      "36/36 [==============================] - 79s 2s/step - loss: 0.0068 - accuracy: 0.9965 - val_loss: 6.9636e-07 - val_accuracy: 0.8550\n"
     ]
    },
    {
     "data": {
      "text/plain": [
       "<keras.callbacks.callbacks.History at 0x141918650>"
      ]
     },
     "execution_count": 10,
     "metadata": {},
     "output_type": "execute_result"
    }
   ],
   "source": [
    "model.fit_generator(\n",
    "        train_generator,\n",
    "        steps_per_epoch= train_size // batch_size,\n",
    "        epochs=200,\n",
    "        validation_data=validation_generator,\n",
    "        validation_steps= validation_size // batch_size)"
   ]
  },
  {
   "cell_type": "code",
   "execution_count": 11,
   "metadata": {},
   "outputs": [
    {
     "name": "stdout",
     "output_type": "stream",
     "text": [
      "Model: \"sequential_1\"\n",
      "_________________________________________________________________\n",
      "Layer (type)                 Output Shape              Param #   \n",
      "=================================================================\n",
      "conv2d_1 (Conv2D)            (None, 148, 148, 32)      896       \n",
      "_________________________________________________________________\n",
      "activation_1 (Activation)    (None, 148, 148, 32)      0         \n",
      "_________________________________________________________________\n",
      "max_pooling2d_1 (MaxPooling2 (None, 74, 74, 32)        0         \n",
      "_________________________________________________________________\n",
      "conv2d_2 (Conv2D)            (None, 72, 72, 32)        9248      \n",
      "_________________________________________________________________\n",
      "activation_2 (Activation)    (None, 72, 72, 32)        0         \n",
      "_________________________________________________________________\n",
      "max_pooling2d_2 (MaxPooling2 (None, 36, 36, 32)        0         \n",
      "_________________________________________________________________\n",
      "conv2d_3 (Conv2D)            (None, 34, 34, 64)        18496     \n",
      "_________________________________________________________________\n",
      "activation_3 (Activation)    (None, 34, 34, 64)        0         \n",
      "_________________________________________________________________\n",
      "max_pooling2d_3 (MaxPooling2 (None, 17, 17, 64)        0         \n",
      "_________________________________________________________________\n",
      "flatten_1 (Flatten)          (None, 18496)             0         \n",
      "_________________________________________________________________\n",
      "dense_1 (Dense)              (None, 64)                1183808   \n",
      "_________________________________________________________________\n",
      "activation_4 (Activation)    (None, 64)                0         \n",
      "_________________________________________________________________\n",
      "dropout_1 (Dropout)          (None, 64)                0         \n",
      "_________________________________________________________________\n",
      "dense_2 (Dense)              (None, 1)                 65        \n",
      "_________________________________________________________________\n",
      "activation_5 (Activation)    (None, 1)                 0         \n",
      "=================================================================\n",
      "Total params: 1,212,513\n",
      "Trainable params: 1,212,513\n",
      "Non-trainable params: 0\n",
      "_________________________________________________________________\n"
     ]
    }
   ],
   "source": [
    "model.summary()"
   ]
  },
  {
   "cell_type": "markdown",
   "metadata": {},
   "source": [
    "## Save the model"
   ]
  },
  {
   "cell_type": "code",
   "execution_count": 12,
   "metadata": {
    "scrolled": false
   },
   "outputs": [],
   "source": [
    "#model arch and weigths \n",
    "model.save(f'{name}_model.h5') \n",
    "\n",
    "#history dictionary\n",
    "with open(f'{name}_history.dict', 'wb') as file_pi:\n",
    "        pickle.dump(model.history.history, file_pi)"
   ]
  },
  {
   "cell_type": "markdown",
   "metadata": {},
   "source": [
    "## Training evaluation"
   ]
  },
  {
   "cell_type": "code",
   "execution_count": 13,
   "metadata": {},
   "outputs": [
    {
     "data": {
      "image/png": "[encoded data removed]",
      "text/plain": [
       "<Figure size 1080x360 with 2 Axes>"
      ]
     },
     "metadata": {
      "needs_background": "light"
     },
     "output_type": "display_data"
    }
   ],
   "source": [
    "fig, (ax1,ax2) = plt.subplots(ncols=2, figsize=(15,5), constrained_layout=True,)\n",
    "\n",
    "_ = fig.suptitle(f'{name} trainig result')\n",
    "\n",
    "_ = ax1.set_title('Loss')\n",
    "_ = ax1.plot(model.history.history['loss'], label='train')\n",
    "_ = ax1.plot(model.history.history['val_loss'], label='test')\n",
    "_ = ax1.legend()\n",
    "\n",
    "_ = ax2.set_title('Accuracy')\n",
    "_ = ax2.plot(model.history.history['accuracy'], label='train')\n",
    "_ = ax2.plot(model.history.history['val_accuracy'], label='test')\n",
    "_ = ax2.legend()\n",
    "\n",
    "plt.savefig(f'{name}_trainig_result.png')"
   ]
  },
  {
   "cell_type": "markdown",
   "metadata": {},
   "source": [
    "## Predictions and metrics"
   ]
  },
  {
   "cell_type": "code",
   "execution_count": 14,
   "metadata": {},
   "outputs": [],
   "source": [
    "def convert_to_binary(y):\n",
    "    pred_class = []\n",
    "    pred_prob = []\n",
    "    \n",
    "    for i in range(len(y)):\n",
    "        pred_prob.append(y[i][0])\n",
    "                   \n",
    "        if y[i][0]>=0.5:\n",
    "            pred_class.append(1)\n",
    "        else:\n",
    "            pred_class.append(0)\n",
    "            \n",
    "    return np.asarray(pred_class), np.asarray(pred_prob)"
   ]
  },
  {
   "cell_type": "code",
   "execution_count": 15,
   "metadata": {},
   "outputs": [],
   "source": [
    "#real\n",
    "y_real = validation_generator.classes\n",
    "\n",
    "#predicted\n",
    "test_pred_prob = model.predict(validation_generator)\n",
    "y_pred_class, y_pred_prob = convert_to_binary(test_pred_prob)"
   ]
  },
  {
   "cell_type": "code",
   "execution_count": 16,
   "metadata": {},
   "outputs": [
    {
     "data": {
      "text/plain": [
       "array([0, 0, 0, 0, 0, 0, 0, 0, 0, 0, 0, 0, 0, 0, 0, 0, 0, 0, 0, 0, 0, 0,\n",
       "       0, 0, 0, 0, 0, 0, 0, 0, 1, 1, 1, 1, 1, 1, 1, 1, 1, 1, 1, 1, 1, 1,\n",
       "       1, 1, 1, 1, 1, 1, 1, 1, 1, 1, 1, 1, 1, 1, 1, 1, 1, 1, 1, 1, 1, 1,\n",
       "       1, 1, 1, 1, 1, 1, 1, 1, 1, 1, 1, 1, 1, 1, 1, 1, 1, 1, 1, 1, 1, 1,\n",
       "       1, 1, 1, 1, 1, 1, 1, 1, 1, 1, 1, 1, 1, 1, 1, 1, 1, 1, 1, 1, 1, 1,\n",
       "       1, 1, 1, 1, 1, 1, 1, 1, 1, 1, 1, 1, 1, 1, 1, 1, 1, 1, 1, 1, 1, 1,\n",
       "       1, 1, 1, 1, 1, 1, 1, 1, 1, 1, 1, 1, 1, 1, 1], dtype=int32)"
      ]
     },
     "execution_count": 16,
     "metadata": {},
     "output_type": "execute_result"
    }
   ],
   "source": [
    "y_real"
   ]
  },
  {
   "cell_type": "code",
   "execution_count": 17,
   "metadata": {},
   "outputs": [
    {
     "data": {
      "text/plain": [
       "array([1, 0, 1, 1, 1, 1, 1, 1, 1, 1, 1, 0, 1, 1, 1, 1, 1, 1, 0, 1, 1, 0,\n",
       "       1, 1, 1, 1, 0, 1, 0, 1, 0, 1, 1, 1, 1, 1, 1, 1, 0, 1, 1, 1, 1, 1,\n",
       "       1, 1, 1, 1, 1, 1, 1, 1, 1, 1, 1, 0, 1, 1, 1, 1, 1, 1, 1, 1, 0, 1,\n",
       "       1, 1, 1, 1, 1, 1, 1, 1, 1, 1, 1, 1, 1, 1, 1, 1, 1, 1, 1, 1, 1, 1,\n",
       "       1, 1, 0, 1, 1, 1, 1, 1, 1, 1, 1, 1, 0, 1, 1, 1, 1, 1, 1, 1, 1, 1,\n",
       "       1, 1, 1, 1, 1, 1, 1, 1, 1, 1, 1, 1, 1, 1, 1, 1, 0, 1, 1, 0, 1, 1,\n",
       "       1, 0, 1, 1, 1, 1, 1, 1, 1, 1, 1, 1, 1, 1, 1])"
      ]
     },
     "execution_count": 17,
     "metadata": {},
     "output_type": "execute_result"
    }
   ],
   "source": [
    "y_pred_class"
   ]
  },
  {
   "cell_type": "code",
   "execution_count": 18,
   "metadata": {},
   "outputs": [],
   "source": [
    "precision = precision_score(y_real, y_pred_class)\n",
    "recall = recall_score(y_real, y_pred_class)\n",
    "\n",
    "fpr_th, tpr_th, _ = roc_curve(y_real, y_pred_prob)\n",
    "AUC_ROC = auc(fpr_th, tpr_th)\n",
    "\n",
    "precision_th, recall_th, _ = precision_recall_curve(y_real, y_pred_prob)\n",
    "PR_AUC = auc(recall_th, precision_th)"
   ]
  },
  {
   "cell_type": "code",
   "execution_count": 19,
   "metadata": {},
   "outputs": [
    {
     "name": "stdout",
     "output_type": "stream",
     "text": [
      "Precision = 0.8181818181818182\n",
      "Recall = 0.9230769230769231\n",
      "Area under ROC curve = 0.5871794871794872\n",
      "Area under precision-Recall curve = 0.8898496879557153\n"
     ]
    }
   ],
   "source": [
    "print ('Precision =',precision)\n",
    "print ('Recall =',recall)\n",
    "print ('Area under ROC curve =',AUC_ROC)\n",
    "print ('Area under precision-Recall curve =',PR_AUC)"
   ]
  },
  {
   "cell_type": "code",
   "execution_count": 20,
   "metadata": {},
   "outputs": [
    {
     "data": {
      "image/png": "[encoded data removed]",
      "text/plain": [
       "<Figure size 1080x360 with 2 Axes>"
      ]
     },
     "metadata": {
      "needs_background": "light"
     },
     "output_type": "display_data"
    }
   ],
   "source": [
    "fig, (ax1,ax2) = plt.subplots(ncols=2, figsize=(15,5), constrained_layout=True,)\n",
    "\n",
    "_ = fig.suptitle(f'{name} predicions result')\n",
    "\n",
    "_ = ax1.set_title('ROC curve')\n",
    "_ = ax1.plot(fpr_th, tpr_th)\n",
    "_ = ax1.set_xlabel('False Positive Rate')\n",
    "_ = ax1.set_ylabel('True Positive Rate')\n",
    "\n",
    "\n",
    "_ = ax2.set_title('Precision-recall')\n",
    "_ = ax2.plot(recall_th, precision_th)\n",
    "_ = ax2.set_xlabel('Recall')\n",
    "_ = ax2.set_ylabel('Precision')\n",
    "\n",
    "\n",
    "plt.savefig(f'{name}_predictions_result.png')"
   ]
  },
  {
   "cell_type": "code",
   "execution_count": null,
   "metadata": {},
   "outputs": [],
   "source": []
  }
 ],
 "metadata": {
  "kernelspec": {
   "display_name": "Python 3",
   "language": "python",
   "name": "python3"
  },
  "language_info": {
   "codemirror_mode": {
    "name": "ipython",
    "version": 3
   },
   "file_extension": ".py",
   "mimetype": "text/x-python",
   "name": "python",
   "nbconvert_exporter": "python",
   "pygments_lexer": "ipython3",
   "version": "3.7.7"
  }
 },
 "nbformat": 4,
 "nbformat_minor": 4
}
