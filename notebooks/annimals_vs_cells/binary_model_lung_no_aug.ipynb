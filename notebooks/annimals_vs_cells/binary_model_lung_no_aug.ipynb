{
 "cells": [
  {
   "cell_type": "markdown",
   "metadata": {},
   "source": [
    "## Image classification following Keras example"
   ]
  },
  {
   "cell_type": "markdown",
   "metadata": {},
   "source": [
    "Ideas come from [here](https://blog.keras.io/building-powerful-image-classification-models-using-very-little-data.html)"
   ]
  },
  {
   "cell_type": "markdown",
   "metadata": {},
   "source": [
    "## Path and names"
   ]
  },
  {
   "cell_type": "code",
   "execution_count": 1,
   "metadata": {},
   "outputs": [],
   "source": [
    "train_PATH = '../classification_set/train/'\n",
    "valid_PATH = '../classification_set/validation/'\n",
    "name = 'lung_no_aug'"
   ]
  },
  {
   "cell_type": "markdown",
   "metadata": {},
   "source": [
    "## Libraries"
   ]
  },
  {
   "cell_type": "code",
   "execution_count": 2,
   "metadata": {},
   "outputs": [
    {
     "name": "stderr",
     "output_type": "stream",
     "text": [
      "Using TensorFlow backend.\n"
     ]
    }
   ],
   "source": [
    "from keras.preprocessing.image import ImageDataGenerator\n",
    "from keras.models import Sequential\n",
    "from keras.layers import Conv2D, MaxPooling2D\n",
    "from keras.layers import Activation, Dropout, Flatten, Dense\n",
    "\n",
    "import matplotlib.pyplot as plt\n",
    "\n",
    "import pickle\n",
    "\n",
    "import numpy as np\n",
    "\n",
    "from sklearn.metrics import recall_score\n",
    "from sklearn.metrics import precision_score\n",
    "from sklearn.metrics import roc_auc_score\n",
    "from sklearn.metrics import roc_curve\n",
    "from sklearn.metrics import precision_recall_curve, f1_score, auc"
   ]
  },
  {
   "cell_type": "markdown",
   "metadata": {},
   "source": [
    "## Convolution and pooling layers"
   ]
  },
  {
   "cell_type": "code",
   "execution_count": 3,
   "metadata": {},
   "outputs": [],
   "source": [
    "model = Sequential()\n",
    "model.add(Conv2D(32, (3, 3), input_shape=(150, 150, 3)))\n",
    "model.add(Activation('relu'))\n",
    "model.add(MaxPooling2D(pool_size=(2, 2)))\n",
    "\n",
    "model.add(Conv2D(32, (3, 3)))\n",
    "model.add(Activation('relu'))\n",
    "model.add(MaxPooling2D(pool_size=(2, 2)))\n",
    "\n",
    "model.add(Conv2D(64, (3, 3)))\n",
    "model.add(Activation('relu'))\n",
    "model.add(MaxPooling2D(pool_size=(2, 2)))"
   ]
  },
  {
   "cell_type": "markdown",
   "metadata": {},
   "source": [
    "## Fully connected layer"
   ]
  },
  {
   "cell_type": "code",
   "execution_count": 4,
   "metadata": {},
   "outputs": [],
   "source": [
    "model.add(Flatten())  # this converts our 3D feature maps to 1D feature vectors\n",
    "model.add(Dense(64))\n",
    "model.add(Activation('relu'))\n",
    "model.add(Dropout(0.5))\n",
    "model.add(Dense(1))\n",
    "model.add(Activation('sigmoid'))"
   ]
  },
  {
   "cell_type": "markdown",
   "metadata": {},
   "source": [
    "## Compile the model"
   ]
  },
  {
   "cell_type": "code",
   "execution_count": 5,
   "metadata": {},
   "outputs": [],
   "source": [
    "model.compile(loss='binary_crossentropy',\n",
    "              optimizer='rmsprop',\n",
    "              metrics=['accuracy'])"
   ]
  },
  {
   "cell_type": "markdown",
   "metadata": {},
   "source": [
    "## Load dataset"
   ]
  },
  {
   "cell_type": "code",
   "execution_count": 6,
   "metadata": {},
   "outputs": [],
   "source": [
    "batch_size = 16"
   ]
  },
  {
   "cell_type": "code",
   "execution_count": 7,
   "metadata": {},
   "outputs": [],
   "source": [
    "# training with augmentation \n",
    "# train_datagen = ImageDataGenerator(\n",
    "#         rescale=1./255,\n",
    "#         shear_range=0.2,\n",
    "#         zoom_range=0.2,\n",
    "#         horizontal_flip=True)\n",
    "train_datagen = ImageDataGenerator(rescale=1./255)\n",
    "\n",
    "# test only rescale\n",
    "validation_datagen = ImageDataGenerator(rescale=1./255)"
   ]
  },
  {
   "cell_type": "code",
   "execution_count": 8,
   "metadata": {},
   "outputs": [
    {
     "name": "stdout",
     "output_type": "stream",
     "text": [
      "Found 589 images belonging to 2 classes.\n",
      "Found 147 images belonging to 2 classes.\n"
     ]
    }
   ],
   "source": [
    "train_generator = train_datagen.flow_from_directory(\n",
    "        train_PATH,  \n",
    "        target_size=(150, 150),  \n",
    "        batch_size=batch_size,\n",
    "        class_mode='binary')  \n",
    "\n",
    "# validation set is not shuffled\n",
    "validation_generator = validation_datagen.flow_from_directory(\n",
    "        valid_PATH,\n",
    "        target_size=(150, 150),\n",
    "        batch_size=batch_size,\n",
    "        class_mode='binary',\n",
    "        shuffle=False)"
   ]
  },
  {
   "cell_type": "code",
   "execution_count": 9,
   "metadata": {},
   "outputs": [],
   "source": [
    "train_size = len(train_generator.filenames)\n",
    "validation_size = len(validation_generator.filenames)"
   ]
  },
  {
   "cell_type": "markdown",
   "metadata": {},
   "source": [
    "## Fitting the model"
   ]
  },
  {
   "cell_type": "code",
   "execution_count": 10,
   "metadata": {},
   "outputs": [
    {
     "name": "stdout",
     "output_type": "stream",
     "text": [
      "Epoch 1/50\n",
      "36/36 [==============================] - 77s 2s/step - loss: 0.5672 - accuracy: 0.7696 - val_loss: 0.1439 - val_accuracy: 0.7917\n",
      "Epoch 2/50\n",
      "36/36 [==============================] - 98s 3s/step - loss: 0.5304 - accuracy: 0.7958 - val_loss: 0.4220 - val_accuracy: 0.7710\n",
      "Epoch 3/50\n",
      "36/36 [==============================] - 109s 3s/step - loss: 0.5493 - accuracy: 0.7923 - val_loss: 0.1931 - val_accuracy: 0.7710\n",
      "Epoch 4/50\n",
      "36/36 [==============================] - 7294s 203s/step - loss: 0.5258 - accuracy: 0.8028 - val_loss: 0.0729 - val_accuracy: 0.7710\n",
      "Epoch 5/50\n",
      "36/36 [==============================] - 7284s 202s/step - loss: 0.5182 - accuracy: 0.7906 - val_loss: 0.2141 - val_accuracy: 0.7710\n",
      "Epoch 6/50\n",
      "36/36 [==============================] - 14508s 403s/step - loss: 0.5422 - accuracy: 0.7923 - val_loss: 0.2816 - val_accuracy: 0.7710\n",
      "Epoch 7/50\n",
      "36/36 [==============================] - 605s 17s/step - loss: 0.5109 - accuracy: 0.8010 - val_loss: 0.3236 - val_accuracy: 0.7710\n",
      "Epoch 8/50\n",
      "36/36 [==============================] - 90s 3s/step - loss: 0.5530 - accuracy: 0.7906 - val_loss: 1.4358 - val_accuracy: 0.7710\n",
      "Epoch 9/50\n",
      "36/36 [==============================] - 88s 2s/step - loss: 0.4798 - accuracy: 0.8080 - val_loss: 1.9302 - val_accuracy: 0.8779\n",
      "Epoch 10/50\n",
      "36/36 [==============================] - 90s 2s/step - loss: 0.4981 - accuracy: 0.7993 - val_loss: 0.2377 - val_accuracy: 0.8931\n",
      "Epoch 11/50\n",
      "36/36 [==============================] - 91s 3s/step - loss: 0.4818 - accuracy: 0.7934 - val_loss: 0.3939 - val_accuracy: 0.8056\n",
      "Epoch 12/50\n",
      "36/36 [==============================] - 107s 3s/step - loss: 0.4261 - accuracy: 0.8228 - val_loss: 0.1101 - val_accuracy: 0.7710\n",
      "Epoch 13/50\n",
      "36/36 [==============================] - 87s 2s/step - loss: 0.3628 - accuracy: 0.8299 - val_loss: 0.0948 - val_accuracy: 0.7863\n",
      "Epoch 14/50\n",
      "36/36 [==============================] - 90s 2s/step - loss: 0.3264 - accuracy: 0.8456 - val_loss: 0.2560 - val_accuracy: 0.7405\n",
      "Epoch 15/50\n",
      "36/36 [==============================] - 93s 3s/step - loss: 0.3312 - accuracy: 0.8656 - val_loss: 0.3202 - val_accuracy: 0.7405\n",
      "Epoch 16/50\n",
      "36/36 [==============================] - 90s 2s/step - loss: 0.2478 - accuracy: 0.8924 - val_loss: 0.2722 - val_accuracy: 0.7634\n",
      "Epoch 17/50\n",
      "36/36 [==============================] - 90s 2s/step - loss: 0.2287 - accuracy: 0.8953 - val_loss: 0.0895 - val_accuracy: 0.7786\n",
      "Epoch 18/50\n",
      "36/36 [==============================] - 87s 2s/step - loss: 0.2043 - accuracy: 0.9145 - val_loss: 1.4327 - val_accuracy: 0.7405\n",
      "Epoch 19/50\n",
      "36/36 [==============================] - 93s 3s/step - loss: 0.1604 - accuracy: 0.9404 - val_loss: 4.3206 - val_accuracy: 0.8931\n",
      "Epoch 20/50\n",
      "36/36 [==============================] - 91s 3s/step - loss: 0.1289 - accuracy: 0.9514 - val_loss: 0.0021 - val_accuracy: 0.8855\n",
      "Epoch 21/50\n",
      "36/36 [==============================] - 94s 3s/step - loss: 0.1152 - accuracy: 0.9579 - val_loss: 0.3438 - val_accuracy: 0.7361\n",
      "Epoch 22/50\n",
      "36/36 [==============================] - 107s 3s/step - loss: 0.0909 - accuracy: 0.9653 - val_loss: 0.0748 - val_accuracy: 0.7786\n",
      "Epoch 23/50\n",
      "36/36 [==============================] - 87s 2s/step - loss: 0.0735 - accuracy: 0.9721 - val_loss: 0.0976 - val_accuracy: 0.7634\n",
      "Epoch 24/50\n",
      "36/36 [==============================] - 91s 3s/step - loss: 0.0689 - accuracy: 0.9789 - val_loss: 0.0608 - val_accuracy: 0.7710\n",
      "Epoch 25/50\n",
      "36/36 [==============================] - 91s 3s/step - loss: 0.0769 - accuracy: 0.9688 - val_loss: 0.2225 - val_accuracy: 0.7786\n",
      "Epoch 26/50\n",
      "36/36 [==============================] - 91s 3s/step - loss: 0.0550 - accuracy: 0.9807 - val_loss: 0.0738 - val_accuracy: 0.7863\n",
      "Epoch 27/50\n",
      "36/36 [==============================] - 88s 2s/step - loss: 0.0291 - accuracy: 0.9913 - val_loss: 0.6358 - val_accuracy: 0.7634\n",
      "Epoch 28/50\n",
      "36/36 [==============================] - 96s 3s/step - loss: 0.0546 - accuracy: 0.9773 - val_loss: 5.6922 - val_accuracy: 0.7710\n",
      "Epoch 29/50\n",
      "36/36 [==============================] - 94s 3s/step - loss: 0.0439 - accuracy: 0.9878 - val_loss: 14.4942 - val_accuracy: 0.8550\n",
      "Epoch 30/50\n",
      "36/36 [==============================] - 90s 3s/step - loss: 0.0347 - accuracy: 0.9878 - val_loss: 0.0024 - val_accuracy: 0.8244\n",
      "Epoch 31/50\n",
      "36/36 [==============================] - 93s 3s/step - loss: 0.0211 - accuracy: 0.9930 - val_loss: 0.7540 - val_accuracy: 0.7083\n",
      "Epoch 32/50\n",
      "36/36 [==============================] - 105s 3s/step - loss: 0.0183 - accuracy: 0.9965 - val_loss: 0.1019 - val_accuracy: 0.8015\n",
      "Epoch 33/50\n",
      "36/36 [==============================] - 84s 2s/step - loss: 0.0331 - accuracy: 0.9860 - val_loss: 0.0432 - val_accuracy: 0.7863\n",
      "Epoch 34/50\n",
      "36/36 [==============================] - 93s 3s/step - loss: 0.0310 - accuracy: 0.9843 - val_loss: 0.0617 - val_accuracy: 0.7710\n",
      "Epoch 35/50\n",
      "36/36 [==============================] - 95s 3s/step - loss: 0.0230 - accuracy: 0.9913 - val_loss: 0.3012 - val_accuracy: 0.6794\n",
      "Epoch 36/50\n",
      "36/36 [==============================] - 87s 2s/step - loss: 0.0260 - accuracy: 0.9930 - val_loss: 0.0981 - val_accuracy: 0.7481\n",
      "Epoch 37/50\n",
      "36/36 [==============================] - 90s 3s/step - loss: 0.0246 - accuracy: 0.9930 - val_loss: 0.5925 - val_accuracy: 0.7939\n",
      "Epoch 38/50\n",
      "36/36 [==============================] - 93s 3s/step - loss: 0.0533 - accuracy: 0.9860 - val_loss: 5.6543 - val_accuracy: 0.7557\n",
      "Epoch 39/50\n",
      "36/36 [==============================] - 97s 3s/step - loss: 0.0313 - accuracy: 0.9930 - val_loss: 13.4797 - val_accuracy: 0.8550\n",
      "Epoch 40/50\n",
      "36/36 [==============================] - 90s 3s/step - loss: 0.0192 - accuracy: 0.9930 - val_loss: 1.1201e-04 - val_accuracy: 0.8702\n",
      "Epoch 41/50\n",
      "36/36 [==============================] - 98s 3s/step - loss: 0.0096 - accuracy: 0.9965 - val_loss: 0.9389 - val_accuracy: 0.7361\n",
      "Epoch 42/50\n",
      "36/36 [==============================] - 106s 3s/step - loss: 0.0318 - accuracy: 0.9895 - val_loss: 0.0695 - val_accuracy: 0.7710\n",
      "Epoch 43/50\n",
      "36/36 [==============================] - 94s 3s/step - loss: 0.0089 - accuracy: 0.9965 - val_loss: 0.2932 - val_accuracy: 0.7176\n",
      "Epoch 44/50\n",
      "36/36 [==============================] - 92s 3s/step - loss: 0.0191 - accuracy: 0.9930 - val_loss: 0.5581 - val_accuracy: 0.7176\n",
      "Epoch 45/50\n",
      "36/36 [==============================] - 87s 2s/step - loss: 0.0371 - accuracy: 0.9913 - val_loss: 0.0439 - val_accuracy: 0.7939\n",
      "Epoch 46/50\n",
      "36/36 [==============================] - 85s 2s/step - loss: 0.0067 - accuracy: 0.9983 - val_loss: 0.0468 - val_accuracy: 0.7557\n",
      "Epoch 47/50\n",
      "36/36 [==============================] - 91s 3s/step - loss: 0.0205 - accuracy: 0.9913 - val_loss: 0.9885 - val_accuracy: 0.7863\n",
      "Epoch 48/50\n",
      "36/36 [==============================] - 89s 2s/step - loss: 0.0074 - accuracy: 0.9947 - val_loss: 11.6191 - val_accuracy: 0.7481\n",
      "Epoch 49/50\n",
      "36/36 [==============================] - 94s 3s/step - loss: 0.0195 - accuracy: 0.9930 - val_loss: 23.6655 - val_accuracy: 0.8473\n",
      "Epoch 50/50\n",
      "36/36 [==============================] - 90s 2s/step - loss: 0.0188 - accuracy: 0.9948 - val_loss: 0.0018 - val_accuracy: 0.8168\n"
     ]
    },
    {
     "data": {
      "text/plain": [
       "<keras.callbacks.callbacks.History at 0x132ea2650>"
      ]
     },
     "execution_count": 10,
     "metadata": {},
     "output_type": "execute_result"
    }
   ],
   "source": [
    "model.fit_generator(\n",
    "        train_generator,\n",
    "        steps_per_epoch= train_size // batch_size,\n",
    "        epochs=50,\n",
    "        validation_data=validation_generator,\n",
    "        validation_steps= validation_size // batch_size)"
   ]
  },
  {
   "cell_type": "code",
   "execution_count": 11,
   "metadata": {},
   "outputs": [
    {
     "name": "stdout",
     "output_type": "stream",
     "text": [
      "Model: \"sequential_1\"\n",
      "_________________________________________________________________\n",
      "Layer (type)                 Output Shape              Param #   \n",
      "=================================================================\n",
      "conv2d_1 (Conv2D)            (None, 148, 148, 32)      896       \n",
      "_________________________________________________________________\n",
      "activation_1 (Activation)    (None, 148, 148, 32)      0         \n",
      "_________________________________________________________________\n",
      "max_pooling2d_1 (MaxPooling2 (None, 74, 74, 32)        0         \n",
      "_________________________________________________________________\n",
      "conv2d_2 (Conv2D)            (None, 72, 72, 32)        9248      \n",
      "_________________________________________________________________\n",
      "activation_2 (Activation)    (None, 72, 72, 32)        0         \n",
      "_________________________________________________________________\n",
      "max_pooling2d_2 (MaxPooling2 (None, 36, 36, 32)        0         \n",
      "_________________________________________________________________\n",
      "conv2d_3 (Conv2D)            (None, 34, 34, 64)        18496     \n",
      "_________________________________________________________________\n",
      "activation_3 (Activation)    (None, 34, 34, 64)        0         \n",
      "_________________________________________________________________\n",
      "max_pooling2d_3 (MaxPooling2 (None, 17, 17, 64)        0         \n",
      "_________________________________________________________________\n",
      "flatten_1 (Flatten)          (None, 18496)             0         \n",
      "_________________________________________________________________\n",
      "dense_1 (Dense)              (None, 64)                1183808   \n",
      "_________________________________________________________________\n",
      "activation_4 (Activation)    (None, 64)                0         \n",
      "_________________________________________________________________\n",
      "dropout_1 (Dropout)          (None, 64)                0         \n",
      "_________________________________________________________________\n",
      "dense_2 (Dense)              (None, 1)                 65        \n",
      "_________________________________________________________________\n",
      "activation_5 (Activation)    (None, 1)                 0         \n",
      "=================================================================\n",
      "Total params: 1,212,513\n",
      "Trainable params: 1,212,513\n",
      "Non-trainable params: 0\n",
      "_________________________________________________________________\n"
     ]
    }
   ],
   "source": [
    "model.summary()"
   ]
  },
  {
   "cell_type": "markdown",
   "metadata": {},
   "source": [
    "## Save the model"
   ]
  },
  {
   "cell_type": "code",
   "execution_count": 12,
   "metadata": {
    "scrolled": false
   },
   "outputs": [],
   "source": [
    "#model arch and weigths \n",
    "model.save(f'{name}_model.h5') \n",
    "\n",
    "#history dictionary\n",
    "with open(f'{name}_history.dict', 'wb') as file_pi:\n",
    "        pickle.dump(model.history.history, file_pi)"
   ]
  },
  {
   "cell_type": "markdown",
   "metadata": {},
   "source": [
    "## Training evaluation"
   ]
  },
  {
   "cell_type": "code",
   "execution_count": 13,
   "metadata": {},
   "outputs": [
    {
     "data": {
      "image/png": "[encoded data removed]",
      "text/plain": [
       "<Figure size 1080x360 with 2 Axes>"
      ]
     },
     "metadata": {
      "needs_background": "light"
     },
     "output_type": "display_data"
    }
   ],
   "source": [
    "fig, (ax1,ax2) = plt.subplots(ncols=2, figsize=(15,5), constrained_layout=True,)\n",
    "\n",
    "_ = fig.suptitle(f'{name} trainig result')\n",
    "\n",
    "_ = ax1.set_title('Loss')\n",
    "_ = ax1.plot(model.history.history['loss'], label='train')\n",
    "_ = ax1.plot(model.history.history['val_loss'], label='test')\n",
    "_ = ax1.legend()\n",
    "\n",
    "_ = ax2.set_title('Accuracy')\n",
    "_ = ax2.plot(model.history.history['accuracy'], label='train')\n",
    "_ = ax2.plot(model.history.history['val_accuracy'], label='test')\n",
    "_ = ax2.legend()\n",
    "\n",
    "plt.savefig(f'{name}_trainig_result.png')"
   ]
  },
  {
   "cell_type": "markdown",
   "metadata": {},
   "source": [
    "## Predictions and metrics"
   ]
  },
  {
   "cell_type": "code",
   "execution_count": 14,
   "metadata": {},
   "outputs": [],
   "source": [
    "def convert_to_binary(y):\n",
    "    pred_class = []\n",
    "    pred_prob = []\n",
    "    \n",
    "    for i in range(len(y)):\n",
    "        pred_prob.append(y[i][0])\n",
    "                   \n",
    "        if y[i][0]>=0.5:\n",
    "            pred_class.append(1)\n",
    "        else:\n",
    "            pred_class.append(0)\n",
    "            \n",
    "    return np.asarray(pred_class), np.asarray(pred_prob)"
   ]
  },
  {
   "cell_type": "code",
   "execution_count": 15,
   "metadata": {},
   "outputs": [],
   "source": [
    "#real\n",
    "y_real = validation_generator.classes\n",
    "\n",
    "#predicted\n",
    "test_pred_prob = model.predict(validation_generator)\n",
    "y_pred_class, y_pred_prob = convert_to_binary(test_pred_prob)"
   ]
  },
  {
   "cell_type": "code",
   "execution_count": 16,
   "metadata": {},
   "outputs": [
    {
     "data": {
      "text/plain": [
       "array([0, 0, 0, 0, 0, 0, 0, 0, 0, 0, 0, 0, 0, 0, 0, 0, 0, 0, 0, 0, 0, 0,\n",
       "       0, 0, 0, 0, 0, 0, 0, 0, 1, 1, 1, 1, 1, 1, 1, 1, 1, 1, 1, 1, 1, 1,\n",
       "       1, 1, 1, 1, 1, 1, 1, 1, 1, 1, 1, 1, 1, 1, 1, 1, 1, 1, 1, 1, 1, 1,\n",
       "       1, 1, 1, 1, 1, 1, 1, 1, 1, 1, 1, 1, 1, 1, 1, 1, 1, 1, 1, 1, 1, 1,\n",
       "       1, 1, 1, 1, 1, 1, 1, 1, 1, 1, 1, 1, 1, 1, 1, 1, 1, 1, 1, 1, 1, 1,\n",
       "       1, 1, 1, 1, 1, 1, 1, 1, 1, 1, 1, 1, 1, 1, 1, 1, 1, 1, 1, 1, 1, 1,\n",
       "       1, 1, 1, 1, 1, 1, 1, 1, 1, 1, 1, 1, 1, 1, 1], dtype=int32)"
      ]
     },
     "execution_count": 16,
     "metadata": {},
     "output_type": "execute_result"
    }
   ],
   "source": [
    "y_real"
   ]
  },
  {
   "cell_type": "code",
   "execution_count": 17,
   "metadata": {},
   "outputs": [
    {
     "data": {
      "text/plain": [
       "array([1, 0, 1, 1, 1, 0, 1, 1, 1, 1, 1, 0, 1, 1, 1, 1, 1, 1, 0, 1, 0, 0,\n",
       "       1, 1, 1, 1, 0, 0, 0, 0, 1, 1, 0, 1, 1, 1, 1, 1, 0, 1, 1, 1, 1, 1,\n",
       "       1, 1, 1, 1, 1, 1, 1, 1, 1, 1, 1, 0, 1, 1, 1, 1, 1, 1, 1, 0, 0, 1,\n",
       "       1, 1, 1, 1, 0, 1, 1, 1, 1, 1, 1, 1, 1, 1, 1, 1, 1, 1, 1, 1, 0, 1,\n",
       "       1, 1, 0, 1, 1, 1, 1, 1, 1, 1, 0, 1, 0, 1, 1, 1, 1, 0, 1, 1, 1, 1,\n",
       "       1, 1, 1, 1, 1, 1, 1, 1, 1, 1, 0, 1, 0, 1, 1, 0, 1, 1, 0, 0, 1, 1,\n",
       "       1, 0, 1, 1, 1, 1, 1, 1, 1, 1, 1, 1, 1, 1, 1])"
      ]
     },
     "execution_count": 17,
     "metadata": {},
     "output_type": "execute_result"
    }
   ],
   "source": [
    "y_pred_class"
   ]
  },
  {
   "cell_type": "code",
   "execution_count": 18,
   "metadata": {},
   "outputs": [],
   "source": [
    "precision = precision_score(y_real, y_pred_class)\n",
    "recall = recall_score(y_real, y_pred_class)\n",
    "\n",
    "fpr_th, tpr_th, _ = roc_curve(y_real, y_pred_prob)\n",
    "AUC_ROC = auc(fpr_th, tpr_th)\n",
    "\n",
    "precision_th, recall_th, _ = precision_recall_curve(y_real, y_pred_prob)\n",
    "PR_AUC = auc(recall_th, precision_th)"
   ]
  },
  {
   "cell_type": "code",
   "execution_count": 19,
   "metadata": {},
   "outputs": [
    {
     "name": "stdout",
     "output_type": "stream",
     "text": [
      "Precision = 0.8333333333333334\n",
      "Recall = 0.8547008547008547\n",
      "Area under ROC curve = 0.5756410256410257\n",
      "Area under precision-Recall curve = 0.8567089197143221\n"
     ]
    }
   ],
   "source": [
    "print ('Precision =',precision)\n",
    "print ('Recall =',recall)\n",
    "print ('Area under ROC curve =',AUC_ROC)\n",
    "print ('Area under precision-Recall curve =',PR_AUC)"
   ]
  },
  {
   "cell_type": "code",
   "execution_count": 20,
   "metadata": {},
   "outputs": [
    {
     "data": {
      "image/png": "[encoded data removed]",
      "text/plain": [
       "<Figure size 1080x360 with 2 Axes>"
      ]
     },
     "metadata": {
      "needs_background": "light"
     },
     "output_type": "display_data"
    }
   ],
   "source": [
    "fig, (ax1,ax2) = plt.subplots(ncols=2, figsize=(15,5), constrained_layout=True,)\n",
    "\n",
    "_ = fig.suptitle(f'{name} predicions result')\n",
    "\n",
    "_ = ax1.set_title('ROC curve')\n",
    "_ = ax1.plot(fpr_th, tpr_th)\n",
    "_ = ax1.set_xlabel('False Positive Rate')\n",
    "_ = ax1.set_ylabel('True Positive Rate')\n",
    "\n",
    "\n",
    "_ = ax2.set_title('Precision-recall')\n",
    "_ = ax2.plot(recall_th, precision_th)\n",
    "_ = ax2.set_xlabel('Recall')\n",
    "_ = ax2.set_ylabel('Precision')\n",
    "\n",
    "\n",
    "plt.savefig(f'{name}_predictions_result.png')"
   ]
  },
  {
   "cell_type": "code",
   "execution_count": null,
   "metadata": {},
   "outputs": [],
   "source": []
  }
 ],
 "metadata": {
  "kernelspec": {
   "display_name": "Python 3",
   "language": "python",
   "name": "python3"
  },
  "language_info": {
   "codemirror_mode": {
    "name": "ipython",
    "version": 3
   },
   "file_extension": ".py",
   "mimetype": "text/x-python",
   "name": "python",
   "nbconvert_exporter": "python",
   "pygments_lexer": "ipython3",
   "version": "3.7.7"
  }
 },
 "nbformat": 4,
 "nbformat_minor": 4
}
