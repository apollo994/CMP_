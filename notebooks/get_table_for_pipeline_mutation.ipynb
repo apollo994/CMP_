{
 "cells": [
  {
   "cell_type": "markdown",
   "metadata": {},
   "source": [
    "Notebook to generate tables to be used in the model pipeline in the context of mutation status"
   ]
  },
  {
   "cell_type": "code",
   "execution_count": 65,
   "metadata": {},
   "outputs": [],
   "source": [
    "import pandas as pd\n",
    "import numpy as np\n",
    "\n",
    "import glob\n",
    "\n",
    "import matplotlib.pyplot as plt\n",
    "from matplotlib import rc\n",
    "\n",
    "from CMP_functions.preprocessing import *"
   ]
  },
  {
   "cell_type": "code",
   "execution_count": 66,
   "metadata": {},
   "outputs": [],
   "source": [
    "gene_symbol = 'TP53'"
   ]
  },
  {
   "cell_type": "code",
   "execution_count": 67,
   "metadata": {},
   "outputs": [],
   "source": [
    "df = pd.read_csv('../data/mutations_20191101.csv')\n",
    "\n",
    "# filt = df.gene_symbol==gene_symbol\n",
    "filt = (df.gene_symbol==gene_symbol)&(df.cancer_driver == True)\n",
    "\n",
    "df_gene = df[filt]\n",
    "positive_models = set(df_gene.model_id)"
   ]
  },
  {
   "cell_type": "code",
   "execution_count": 69,
   "metadata": {},
   "outputs": [
    {
     "data": {
      "text/html": [
       "<div>\n",
       "<style scoped>\n",
       "    .dataframe tbody tr th:only-of-type {\n",
       "        vertical-align: middle;\n",
       "    }\n",
       "\n",
       "    .dataframe tbody tr th {\n",
       "        vertical-align: top;\n",
       "    }\n",
       "\n",
       "    .dataframe thead th {\n",
       "        text-align: right;\n",
       "    }\n",
       "</style>\n",
       "<table border=\"1\" class=\"dataframe\">\n",
       "  <thead>\n",
       "    <tr style=\"text-align: right;\">\n",
       "      <th></th>\n",
       "      <th>gene_id</th>\n",
       "      <th>gene_symbol</th>\n",
       "      <th>model_id</th>\n",
       "      <th>protein_mutation</th>\n",
       "      <th>rna_mutation</th>\n",
       "      <th>cdna_mutation</th>\n",
       "      <th>cancer_driver</th>\n",
       "      <th>model_name</th>\n",
       "    </tr>\n",
       "  </thead>\n",
       "  <tbody>\n",
       "    <tr>\n",
       "      <th>960668</th>\n",
       "      <td>SIDG38363</td>\n",
       "      <td>TP53</td>\n",
       "      <td>SIDM01297</td>\n",
       "      <td>p.R248Q</td>\n",
       "      <td>r.933g&gt;a</td>\n",
       "      <td>c.743G&gt;A</td>\n",
       "      <td>True</td>\n",
       "      <td>COLO_037</td>\n",
       "    </tr>\n",
       "    <tr>\n",
       "      <th>960669</th>\n",
       "      <td>SIDG38363</td>\n",
       "      <td>TP53</td>\n",
       "      <td>SIDM01290</td>\n",
       "      <td>p.?</td>\n",
       "      <td>r.749+1g&gt;a</td>\n",
       "      <td>c.559+1G&gt;A</td>\n",
       "      <td>True</td>\n",
       "      <td>OESO_034</td>\n",
       "    </tr>\n",
       "    <tr>\n",
       "      <th>960670</th>\n",
       "      <td>SIDG38363</td>\n",
       "      <td>TP53</td>\n",
       "      <td>SIDM01291</td>\n",
       "      <td>p.E286K</td>\n",
       "      <td>r.1046g&gt;a</td>\n",
       "      <td>c.856G&gt;A</td>\n",
       "      <td>True</td>\n",
       "      <td>OESO_036</td>\n",
       "    </tr>\n",
       "    <tr>\n",
       "      <th>960671</th>\n",
       "      <td>SIDG38363</td>\n",
       "      <td>TP53</td>\n",
       "      <td>SIDM01305</td>\n",
       "      <td>p.G245S</td>\n",
       "      <td>r.923g&gt;a</td>\n",
       "      <td>c.733G&gt;A</td>\n",
       "      <td>True</td>\n",
       "      <td>COLO_155</td>\n",
       "    </tr>\n",
       "    <tr>\n",
       "      <th>960672</th>\n",
       "      <td>SIDG38363</td>\n",
       "      <td>TP53</td>\n",
       "      <td>SIDM01274</td>\n",
       "      <td>p.G244D</td>\n",
       "      <td>r.921g&gt;a</td>\n",
       "      <td>c.731G&gt;A</td>\n",
       "      <td>True</td>\n",
       "      <td>OESO_167</td>\n",
       "    </tr>\n",
       "    <tr>\n",
       "      <th>...</th>\n",
       "      <td>...</td>\n",
       "      <td>...</td>\n",
       "      <td>...</td>\n",
       "      <td>...</td>\n",
       "      <td>...</td>\n",
       "      <td>...</td>\n",
       "      <td>...</td>\n",
       "      <td>...</td>\n",
       "    </tr>\n",
       "    <tr>\n",
       "      <th>961442</th>\n",
       "      <td>SIDG38363</td>\n",
       "      <td>TP53</td>\n",
       "      <td>SIDM00860</td>\n",
       "      <td>p.R248L</td>\n",
       "      <td>r.933g&gt;u</td>\n",
       "      <td>c.743G&gt;T</td>\n",
       "      <td>True</td>\n",
       "      <td>FADU</td>\n",
       "    </tr>\n",
       "    <tr>\n",
       "      <th>961443</th>\n",
       "      <td>SIDG38363</td>\n",
       "      <td>TP53</td>\n",
       "      <td>SIDM00860</td>\n",
       "      <td>p.?</td>\n",
       "      <td>r.863-1g&gt;a</td>\n",
       "      <td>c.673-1G&gt;A</td>\n",
       "      <td>True</td>\n",
       "      <td>FADU</td>\n",
       "    </tr>\n",
       "    <tr>\n",
       "      <th>961444</th>\n",
       "      <td>SIDG38363</td>\n",
       "      <td>TP53</td>\n",
       "      <td>SIDM01144</td>\n",
       "      <td>p.?</td>\n",
       "      <td>r.973-2a&gt;c</td>\n",
       "      <td>c.783-2A&gt;C</td>\n",
       "      <td>True</td>\n",
       "      <td>SNU-5</td>\n",
       "    </tr>\n",
       "    <tr>\n",
       "      <th>961445</th>\n",
       "      <td>SIDG38363</td>\n",
       "      <td>TP53</td>\n",
       "      <td>SIDM00472</td>\n",
       "      <td>p.G244D</td>\n",
       "      <td>r.921g&gt;a</td>\n",
       "      <td>c.731G&gt;A</td>\n",
       "      <td>True</td>\n",
       "      <td>PEO1</td>\n",
       "    </tr>\n",
       "    <tr>\n",
       "      <th>1796492</th>\n",
       "      <td>SIDG38363</td>\n",
       "      <td>TP53</td>\n",
       "      <td>SIDM01087</td>\n",
       "      <td>p.S166*</td>\n",
       "      <td>r.687c&gt;a</td>\n",
       "      <td>c.497C&gt;A</td>\n",
       "      <td>True</td>\n",
       "      <td>RPMI-7951</td>\n",
       "    </tr>\n",
       "  </tbody>\n",
       "</table>\n",
       "<p>778 rows × 8 columns</p>\n",
       "</div>"
      ],
      "text/plain": [
       "           gene_id gene_symbol   model_id protein_mutation rna_mutation  \\\n",
       "960668   SIDG38363        TP53  SIDM01297          p.R248Q     r.933g>a   \n",
       "960669   SIDG38363        TP53  SIDM01290              p.?   r.749+1g>a   \n",
       "960670   SIDG38363        TP53  SIDM01291          p.E286K    r.1046g>a   \n",
       "960671   SIDG38363        TP53  SIDM01305          p.G245S     r.923g>a   \n",
       "960672   SIDG38363        TP53  SIDM01274          p.G244D     r.921g>a   \n",
       "...            ...         ...        ...              ...          ...   \n",
       "961442   SIDG38363        TP53  SIDM00860          p.R248L     r.933g>u   \n",
       "961443   SIDG38363        TP53  SIDM00860              p.?   r.863-1g>a   \n",
       "961444   SIDG38363        TP53  SIDM01144              p.?   r.973-2a>c   \n",
       "961445   SIDG38363        TP53  SIDM00472          p.G244D     r.921g>a   \n",
       "1796492  SIDG38363        TP53  SIDM01087          p.S166*     r.687c>a   \n",
       "\n",
       "        cdna_mutation  cancer_driver model_name  \n",
       "960668       c.743G>A           True   COLO_037  \n",
       "960669     c.559+1G>A           True   OESO_034  \n",
       "960670       c.856G>A           True   OESO_036  \n",
       "960671       c.733G>A           True   COLO_155  \n",
       "960672       c.731G>A           True   OESO_167  \n",
       "...               ...            ...        ...  \n",
       "961442       c.743G>T           True       FADU  \n",
       "961443     c.673-1G>A           True       FADU  \n",
       "961444     c.783-2A>C           True      SNU-5  \n",
       "961445       c.731G>A           True       PEO1  \n",
       "1796492      c.497C>A           True  RPMI-7951  \n",
       "\n",
       "[778 rows x 8 columns]"
      ]
     },
     "execution_count": 69,
     "metadata": {},
     "output_type": "execute_result"
    }
   ],
   "source": [
    "df_gene"
   ]
  },
  {
   "cell_type": "code",
   "execution_count": 68,
   "metadata": {},
   "outputs": [],
   "source": [
    "img_folder = '../data/images_jpeg/'\n",
    "\n",
    "model_info = pd.read_csv('../data/images_info_table.csv')\n",
    "im_SIDM_dict = dict(zip(model_info.im_id, model_info.SIDM))\n",
    "\n",
    "img_list = get_files(img_folder)"
   ]
  },
  {
   "cell_type": "code",
   "execution_count": null,
   "metadata": {},
   "outputs": [],
   "source": [
    "im_id = []\n",
    "ft = []\n",
    "\n",
    "for i in img_list:\n",
    "    \n",
    "    im_id.append(i)\n",
    "    \n",
    "    if im_SIDM_dict[i] in positive_models:\n",
    "        ft.append(f'{gene_symbol}_mutant')\n",
    "    else:\n",
    "        ft.append(f'{gene_symbol}_wt')\n",
    "\n",
    "mut_df = pd.DataFrame()\n",
    "mut_df['im_id'] = im_id\n",
    "mut_df['ft'] = ft"
   ]
  },
  {
   "cell_type": "code",
   "execution_count": 64,
   "metadata": {},
   "outputs": [],
   "source": [
    "mut_df.to_csv(f'{gene_symbol}_table.csv',index=False)"
   ]
  },
  {
   "cell_type": "code",
   "execution_count": 63,
   "metadata": {},
   "outputs": [
    {
     "data": {
      "image/png": "[encoded data removed]",
      "text/plain": [
       "<Figure size 864x576 with 1 Axes>"
      ]
     },
     "metadata": {
      "needs_background": "light"
     },
     "output_type": "display_data"
    }
   ],
   "source": [
    "plot_ft_many(mut_df,'ft', name= '')"
   ]
  },
  {
   "cell_type": "code",
   "execution_count": null,
   "metadata": {},
   "outputs": [],
   "source": []
  }
 ],
 "metadata": {
  "kernelspec": {
   "display_name": "Python 3",
   "language": "python",
   "name": "python3"
  },
  "language_info": {
   "codemirror_mode": {
    "name": "ipython",
    "version": 3
   },
   "file_extension": ".py",
   "mimetype": "text/x-python",
   "name": "python",
   "nbconvert_exporter": "python",
   "pygments_lexer": "ipython3",
   "version": "3.7.7"
  }
 },
 "nbformat": 4,
 "nbformat_minor": 4
}
