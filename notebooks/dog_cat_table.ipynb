{
 "cells": [
  {
   "cell_type": "markdown",
   "metadata": {},
   "source": [
    "Notebook to extract filenames from cat-dog dataset and generate table for pipeline"
   ]
  },
  {
   "cell_type": "code",
   "execution_count": 4,
   "metadata": {},
   "outputs": [],
   "source": [
    "import pandas as pd\n",
    "import numpy as np\n",
    "import glob\n",
    "import random\n",
    "\n",
    "from CMP_functions.preprocessing import *"
   ]
  },
  {
   "cell_type": "code",
   "execution_count": 5,
   "metadata": {},
   "outputs": [],
   "source": [
    "imgs = glob.glob(\"../data/cat_dog/*.jpg\")"
   ]
  },
  {
   "cell_type": "code",
   "execution_count": 6,
   "metadata": {},
   "outputs": [
    {
     "data": {
      "text/plain": [
       "2401"
      ]
     },
     "execution_count": 6,
     "metadata": {},
     "output_type": "execute_result"
    }
   ],
   "source": [
    "len(imgs)"
   ]
  },
  {
   "cell_type": "code",
   "execution_count": 7,
   "metadata": {},
   "outputs": [],
   "source": [
    "imgs_full = [im.split(\"/\")[-1] for im in imgs]"
   ]
  },
  {
   "cell_type": "code",
   "execution_count": 8,
   "metadata": {},
   "outputs": [],
   "source": [
    "imgs_name = [im.strip(\".jpg\") for im in imgs_full]"
   ]
  },
  {
   "cell_type": "code",
   "execution_count": 9,
   "metadata": {},
   "outputs": [],
   "source": [
    "name = []\n",
    "cl = []\n",
    "\n",
    "for i in imgs_name:\n",
    "    name.append(i)\n",
    "    cl.append(i.split('.')[0])"
   ]
  },
  {
   "cell_type": "code",
   "execution_count": 10,
   "metadata": {},
   "outputs": [],
   "source": [
    "df_all = pd.DataFrame()"
   ]
  },
  {
   "cell_type": "code",
   "execution_count": 11,
   "metadata": {},
   "outputs": [],
   "source": [
    "df_all['im_id']=name\n",
    "df_all['ft']=cl"
   ]
  },
  {
   "cell_type": "code",
   "execution_count": 12,
   "metadata": {},
   "outputs": [
    {
     "data": {
      "text/html": [
       "<div>\n",
       "<style scoped>\n",
       "    .dataframe tbody tr th:only-of-type {\n",
       "        vertical-align: middle;\n",
       "    }\n",
       "\n",
       "    .dataframe tbody tr th {\n",
       "        vertical-align: top;\n",
       "    }\n",
       "\n",
       "    .dataframe thead th {\n",
       "        text-align: right;\n",
       "    }\n",
       "</style>\n",
       "<table border=\"1\" class=\"dataframe\">\n",
       "  <thead>\n",
       "    <tr style=\"text-align: right;\">\n",
       "      <th></th>\n",
       "      <th>im_id</th>\n",
       "      <th>ft</th>\n",
       "    </tr>\n",
       "  </thead>\n",
       "  <tbody>\n",
       "    <tr>\n",
       "      <th>0</th>\n",
       "      <td>dog.1753</td>\n",
       "      <td>dog</td>\n",
       "    </tr>\n",
       "    <tr>\n",
       "      <th>1</th>\n",
       "      <td>cat.952</td>\n",
       "      <td>cat</td>\n",
       "    </tr>\n",
       "    <tr>\n",
       "      <th>2</th>\n",
       "      <td>dog.1035</td>\n",
       "      <td>dog</td>\n",
       "    </tr>\n",
       "    <tr>\n",
       "      <th>3</th>\n",
       "      <td>cat.946</td>\n",
       "      <td>cat</td>\n",
       "    </tr>\n",
       "    <tr>\n",
       "      <th>4</th>\n",
       "      <td>dog.1021</td>\n",
       "      <td>dog</td>\n",
       "    </tr>\n",
       "    <tr>\n",
       "      <th>...</th>\n",
       "      <td>...</td>\n",
       "      <td>...</td>\n",
       "    </tr>\n",
       "    <tr>\n",
       "      <th>2396</th>\n",
       "      <td>dog.1986</td>\n",
       "      <td>dog</td>\n",
       "    </tr>\n",
       "    <tr>\n",
       "      <th>2397</th>\n",
       "      <td>cat.787</td>\n",
       "      <td>cat</td>\n",
       "    </tr>\n",
       "    <tr>\n",
       "      <th>2398</th>\n",
       "      <td>dog.1038</td>\n",
       "      <td>dog</td>\n",
       "    </tr>\n",
       "    <tr>\n",
       "      <th>2399</th>\n",
       "      <td>cat.793</td>\n",
       "      <td>cat</td>\n",
       "    </tr>\n",
       "    <tr>\n",
       "      <th>2400</th>\n",
       "      <td>dog.1992</td>\n",
       "      <td>dog</td>\n",
       "    </tr>\n",
       "  </tbody>\n",
       "</table>\n",
       "<p>2401 rows × 2 columns</p>\n",
       "</div>"
      ],
      "text/plain": [
       "         im_id   ft\n",
       "0     dog.1753  dog\n",
       "1      cat.952  cat\n",
       "2     dog.1035  dog\n",
       "3      cat.946  cat\n",
       "4     dog.1021  dog\n",
       "...        ...  ...\n",
       "2396  dog.1986  dog\n",
       "2397   cat.787  cat\n",
       "2398  dog.1038  dog\n",
       "2399   cat.793  cat\n",
       "2400  dog.1992  dog\n",
       "\n",
       "[2401 rows x 2 columns]"
      ]
     },
     "execution_count": 12,
     "metadata": {},
     "output_type": "execute_result"
    }
   ],
   "source": [
    "df_all"
   ]
  },
  {
   "cell_type": "code",
   "execution_count": 13,
   "metadata": {},
   "outputs": [],
   "source": [
    "lung = 150\n",
    "NOT_lung = 586"
   ]
  },
  {
   "cell_type": "code",
   "execution_count": 14,
   "metadata": {},
   "outputs": [],
   "source": [
    "lung_dog = df_all[df_all.ft=='dog'].sample(lung)"
   ]
  },
  {
   "cell_type": "code",
   "execution_count": 15,
   "metadata": {},
   "outputs": [],
   "source": [
    "not_lung_cat = df_all[df_all.ft=='cat'].sample(NOT_lung)"
   ]
  },
  {
   "cell_type": "code",
   "execution_count": 16,
   "metadata": {},
   "outputs": [],
   "source": [
    "df_unbalaced = pd.concat([lung_dog,not_lung_cat])"
   ]
  },
  {
   "cell_type": "code",
   "execution_count": 17,
   "metadata": {},
   "outputs": [
    {
     "data": {
      "text/html": [
       "<div>\n",
       "<style scoped>\n",
       "    .dataframe tbody tr th:only-of-type {\n",
       "        vertical-align: middle;\n",
       "    }\n",
       "\n",
       "    .dataframe tbody tr th {\n",
       "        vertical-align: top;\n",
       "    }\n",
       "\n",
       "    .dataframe thead th {\n",
       "        text-align: right;\n",
       "    }\n",
       "</style>\n",
       "<table border=\"1\" class=\"dataframe\">\n",
       "  <thead>\n",
       "    <tr style=\"text-align: right;\">\n",
       "      <th></th>\n",
       "      <th>im_id</th>\n",
       "      <th>ft</th>\n",
       "    </tr>\n",
       "  </thead>\n",
       "  <tbody>\n",
       "    <tr>\n",
       "      <th>2276</th>\n",
       "      <td>dog.1213</td>\n",
       "      <td>dog</td>\n",
       "    </tr>\n",
       "    <tr>\n",
       "      <th>2316</th>\n",
       "      <td>dog.1824</td>\n",
       "      <td>dog</td>\n",
       "    </tr>\n",
       "    <tr>\n",
       "      <th>2284</th>\n",
       "      <td>dog.2097</td>\n",
       "      <td>dog</td>\n",
       "    </tr>\n",
       "    <tr>\n",
       "      <th>776</th>\n",
       "      <td>dog.1243</td>\n",
       "      <td>dog</td>\n",
       "    </tr>\n",
       "    <tr>\n",
       "      <th>2220</th>\n",
       "      <td>dog.1577</td>\n",
       "      <td>dog</td>\n",
       "    </tr>\n",
       "    <tr>\n",
       "      <th>...</th>\n",
       "      <td>...</td>\n",
       "      <td>...</td>\n",
       "    </tr>\n",
       "    <tr>\n",
       "      <th>255</th>\n",
       "      <td>cat.429</td>\n",
       "      <td>cat</td>\n",
       "    </tr>\n",
       "    <tr>\n",
       "      <th>1885</th>\n",
       "      <td>cat.38</td>\n",
       "      <td>cat</td>\n",
       "    </tr>\n",
       "    <tr>\n",
       "      <th>1645</th>\n",
       "      <td>cat.6063</td>\n",
       "      <td>cat</td>\n",
       "    </tr>\n",
       "    <tr>\n",
       "      <th>2077</th>\n",
       "      <td>cat.597</td>\n",
       "      <td>cat</td>\n",
       "    </tr>\n",
       "    <tr>\n",
       "      <th>1550</th>\n",
       "      <td>cat.484</td>\n",
       "      <td>cat</td>\n",
       "    </tr>\n",
       "  </tbody>\n",
       "</table>\n",
       "<p>736 rows × 2 columns</p>\n",
       "</div>"
      ],
      "text/plain": [
       "         im_id   ft\n",
       "2276  dog.1213  dog\n",
       "2316  dog.1824  dog\n",
       "2284  dog.2097  dog\n",
       "776   dog.1243  dog\n",
       "2220  dog.1577  dog\n",
       "...        ...  ...\n",
       "255    cat.429  cat\n",
       "1885    cat.38  cat\n",
       "1645  cat.6063  cat\n",
       "2077   cat.597  cat\n",
       "1550   cat.484  cat\n",
       "\n",
       "[736 rows x 2 columns]"
      ]
     },
     "execution_count": 17,
     "metadata": {},
     "output_type": "execute_result"
    }
   ],
   "source": [
    "df_unbalaced"
   ]
  },
  {
   "cell_type": "code",
   "execution_count": 52,
   "metadata": {},
   "outputs": [],
   "source": [
    "df_all.to_csv('dog_cat_table.csv', index=False)\n",
    "df_unbalaced.to_csv('dog_cat_ub_table.csv', index=False)"
   ]
  },
  {
   "cell_type": "code",
   "execution_count": null,
   "metadata": {},
   "outputs": [],
   "source": []
  },
  {
   "cell_type": "code",
   "execution_count": 25,
   "metadata": {},
   "outputs": [],
   "source": [
    "split_on = 'dog'\n",
    "name = 'dog_cat'"
   ]
  },
  {
   "cell_type": "code",
   "execution_count": 30,
   "metadata": {},
   "outputs": [
    {
     "name": "stdout",
     "output_type": "stream",
     "text": [
      "120\n",
      "468\n",
      "30\n",
      "117\n",
      "\n",
      "880\n",
      "532\n",
      "170\n",
      "83\n"
     ]
    }
   ],
   "source": [
    "train_size = 1000\n",
    "valid_size = 200\n",
    "\n",
    "cl1 = len(df_unbalaced[df_unbalaced.ft=='dog'])\n",
    "cl0 = len(df_unbalaced[df_unbalaced.ft=='cat'])\n",
    "         \n",
    "cl1_tr = int((cl1 / 5) * 4)\n",
    "cl0_tr = int((cl0 / 5) * 4)\n",
    "cl1_va = int(cl1 / 5)\n",
    "cl0_va = int(cl0 / 5)\n",
    "                        \n",
    "cl1_tr_au = train_size - cl1_tr\n",
    "cl0_tr_au = train_size - cl0_tr\n",
    "cl1_va_au = valid_size - cl1_va\n",
    "cl0_va_au = valid_size - cl0_va       \n",
    "             \n",
    "print (cl1_tr)\n",
    "print (cl0_tr)\n",
    "print (cl1_va)\n",
    "print (cl0_va)\n",
    "print()\n",
    "print (cl1_tr_au )\n",
    "print (cl0_tr_au )\n",
    "print (cl1_va_au )\n",
    "print (cl0_va_au )    "
   ]
  },
  {
   "cell_type": "code",
   "execution_count": 31,
   "metadata": {},
   "outputs": [
    {
     "data": {
      "image/png": "[encoded data removed]",
      "text/plain": [
       "<Figure size 360x360 with 1 Axes>"
      ]
     },
     "metadata": {
      "needs_background": "light"
     },
     "output_type": "display_data"
    }
   ],
   "source": [
    "### ALL\n",
    "\n",
    "barWidth = 0.25\n",
    "\n",
    "bars1 = [cl1_tr, cl1_va]\n",
    "bars2 = [cl0_tr, cl0_va]\n",
    "\n",
    "r1 = np.arange(len(bars1))\n",
    "r2 = [x + barWidth for x in r1]\n",
    "\n",
    "agu_bars1 = [cl1_tr_au, cl1_va_au]\n",
    "agu_bars2 = [cl0_tr_au, cl0_va_au]\n",
    "\n",
    "ragu1 = [0,1]\n",
    "ragu2 = [barWidth, 1+barWidth]\n",
    "bot1 = [cl1_tr, cl1_va]\n",
    "bot2 = [cl0_tr, cl0_va]\n",
    "\n",
    "# Make the plot\n",
    "plt.figure(figsize=(5,5))\n",
    "\n",
    "plt.bar(r1, bars1, color='green', width=barWidth, edgecolor='w', label= split_on)\n",
    "plt.bar(ragu1, agu_bars1, bottom=bot1, color='darkgreen', edgecolor='w', width=barWidth, label=f'{split_on} Agu')\n",
    "plt.bar(r2, bars2, color='red', width=barWidth, edgecolor='w', label=f'Not_{split_on}')\n",
    "plt.bar(ragu2, agu_bars2, bottom=bot2, color='darkred', edgecolor='w', width=barWidth, label=f'Not_{split_on} Agu')\n",
    "\n",
    "plt.ylabel(\"image count\")\n",
    "plt.xticks([r + barWidth/2 for r in range(len(bars1))], ['Train', 'Validation'])\n",
    "plt.legend()\n",
    "plt.tight_layout()\n",
    "\n",
    "plt.savefig(f'{name}_train_test_agumented.jpg', dpi=150)\n",
    "\n",
    "# Create legend & Show graphic\n",
    "plt.show()"
   ]
  },
  {
   "cell_type": "code",
   "execution_count": 32,
   "metadata": {},
   "outputs": [
    {
     "data": {
      "image/png": "[encoded data removed]",
      "text/plain": [
       "<Figure size 360x360 with 1 Axes>"
      ]
     },
     "metadata": {
      "needs_background": "light"
     },
     "output_type": "display_data"
    }
   ],
   "source": [
    "### ONLY TRAIN\n",
    "\n",
    "barWidth = 0.25\n",
    "\n",
    "bars1 = [cl1_tr, cl1_va]\n",
    "bars2 = [cl0_tr, cl0_va]\n",
    "\n",
    "r1 = np.arange(len(bars1))\n",
    "r2 = [x + barWidth for x in r1]\n",
    "\n",
    "agu_bars1 = [cl1_tr_au, 0]\n",
    "agu_bars2 = [cl0_tr_au, 0]\n",
    "\n",
    "ragu1 = [0,1]\n",
    "ragu2 = [barWidth, 1+barWidth]\n",
    "bot1 = [cl1_tr, cl1_va]\n",
    "bot2 = [cl0_tr, cl0_va]\n",
    "\n",
    "# Make the plot\n",
    "plt.figure(figsize=(5,5))\n",
    "\n",
    "plt.bar(r1, bars1, color='green', width=barWidth, edgecolor='w', label= split_on)\n",
    "plt.bar(ragu1, agu_bars1, bottom=bot1, color='darkgreen', edgecolor='w', width=barWidth, label=f'{split_on} Agu')\n",
    "plt.bar(r2, bars2, color='red', width=barWidth, edgecolor='w', label=f'Not_{split_on}')\n",
    "plt.bar(ragu2, agu_bars2, bottom=bot2, color='darkred', edgecolor='w', width=barWidth, label=f'Not_{split_on} Agu')\n",
    "\n",
    "plt.ylabel(\"image count\")\n",
    "plt.xticks([r + barWidth/2 for r in range(len(bars1))], ['Train', 'Validation'])\n",
    "plt.legend()\n",
    "plt.tight_layout()\n",
    "\n",
    "plt.savefig(f'{name}_only_train_agumented.jpg', dpi=150)\n",
    "\n",
    "# Create legend & Show graphic\n",
    "plt.show()"
   ]
  },
  {
   "cell_type": "code",
   "execution_count": 33,
   "metadata": {},
   "outputs": [
    {
     "data": {
      "image/png": "[encoded data removed]",
      "text/plain": [
       "<Figure size 360x360 with 1 Axes>"
      ]
     },
     "metadata": {
      "needs_background": "light"
     },
     "output_type": "display_data"
    }
   ],
   "source": [
    "### NO AGU\n",
    "\n",
    "barWidth = 0.25\n",
    "\n",
    "bars1 = [cl1_tr, cl1_va]\n",
    "bars2 = [cl0_tr, cl0_va]\n",
    "\n",
    "r1 = np.arange(len(bars1))\n",
    "r2 = [x + barWidth for x in r1]\n",
    "\n",
    "agu_bars1 = [0, 0]\n",
    "agu_bars2 = [0, 0]\n",
    "\n",
    "ragu1 = [0,1]\n",
    "ragu2 = [barWidth, 1+barWidth]\n",
    "bot1 = [cl1_tr, cl1_va]\n",
    "bot2 = [cl0_tr, cl0_va]\n",
    "\n",
    "# Make the plot\n",
    "plt.figure(figsize=(5,5))\n",
    "\n",
    "plt.bar(r1, bars1, color='green', width=barWidth, edgecolor='w', label= split_on)\n",
    "plt.bar(ragu1, agu_bars1, bottom=bot1, color='darkgreen', edgecolor='w', width=barWidth, label=f'{split_on} Agu')\n",
    "plt.bar(r2, bars2, color='red', width=barWidth, edgecolor='w', label=f'Not_{split_on}')\n",
    "plt.bar(ragu2, agu_bars2, bottom=bot2, color='darkred', edgecolor='w', width=barWidth, label=f'Not_{split_on} Agu')\n",
    "\n",
    "plt.ylabel(\"image count\")\n",
    "plt.xticks([r + barWidth/2 for r in range(len(bars1))], ['Train', 'Validation'])\n",
    "plt.legend()\n",
    "plt.tight_layout()\n",
    "\n",
    "plt.savefig(f'{name}_no_agumentation.jpg', dpi=150)\n",
    "\n",
    "# Create legend & Show graphic\n",
    "plt.show()"
   ]
  },
  {
   "cell_type": "code",
   "execution_count": null,
   "metadata": {},
   "outputs": [],
   "source": []
  },
  {
   "cell_type": "code",
   "execution_count": null,
   "metadata": {},
   "outputs": [],
   "source": []
  }
 ],
 "metadata": {
  "kernelspec": {
   "display_name": "Python 3",
   "language": "python",
   "name": "python3"
  },
  "language_info": {
   "codemirror_mode": {
    "name": "ipython",
    "version": 3
   },
   "file_extension": ".py",
   "mimetype": "text/x-python",
   "name": "python",
   "nbconvert_exporter": "python",
   "pygments_lexer": "ipython3",
   "version": "3.7.7"
  }
 },
 "nbformat": 4,
 "nbformat_minor": 4
}
