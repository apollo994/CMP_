{
 "cells": [
  {
   "cell_type": "code",
   "execution_count": 54,
   "metadata": {},
   "outputs": [],
   "source": [
    "import glob\n",
    "\n",
    "import pandas as pd\n",
    "import numpy as np\n",
    "\n",
    "import matplotlib.pyplot as plt\n",
    "\n",
    "from CMP_functions import *"
   ]
  },
  {
   "cell_type": "code",
   "execution_count": 74,
   "metadata": {},
   "outputs": [],
   "source": [
    "path = '../data/cleaned_by_Alex/'"
   ]
  },
  {
   "cell_type": "code",
   "execution_count": 75,
   "metadata": {},
   "outputs": [],
   "source": [
    "tissues = [x.split('/')[-1] for x in glob.glob(path+'/*')]  "
   ]
  },
  {
   "cell_type": "code",
   "execution_count": 76,
   "metadata": {},
   "outputs": [
    {
     "data": {
      "text/plain": [
       "['Skin',\n",
       " 'Large_Intestine',\n",
       " 'Central_Nervous_System',\n",
       " 'Lung',\n",
       " 'Breast',\n",
       " 'Kidney',\n",
       " 'Esophagus',\n",
       " 'Bone',\n",
       " 'Head_and_Neck',\n",
       " 'Stomach',\n",
       " 'Peripheral_Nervous_System',\n",
       " 'Haematopoietic_and_Lymphoid',\n",
       " 'Pancreas',\n",
       " 'Ovary']"
      ]
     },
     "execution_count": 76,
     "metadata": {},
     "output_type": "execute_result"
    }
   ],
   "source": [
    "tissues"
   ]
  },
  {
   "cell_type": "code",
   "execution_count": 78,
   "metadata": {},
   "outputs": [],
   "source": [
    "import os\n",
    "\n",
    "for tissue in tissues:\n",
    "    os.mkdir(tissue)"
   ]
  },
  {
   "cell_type": "code",
   "execution_count": 39,
   "metadata": {},
   "outputs": [],
   "source": [
    "low_quality_im = []\n",
    "\n",
    "low_plus_test = []"
   ]
  },
  {
   "cell_type": "code",
   "execution_count": 70,
   "metadata": {},
   "outputs": [
    {
     "name": "stdout",
     "output_type": "stream",
     "text": [
      "\n",
      "Skin\n",
      "good quality= 37\n",
      "top= 3\n",
      "low quality= 1\n",
      "\n",
      "Large_Intestine\n",
      "good quality= 36\n",
      "top= 3\n",
      "low quality= 3\n",
      "\n",
      "Central_Nervous_System\n",
      "good quality= 34\n",
      "top= 3\n",
      "low quality= 0\n",
      "\n",
      "Lung\n",
      "good quality= 118\n",
      "top= 3\n",
      "low quality= 29\n",
      "\n",
      "Breast\n",
      "good quality= 46\n",
      "top= 3\n",
      "low quality= 8\n",
      "\n",
      "Kidney\n",
      "good quality= 20\n",
      "top= 3\n",
      "low quality= 0\n",
      "\n",
      "Esophagus\n",
      "good quality= 19\n",
      "top= 3\n",
      "low quality= 0\n",
      "\n",
      "Bone\n",
      "good quality= 22\n",
      "top= 3\n",
      "low quality= 1\n",
      "\n",
      "Head_and_Neck\n",
      "good quality= 21\n",
      "top= 3\n",
      "low quality= 0\n",
      "\n",
      "Stomach\n",
      "good quality= 14\n",
      "top= 3\n",
      "low quality= 6\n",
      "\n",
      "Peripheral_Nervous_System\n",
      "good quality= 20\n",
      "top= 3\n",
      "low quality= 4\n",
      "\n",
      "Haematopoietic_and_Lymphoid\n",
      "good quality= 71\n",
      "top= 3\n",
      "low quality= 48\n",
      "\n",
      "Pancreas\n",
      "good quality= 20\n",
      "top= 3\n",
      "low quality= 0\n",
      "\n",
      "Ovary\n",
      "good quality= 35\n",
      "top= 3\n",
      "low quality= 2\n"
     ]
    }
   ],
   "source": [
    "c = 0\n",
    "\n",
    "\n",
    "tick = []\n",
    "labels = []\n",
    "good_top = []\n",
    "test_top = []\n",
    "bad_top = []\n",
    "\n",
    "\n",
    "for tissue in tissues:\n",
    "    print ()\n",
    "    print (tissue)\n",
    "    \n",
    "    ims = glob.glob(f'{path}/{tissue}/*.jpg')\n",
    "    print ('good quality=',len(ims))\n",
    "    \n",
    "    top = glob.glob(f'{path}/{tissue}/Top 3/*.jpg')\n",
    "    print ('top=',len(top))\n",
    "    \n",
    "    for good_i in top: \n",
    "        low_plus_test.append(good_i.split('/')[-1])\n",
    "    \n",
    "    deleted = glob.glob(f'{path}/{tissue}/Low Quality/*.jpg')\n",
    "    print ('low quality=',len(deleted))\n",
    "    \n",
    "    for i in deleted:\n",
    "        low_quality_im.append(i.split('/')[-1])\n",
    "        low_plus_test.append(i.split('/')[-1])\n",
    "        \n",
    "    tick.append(c)\n",
    "    labels.append(tissue.replace('_', '\\n'))\n",
    "    good_top.append(len(ims))\n",
    "    test_top.append(len(top))\n",
    "    bad_top.append(len(deleted))\n",
    "\n",
    "        \n",
    "        \n",
    "    c += 1\n",
    "    \n",
    "test_bottom = [a+b for a,b in zip(good_top,bad_top)]"
   ]
  },
  {
   "cell_type": "code",
   "execution_count": 79,
   "metadata": {},
   "outputs": [
    {
     "data": {
      "image/png": "[encoded data removed]",
      "text/plain": [
       "<Figure size 1440x720 with 1 Axes>"
      ]
     },
     "metadata": {
      "needs_background": "light"
     },
     "output_type": "display_data"
    }
   ],
   "source": [
    "rotation = 0\n",
    "width = 0.6\n",
    "alpha = 0.3\n",
    "\n",
    "fig, ax1 = plt.subplots(figsize=(20,10))\n",
    "\n",
    "_ = fig.suptitle(f'Quality check result')\n",
    "\n",
    "# _ = ax1.set_xlabel('Tissue')\n",
    "_ = ax1.set_ylabel('Image count')\n",
    "\n",
    "\n",
    "_ = ax1.bar(tick, good_top, width=width, label=\"Good quality\", color = 'red')\n",
    "_ = ax1.bar(tick, bad_top ,bottom=good_top, width=width, label=\"Bad quality\", color = 'black')\n",
    "_ = ax1.bar(tick, test_top ,bottom=test_bottom, width=width, label=\"Test sample\", color = 'purple')\n",
    "\n",
    "\n",
    "_ = ax1.set_xticks(tick)\n",
    "_ = ax1.set_xticklabels(labels, rotation=rotation)\n",
    "_ = ax1.legend()\n",
    "\n",
    "\n",
    "plt.savefig(f'Quality_check_results.png')"
   ]
  },
  {
   "cell_type": "code",
   "execution_count": 68,
   "metadata": {},
   "outputs": [],
   "source": [
    "low_quality_im_flowi = [x.replace('.jpg','_flowi') for x in low_quality_im]\n",
    "low_plus_test = [x.replace('.jpg','_flowi') for x in low_plus_test]"
   ]
  },
  {
   "cell_type": "code",
   "execution_count": 37,
   "metadata": {},
   "outputs": [],
   "source": [
    "tables = glob.glob('../data/pipeline_tables/tissue_flowi/*')"
   ]
  },
  {
   "cell_type": "code",
   "execution_count": 36,
   "metadata": {},
   "outputs": [
    {
     "name": "stdout",
     "output_type": "stream",
     "text": [
      "Large_Intestine_table_flowi.csv\n",
      "len before clean = 736\n",
      "len after clean = 634\n",
      "Skin_table_flowi.csv\n",
      "len before clean = 736\n",
      "len after clean = 634\n",
      "Haematopoietic_and_Lymphoid_table_flowi.csv\n",
      "len before clean = 736\n",
      "len after clean = 634\n",
      "Esophagus_table_flowi.csv\n",
      "len before clean = 736\n",
      "len after clean = 634\n",
      "Bone_table_flowi.csv\n",
      "len before clean = 736\n",
      "len after clean = 634\n",
      "Breast_table_flowi.csv\n",
      "len before clean = 736\n",
      "len after clean = 634\n",
      "Head_and_Neck_table_flowi.csv\n",
      "len before clean = 736\n",
      "len after clean = 634\n",
      "Peripheral_Nervous_System_table_flowi.csv\n",
      "len before clean = 736\n",
      "len after clean = 634\n",
      "Lung_table_flowi.csv\n",
      "len before clean = 736\n",
      "len after clean = 634\n",
      "Central_Nervous_System_table_flowi.csv\n",
      "len before clean = 736\n",
      "len after clean = 634\n",
      "Stomach_table_flowi.csv\n",
      "len before clean = 736\n",
      "len after clean = 634\n",
      "Pancreas_table_flowi.csv\n",
      "len before clean = 736\n",
      "len after clean = 634\n",
      "Kidney_table_flowi.csv\n",
      "len before clean = 736\n",
      "len after clean = 634\n",
      "Ovary_table_flowi.csv\n",
      "len before clean = 736\n",
      "len after clean = 634\n"
     ]
    }
   ],
   "source": [
    "for tab in tables:\n",
    "    df = pd.read_csv(tab)\n",
    "    \n",
    "    name = tab.split('/')[-1]\n",
    "#     print(name)\n",
    "    \n",
    "#     print ('len before clean =', len(df.index))\n",
    "    \n",
    "    df_clean = df.set_index(df.im_id)\n",
    "    df_clean = df_clean.drop(index=low_quality_im_flowi)\n",
    "    \n",
    "    df_clean.to_csv(name.replace('.csv', '_clean.csv'), index=False)\n",
    "    \n",
    "#     print ('len after clean =', len(df_clean.index))"
   ]
  },
  {
   "cell_type": "code",
   "execution_count": 45,
   "metadata": {},
   "outputs": [
    {
     "name": "stdout",
     "output_type": "stream",
     "text": [
      "Large_Intestine_table_flowi.csv\n",
      "len before clean = 736\n",
      "len after clean = 592\n",
      "Skin_table_flowi.csv\n",
      "len before clean = 736\n",
      "len after clean = 592\n",
      "Haematopoietic_and_Lymphoid_table_flowi.csv\n",
      "len before clean = 736\n",
      "len after clean = 592\n",
      "Esophagus_table_flowi.csv\n",
      "len before clean = 736\n",
      "len after clean = 592\n",
      "Bone_table_flowi.csv\n",
      "len before clean = 736\n",
      "len after clean = 592\n",
      "Breast_table_flowi.csv\n",
      "len before clean = 736\n",
      "len after clean = 592\n",
      "Head_and_Neck_table_flowi.csv\n",
      "len before clean = 736\n",
      "len after clean = 592\n",
      "Peripheral_Nervous_System_table_flowi.csv\n",
      "len before clean = 736\n",
      "len after clean = 592\n",
      "Lung_table_flowi.csv\n",
      "len before clean = 736\n",
      "len after clean = 592\n",
      "Central_Nervous_System_table_flowi.csv\n",
      "len before clean = 736\n",
      "len after clean = 592\n",
      "Stomach_table_flowi.csv\n",
      "len before clean = 736\n",
      "len after clean = 592\n",
      "Pancreas_table_flowi.csv\n",
      "len before clean = 736\n",
      "len after clean = 592\n",
      "Kidney_table_flowi.csv\n",
      "len before clean = 736\n",
      "len after clean = 592\n",
      "Ovary_table_flowi.csv\n",
      "len before clean = 736\n",
      "len after clean = 592\n"
     ]
    }
   ],
   "source": [
    "for tab in tables:\n",
    "    df = pd.read_csv(tab)\n",
    "    \n",
    "    name = tab.split('/')[-1]\n",
    "    print(name)\n",
    "    \n",
    "    print ('len before clean =', len(df.index))\n",
    "    \n",
    "    df_clean = df.set_index(df.im_id)\n",
    "    df_clean = df_clean.drop(index=low_plus_test)\n",
    "    \n",
    "    df_clean.to_csv(name.replace('.csv', '_clean_noTEST.csv'), index=False)\n",
    "    \n",
    "    print ('len after clean =', len(df_clean.index))"
   ]
  },
  {
   "cell_type": "code",
   "execution_count": null,
   "metadata": {},
   "outputs": [],
   "source": []
  }
 ],
 "metadata": {
  "kernelspec": {
   "display_name": "Python 3",
   "language": "python",
   "name": "python3"
  },
  "language_info": {
   "codemirror_mode": {
    "name": "ipython",
    "version": 3
   },
   "file_extension": ".py",
   "mimetype": "text/x-python",
   "name": "python",
   "nbconvert_exporter": "python",
   "pygments_lexer": "ipython3",
   "version": "3.7.7"
  }
 },
 "nbformat": 4,
 "nbformat_minor": 4
}
