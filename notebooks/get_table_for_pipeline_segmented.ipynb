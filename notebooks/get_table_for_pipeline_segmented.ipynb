{
 "cells": [
  {
   "cell_type": "markdown",
   "metadata": {},
   "source": [
    "Notebook to generate tables for segmented images from original table"
   ]
  },
  {
   "cell_type": "code",
   "execution_count": 3,
   "metadata": {},
   "outputs": [],
   "source": [
    "import pandas as pd\n",
    "import numpy as np\n",
    "\n",
    "from CMP_functions.preprocessing import *"
   ]
  },
  {
   "cell_type": "code",
   "execution_count": 5,
   "metadata": {},
   "outputs": [],
   "source": [
    "original_table = '../data/pipeline_tables/lung_table.csv'"
   ]
  },
  {
   "cell_type": "code",
   "execution_count": 7,
   "metadata": {},
   "outputs": [],
   "source": [
    "df = pd.read_csv(original_table)"
   ]
  },
  {
   "cell_type": "code",
   "execution_count": 8,
   "metadata": {},
   "outputs": [
    {
     "data": {
      "text/html": [
       "<div>\n",
       "<style scoped>\n",
       "    .dataframe tbody tr th:only-of-type {\n",
       "        vertical-align: middle;\n",
       "    }\n",
       "\n",
       "    .dataframe tbody tr th {\n",
       "        vertical-align: top;\n",
       "    }\n",
       "\n",
       "    .dataframe thead th {\n",
       "        text-align: right;\n",
       "    }\n",
       "</style>\n",
       "<table border=\"1\" class=\"dataframe\">\n",
       "  <thead>\n",
       "    <tr style=\"text-align: right;\">\n",
       "      <th></th>\n",
       "      <th>im_id</th>\n",
       "      <th>ft</th>\n",
       "    </tr>\n",
       "  </thead>\n",
       "  <tbody>\n",
       "    <tr>\n",
       "      <th>0</th>\n",
       "      <td>1877-8278</td>\n",
       "      <td>Not_Lung</td>\n",
       "    </tr>\n",
       "    <tr>\n",
       "      <th>1</th>\n",
       "      <td>1476-8001</td>\n",
       "      <td>Not_Lung</td>\n",
       "    </tr>\n",
       "    <tr>\n",
       "      <th>2</th>\n",
       "      <td>1068-8758</td>\n",
       "      <td>Not_Lung</td>\n",
       "    </tr>\n",
       "    <tr>\n",
       "      <th>3</th>\n",
       "      <td>2195-8403</td>\n",
       "      <td>Not_Lung</td>\n",
       "    </tr>\n",
       "    <tr>\n",
       "      <th>4</th>\n",
       "      <td>162</td>\n",
       "      <td>Not_Lung</td>\n",
       "    </tr>\n",
       "    <tr>\n",
       "      <th>...</th>\n",
       "      <td>...</td>\n",
       "      <td>...</td>\n",
       "    </tr>\n",
       "    <tr>\n",
       "      <th>731</th>\n",
       "      <td>706-9149</td>\n",
       "      <td>Not_Lung</td>\n",
       "    </tr>\n",
       "    <tr>\n",
       "      <th>732</th>\n",
       "      <td>153</td>\n",
       "      <td>Not_Lung</td>\n",
       "    </tr>\n",
       "    <tr>\n",
       "      <th>733</th>\n",
       "      <td>1875-8232</td>\n",
       "      <td>Lung</td>\n",
       "    </tr>\n",
       "    <tr>\n",
       "      <th>734</th>\n",
       "      <td>2138-8023</td>\n",
       "      <td>Not_Lung</td>\n",
       "    </tr>\n",
       "    <tr>\n",
       "      <th>735</th>\n",
       "      <td>1747-8787</td>\n",
       "      <td>Not_Lung</td>\n",
       "    </tr>\n",
       "  </tbody>\n",
       "</table>\n",
       "<p>736 rows × 2 columns</p>\n",
       "</div>"
      ],
      "text/plain": [
       "         im_id        ft\n",
       "0    1877-8278  Not_Lung\n",
       "1    1476-8001  Not_Lung\n",
       "2    1068-8758  Not_Lung\n",
       "3    2195-8403  Not_Lung\n",
       "4          162  Not_Lung\n",
       "..         ...       ...\n",
       "731   706-9149  Not_Lung\n",
       "732        153  Not_Lung\n",
       "733  1875-8232      Lung\n",
       "734  2138-8023  Not_Lung\n",
       "735  1747-8787  Not_Lung\n",
       "\n",
       "[736 rows x 2 columns]"
      ]
     },
     "execution_count": 8,
     "metadata": {},
     "output_type": "execute_result"
    }
   ],
   "source": [
    "df"
   ]
  },
  {
   "cell_type": "code",
   "execution_count": 11,
   "metadata": {},
   "outputs": [
    {
     "data": {
      "image/png": "[encoded data removed]",
      "text/plain": [
       "<Figure size 864x576 with 1 Axes>"
      ]
     },
     "metadata": {
      "needs_background": "light"
     },
     "output_type": "display_data"
    }
   ],
   "source": [
    "plot_ft_many(df, 'ft')"
   ]
  },
  {
   "cell_type": "code",
   "execution_count": 21,
   "metadata": {},
   "outputs": [],
   "source": [
    "names = list(df.im_id)\n",
    "feat = list(df.ft)"
   ]
  },
  {
   "cell_type": "code",
   "execution_count": 43,
   "metadata": {},
   "outputs": [],
   "source": [
    "names_flowi = [x+'_flowi' for x in names]\n",
    "flowi = pd.DataFrame()\n",
    "flowi['im_id'] = names_flowi\n",
    "flowi['ft'] = feat\n",
    "\n",
    "flowi.to_csv('lung_table_flowi.csv', index=False)"
   ]
  },
  {
   "cell_type": "code",
   "execution_count": 44,
   "metadata": {},
   "outputs": [],
   "source": [
    "names_outlines = [x+'_outlines' for x in names]\n",
    "outlines = pd.DataFrame()\n",
    "outlines['im_id'] = names_outlines\n",
    "outlines['ft'] = feat\n",
    "\n",
    "outlines.to_csv('lung_table_outlines.csv', index=False)"
   ]
  },
  {
   "cell_type": "code",
   "execution_count": 45,
   "metadata": {},
   "outputs": [],
   "source": [
    "names_overlay = [x+'_overlay' for x in names]\n",
    "overlay = pd.DataFrame()\n",
    "overlay['im_id'] = names_overlay\n",
    "overlay['ft'] = feat\n",
    "\n",
    "overlay.to_csv('lung_table_overlay.csv', index=False)"
   ]
  },
  {
   "cell_type": "code",
   "execution_count": 36,
   "metadata": {},
   "outputs": [
    {
     "data": {
      "image/png": "[encoded data removed]",
      "text/plain": [
       "<Figure size 864x576 with 1 Axes>"
      ]
     },
     "metadata": {
      "needs_background": "light"
     },
     "output_type": "display_data"
    }
   ],
   "source": [
    "plot_ft_many(overlay, 'ft')"
   ]
  },
  {
   "cell_type": "code",
   "execution_count": 46,
   "metadata": {},
   "outputs": [],
   "source": [
    "frames = [df, flowi, outlines,overlay ]\n",
    "all_im = pd.concat(frames)"
   ]
  },
  {
   "cell_type": "code",
   "execution_count": 47,
   "metadata": {},
   "outputs": [
    {
     "data": {
      "text/html": [
       "<div>\n",
       "<style scoped>\n",
       "    .dataframe tbody tr th:only-of-type {\n",
       "        vertical-align: middle;\n",
       "    }\n",
       "\n",
       "    .dataframe tbody tr th {\n",
       "        vertical-align: top;\n",
       "    }\n",
       "\n",
       "    .dataframe thead th {\n",
       "        text-align: right;\n",
       "    }\n",
       "</style>\n",
       "<table border=\"1\" class=\"dataframe\">\n",
       "  <thead>\n",
       "    <tr style=\"text-align: right;\">\n",
       "      <th></th>\n",
       "      <th>im_id</th>\n",
       "      <th>ft</th>\n",
       "    </tr>\n",
       "  </thead>\n",
       "  <tbody>\n",
       "    <tr>\n",
       "      <th>0</th>\n",
       "      <td>1877-8278</td>\n",
       "      <td>Not_Lung</td>\n",
       "    </tr>\n",
       "    <tr>\n",
       "      <th>1</th>\n",
       "      <td>1476-8001</td>\n",
       "      <td>Not_Lung</td>\n",
       "    </tr>\n",
       "    <tr>\n",
       "      <th>2</th>\n",
       "      <td>1068-8758</td>\n",
       "      <td>Not_Lung</td>\n",
       "    </tr>\n",
       "    <tr>\n",
       "      <th>3</th>\n",
       "      <td>2195-8403</td>\n",
       "      <td>Not_Lung</td>\n",
       "    </tr>\n",
       "    <tr>\n",
       "      <th>4</th>\n",
       "      <td>162</td>\n",
       "      <td>Not_Lung</td>\n",
       "    </tr>\n",
       "    <tr>\n",
       "      <th>...</th>\n",
       "      <td>...</td>\n",
       "      <td>...</td>\n",
       "    </tr>\n",
       "    <tr>\n",
       "      <th>731</th>\n",
       "      <td>706-9149_overlay</td>\n",
       "      <td>Not_Lung</td>\n",
       "    </tr>\n",
       "    <tr>\n",
       "      <th>732</th>\n",
       "      <td>153_overlay</td>\n",
       "      <td>Not_Lung</td>\n",
       "    </tr>\n",
       "    <tr>\n",
       "      <th>733</th>\n",
       "      <td>1875-8232_overlay</td>\n",
       "      <td>Lung</td>\n",
       "    </tr>\n",
       "    <tr>\n",
       "      <th>734</th>\n",
       "      <td>2138-8023_overlay</td>\n",
       "      <td>Not_Lung</td>\n",
       "    </tr>\n",
       "    <tr>\n",
       "      <th>735</th>\n",
       "      <td>1747-8787_overlay</td>\n",
       "      <td>Not_Lung</td>\n",
       "    </tr>\n",
       "  </tbody>\n",
       "</table>\n",
       "<p>2944 rows × 2 columns</p>\n",
       "</div>"
      ],
      "text/plain": [
       "                 im_id        ft\n",
       "0            1877-8278  Not_Lung\n",
       "1            1476-8001  Not_Lung\n",
       "2            1068-8758  Not_Lung\n",
       "3            2195-8403  Not_Lung\n",
       "4                  162  Not_Lung\n",
       "..                 ...       ...\n",
       "731   706-9149_overlay  Not_Lung\n",
       "732        153_overlay  Not_Lung\n",
       "733  1875-8232_overlay      Lung\n",
       "734  2138-8023_overlay  Not_Lung\n",
       "735  1747-8787_overlay  Not_Lung\n",
       "\n",
       "[2944 rows x 2 columns]"
      ]
     },
     "execution_count": 47,
     "metadata": {},
     "output_type": "execute_result"
    }
   ],
   "source": [
    "all_im"
   ]
  },
  {
   "cell_type": "code",
   "execution_count": 48,
   "metadata": {},
   "outputs": [],
   "source": [
    "all_im.to_csv('lung_seg_norm.csv', index=False)"
   ]
  },
  {
   "cell_type": "code",
   "execution_count": 49,
   "metadata": {},
   "outputs": [
    {
     "data": {
      "image/png": "[encoded data removed]",
      "text/plain": [
       "<Figure size 864x576 with 1 Axes>"
      ]
     },
     "metadata": {
      "needs_background": "light"
     },
     "output_type": "display_data"
    }
   ],
   "source": [
    "plot_ft_many(all_im, 'ft')"
   ]
  },
  {
   "cell_type": "code",
   "execution_count": 1,
   "metadata": {},
   "outputs": [],
   "source": [
    "import glob\n",
    "import pandas as pd\n",
    "import os"
   ]
  },
  {
   "cell_type": "code",
   "execution_count": 2,
   "metadata": {},
   "outputs": [],
   "source": [
    "tables = glob.glob('../data/pipeline_tables/tissue_norm/*.csv')"
   ]
  },
  {
   "cell_type": "code",
   "execution_count": 3,
   "metadata": {},
   "outputs": [
    {
     "data": {
      "text/plain": [
       "['../data/pipeline_tables/tissue_norm/Kidney_table.csv',\n",
       " '../data/pipeline_tables/tissue_norm/Breast_table.csv',\n",
       " '../data/pipeline_tables/tissue_norm/Lung_table.csv',\n",
       " '../data/pipeline_tables/tissue_norm/Bone_table.csv',\n",
       " '../data/pipeline_tables/tissue_norm/Pancreas_table.csv',\n",
       " '../data/pipeline_tables/tissue_norm/Skin_table.csv',\n",
       " '../data/pipeline_tables/tissue_norm/Ovary_table.csv',\n",
       " '../data/pipeline_tables/tissue_norm/Central_Nervous_System_table.csv',\n",
       " '../data/pipeline_tables/tissue_norm/Head_and_Neck_table.csv',\n",
       " '../data/pipeline_tables/tissue_norm/Haematopoietic_and_Lymphoid_table.csv',\n",
       " '../data/pipeline_tables/tissue_norm/Stomach_table.csv',\n",
       " '../data/pipeline_tables/tissue_norm/Esophagus_table.csv',\n",
       " '../data/pipeline_tables/tissue_norm/Large_Intestine_table.csv',\n",
       " '../data/pipeline_tables/tissue_norm/Peripheral_Nervous_System_table.csv']"
      ]
     },
     "execution_count": 3,
     "metadata": {},
     "output_type": "execute_result"
    }
   ],
   "source": [
    "tables"
   ]
  },
  {
   "cell_type": "code",
   "execution_count": 4,
   "metadata": {},
   "outputs": [],
   "source": [
    "os.mkdir('tissue_flowi')\n",
    "os.mkdir('tissue_outlines')\n",
    "os.mkdir('tissue_overlay')\n",
    "os.mkdir('tissue_norm-seg')"
   ]
  },
  {
   "cell_type": "code",
   "execution_count": 5,
   "metadata": {},
   "outputs": [],
   "source": [
    "for tab in tables:\n",
    "   \n",
    "#     path = tab.split('/')[:-1]\n",
    "#     path ='/'.join(path)+\"/\"+name\n",
    "    \n",
    "    tab_name = tab.split('/')[-1]\n",
    "    name = tab_name.strip('.csv')\n",
    "    \n",
    "#     print (path)\n",
    "    \n",
    "#     os.mkdir(path)\n",
    "    \n",
    "    df = pd.read_csv(tab)\n",
    "    names = list(df.im_id)\n",
    "    feat = list(df.ft)\n",
    "\n",
    "    names_flowi = [x+'_flowi' for x in names]\n",
    "    flowi = pd.DataFrame()\n",
    "    flowi['im_id'] = names_flowi\n",
    "    flowi['ft'] = feat\n",
    "\n",
    "    flowi.to_csv(f'tissue_flowi/{name}_flowi.csv', index=False)\n",
    "\n",
    "    names_outlines = [x+'_outlines' for x in names]\n",
    "    outlines = pd.DataFrame()\n",
    "    outlines['im_id'] = names_outlines\n",
    "    outlines['ft'] = feat\n",
    "\n",
    "    outlines.to_csv(f'tissue_outlines/{name}_outlines.csv', index=False)\n",
    "\n",
    "    names_overlay = [x+'_overlay' for x in names]\n",
    "    overlay = pd.DataFrame()\n",
    "    overlay['im_id'] = names_overlay\n",
    "    overlay['ft'] = feat\n",
    "\n",
    "    overlay.to_csv(f'tissue_overlay/{name}_overlay.csv', index=False)\n",
    "    \n",
    "    all_norm_segmented = pd.concat([df, flowi, outlines, overlay])\n",
    "    all_norm_segmented.to_csv(f'tissue_norm-seg/{name}_norm-seg.csv', index=False)"
   ]
  },
  {
   "cell_type": "code",
   "execution_count": null,
   "metadata": {},
   "outputs": [],
   "source": []
  },
  {
   "cell_type": "code",
   "execution_count": null,
   "metadata": {},
   "outputs": [],
   "source": []
  }
 ],
 "metadata": {
  "kernelspec": {
   "display_name": "Python 3",
   "language": "python",
   "name": "python3"
  },
  "language_info": {
   "codemirror_mode": {
    "name": "ipython",
    "version": 3
   },
   "file_extension": ".py",
   "mimetype": "text/x-python",
   "name": "python",
   "nbconvert_exporter": "python",
   "pygments_lexer": "ipython3",
   "version": "3.7.7"
  }
 },
 "nbformat": 4,
 "nbformat_minor": 4
}
